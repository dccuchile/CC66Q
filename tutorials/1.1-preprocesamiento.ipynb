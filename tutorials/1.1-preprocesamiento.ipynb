{
 "cells": [
  {
   "attachments": {},
   "cell_type": "markdown",
   "metadata": {},
   "source": [
    "# Preprocesamiento de datos de texto"
   ]
  },
  {
   "cell_type": "code",
   "execution_count": 1,
   "metadata": {},
   "outputs": [],
   "source": [
    "import datasets  # Biblioteca de manejo de conjuntos de datos para procesamiento de lenguaje natural\n",
    "import es_core_news_sm  # Modelo Spacy de procesamiento de lenguaje natural en español\n",
    "import spacy  # Biblioteca de procesamiento de lenguaje natural\n",
    "import pandas as pd  # Biblioteca de manejo de conjuntos de datos\n",
    "import re  # Módulo de expresiones regulares\n",
    "import tokenizers  # Biblioteca de tokenización de texto\n",
    "import nltk  # Biblioteca de procesamiento de lenguaje natural\n",
    "from pathlib import Path  # Biblioteca para manejo de paths relativos"
   ]
  },
  {
   "attachments": {},
   "cell_type": "markdown",
   "metadata": {},
   "source": [
    "## 🤗 Datasets\n",
    "\n",
    "🤗 (HuggingFace) Datasets es una biblioteca de manejo de conjuntos de datos para procesamiento de lenguaje natural que se destaca por la simplicidad de sus métodos y el gran repositorio 🤗 Hub que contiene muchos conjuntos de datos libres para descargar sólo con una linea de Python.\n",
    "\n",
    "En nuestro curso trabajaremos con `spanish_diagnostics`, un conjunto de datos de nuestro grupo investigación PLN@CMM que contiene textos de sospechas diagnósticas de la lista de espera chilena y está etiquetado con el destino de la interconsulta; este destino puede ser `dental` o `no_dental`."
   ]
  },
  {
   "cell_type": "code",
   "execution_count": 2,
   "metadata": {},
   "outputs": [],
   "source": [
    "# Con esta linea descargamos el conjunto de datos completo\n",
    "spanish_diagnostics = datasets.load_dataset('fvillena/spanish_diagnostics')"
   ]
  },
  {
   "cell_type": "code",
   "execution_count": 3,
   "metadata": {},
   "outputs": [],
   "source": [
    "def normalize(text, remove_tildes=True):\n",
    "    \"\"\"Normaliza una cadena de texto convirtiéndo todo a minúsculas, quitando los caracteres no alfabéticos y los tildes\"\"\"\n",
    "    text = text.lower()  # Llevamos todo a minúscula\n",
    "    # Reemplazamos los caracteres no alfabéticos por un espacio\n",
    "    text = re.sub(r'[^A-Za-zñáéíóú]', ' ', text)\n",
    "    if remove_tildes:\n",
    "        text = re.sub('á', 'a', text)  # Reemplazamos los tildes\n",
    "        text = re.sub('é', 'e', text)\n",
    "        text = re.sub('í', 'i', text)\n",
    "        text = re.sub('ó', 'o', text)\n",
    "        text = re.sub('ú', 'u', text)\n",
    "    return text"
   ]
  },
  {
   "cell_type": "code",
   "execution_count": 4,
   "metadata": {},
   "outputs": [
    {
     "data": {
      "application/vnd.jupyter.widget-view+json": {
       "model_id": "f12df0e9ab3f45a0ae3baa4d401bc9c7",
       "version_major": 2,
       "version_minor": 0
      },
      "text/plain": [
       "Map:   0%|          | 0/70000 [00:00<?, ? examples/s]"
      ]
     },
     "metadata": {},
     "output_type": "display_data"
    }
   ],
   "source": [
    "spanish_diagnostics_normalized = spanish_diagnostics[\"train\"].map(\n",
    "    lambda x: {  # Utilizamos una función anónima que devuelve un diccionario\n",
    "        # Esta es una nueva característica que agregaremos a nuestro conjunto de datos.\n",
    "        \"normalized_text\": normalize(x[\"text\"])\n",
    "    })"
   ]
  },
  {
   "cell_type": "code",
   "execution_count": 5,
   "metadata": {},
   "outputs": [
    {
     "data": {
      "text/plain": [
       "Dataset({\n",
       "    features: ['text', 'label', 'normalized_text'],\n",
       "    num_rows: 70000\n",
       "})"
      ]
     },
     "execution_count": 5,
     "metadata": {},
     "output_type": "execute_result"
    }
   ],
   "source": [
    "spanish_diagnostics_normalized"
   ]
  },
  {
   "attachments": {},
   "cell_type": "markdown",
   "metadata": {},
   "source": [
    "Ahora nuestro conjunto de datos cuenta con una nueva característica `normalized_text`."
   ]
  },
  {
   "cell_type": "code",
   "execution_count": 6,
   "metadata": {},
   "outputs": [
    {
     "data": {
      "text/plain": [
       "{'text': '- ANOMALÍAS DENTOFACIALES (INCLUSO LA MALOCLUSIÓN)\\n\\n\\n DISCREPANCIA DENTOMAXILAR',\n",
       " 'label': 1,\n",
       " 'normalized_text': '  anomalias dentofaciales  incluso la maloclusion     discrepancia dentomaxilar'}"
      ]
     },
     "execution_count": 6,
     "metadata": {},
     "output_type": "execute_result"
    }
   ],
   "source": [
    "spanish_diagnostics_normalized[0]"
   ]
  },
  {
   "attachments": {},
   "cell_type": "markdown",
   "metadata": {},
   "source": [
    "## Tokenización\n",
    "\n",
    "La tokenización es el proceso de demarcación de secciones de una cadena de caracteres. Estas secciones podrían ser oraciones, palabras o subpalabras.\n",
    "\n",
    "El método más simple para tokenizar una cadena de caracteres en nuestro lenguaje es la separación por espacios. Aplicamos una separación por espacios mediante el método `str.split()` sobre nuestro conjunto de datos normalizado."
   ]
  },
  {
   "cell_type": "code",
   "execution_count": 7,
   "metadata": {},
   "outputs": [
    {
     "data": {
      "text/plain": [
       "'  anomalias dentofaciales  incluso la maloclusion     discrepancia dentomaxilar'"
      ]
     },
     "execution_count": 7,
     "metadata": {},
     "output_type": "execute_result"
    }
   ],
   "source": [
    "spanish_diagnostics_normalized[0][\"normalized_text\"]"
   ]
  },
  {
   "cell_type": "code",
   "execution_count": 8,
   "metadata": {},
   "outputs": [
    {
     "data": {
      "text/plain": [
       "['anomalias',\n",
       " 'dentofaciales',\n",
       " 'incluso',\n",
       " 'la',\n",
       " 'maloclusion',\n",
       " 'discrepancia',\n",
       " 'dentomaxilar']"
      ]
     },
     "execution_count": 8,
     "metadata": {},
     "output_type": "execute_result"
    }
   ],
   "source": [
    "spanish_diagnostics_normalized[0][\"normalized_text\"].split()"
   ]
  },
  {
   "attachments": {},
   "cell_type": "markdown",
   "metadata": {},
   "source": [
    "Si bien el método de separación por espacios funciona bien en nuestro conjunto de datos normalizado, también quisiéramos tokenizar nuestro texto sin normalizar."
   ]
  },
  {
   "cell_type": "code",
   "execution_count": 9,
   "metadata": {},
   "outputs": [
    {
     "data": {
      "text/plain": [
       "'- ANOMALÍAS DENTOFACIALES (INCLUSO LA MALOCLUSIÓN)\\n\\n\\n DISCREPANCIA DENTOMAXILAR'"
      ]
     },
     "execution_count": 9,
     "metadata": {},
     "output_type": "execute_result"
    }
   ],
   "source": [
    "spanish_diagnostics_normalized[0][\"text\"]"
   ]
  },
  {
   "cell_type": "code",
   "execution_count": 10,
   "metadata": {},
   "outputs": [
    {
     "data": {
      "text/plain": [
       "['-',\n",
       " 'ANOMALÍAS',\n",
       " 'DENTOFACIALES',\n",
       " '(INCLUSO',\n",
       " 'LA',\n",
       " 'MALOCLUSIÓN)',\n",
       " 'DISCREPANCIA',\n",
       " 'DENTOMAXILAR']"
      ]
     },
     "execution_count": 10,
     "metadata": {},
     "output_type": "execute_result"
    }
   ],
   "source": [
    "spanish_diagnostics_normalized[0][\"text\"].split()"
   ]
  },
  {
   "attachments": {},
   "cell_type": "markdown",
   "metadata": {},
   "source": [
    "Al aplicar el mismo métodos podemos observar que no funciona totalmente bien debido a la presencia de caracteres no alfabéticos. Para solucionar esto, existen métodos basados en una serie de reglas para solucionar estos problemas. Utilizaremos la implementación de un tokenizador basado en reglas de la biblioteca de procesamiento de lenguaje natural Spacy."
   ]
  },
  {
   "cell_type": "code",
   "execution_count": 11,
   "metadata": {},
   "outputs": [],
   "source": [
    "spacy_tokenizer = es_core_news_sm.load().tokenizer"
   ]
  },
  {
   "cell_type": "code",
   "execution_count": 12,
   "metadata": {},
   "outputs": [
    {
     "data": {
      "text/plain": [
       "[-,\n",
       " ANOMALÍAS,\n",
       " DENTOFACIALES,\n",
       " (,\n",
       " INCLUSO,\n",
       " LA,\n",
       " MALOCLUSIÓN,\n",
       " ),\n",
       " \n",
       " \n",
       " \n",
       "  ,\n",
       " DISCREPANCIA,\n",
       " DENTOMAXILAR]"
      ]
     },
     "execution_count": 12,
     "metadata": {},
     "output_type": "execute_result"
    }
   ],
   "source": [
    "list(spacy_tokenizer(spanish_diagnostics_normalized[0][\"text\"]))"
   ]
  },
  {
   "attachments": {},
   "cell_type": "markdown",
   "metadata": {},
   "source": [
    "Al utilizar el tokenizador basado en reglas, podemos tener resultados mucho mejores que los anteriores."
   ]
  },
  {
   "attachments": {},
   "cell_type": "markdown",
   "metadata": {},
   "source": [
    "### 🤗 Tokenizers"
   ]
  },
  {
   "attachments": {},
   "cell_type": "markdown",
   "metadata": {},
   "source": [
    "🤗 también cuenta con una biblioteca llamada Tokenizers, con la cual podemos construir nuestro tokenizador basado en nuestro conjunto de datos."
   ]
  },
  {
   "attachments": {},
   "cell_type": "markdown",
   "metadata": {},
   "source": [
    "Instanciamos el tokenizador con un modelo WordPiece, el cual parte construyendo un vocabulario que incluye todas los caracteres presentes en el conjunto de datos y posteriormente comienza a mezclar caracteres hasta encontrar conjuntos de caracteres que tienen más probabilidad de aparecer juntos que separados."
   ]
  },
  {
   "cell_type": "code",
   "execution_count": 13,
   "metadata": {},
   "outputs": [],
   "source": [
    "tokenizer = tokenizers.Tokenizer(tokenizers.models.WordPiece())"
   ]
  },
  {
   "attachments": {},
   "cell_type": "markdown",
   "metadata": {},
   "source": [
    "Esta biblioteca nos permite añadir pasos de normalización directamente. Replicamos lo mismo que hacemos con nuestra función `normalizer()`."
   ]
  },
  {
   "cell_type": "code",
   "execution_count": 14,
   "metadata": {},
   "outputs": [],
   "source": [
    "normalizer = tokenizers.normalizers.Sequence([\n",
    "    tokenizers.normalizers.Lowercase(),  # Llevamos todo a minúscula\n",
    "    # Separamos cada caracter según los elementos que lo componen: á -> (a, ´)\n",
    "    tokenizers.normalizers.NFD(),\n",
    "    tokenizers.normalizers.StripAccents(),  # Eliminamos todos los acentos\n",
    "    # Reemplazamos todos los caracteres no alfabéticos\n",
    "    tokenizers.normalizers.Replace(tokenizers.Regex(r\"[^a-z ]\"), \" \")\n",
    "])"
   ]
  },
  {
   "cell_type": "code",
   "execution_count": 15,
   "metadata": {},
   "outputs": [
    {
     "data": {
      "text/plain": [
       "'  anomalias dentofaciales  incluso la maloclusion     discrepancia dentomaxilar'"
      ]
     },
     "execution_count": 15,
     "metadata": {},
     "output_type": "execute_result"
    }
   ],
   "source": [
    "normalizer.normalize_str(spanish_diagnostics_normalized[0][\"text\"])"
   ]
  },
  {
   "attachments": {},
   "cell_type": "markdown",
   "metadata": {},
   "source": [
    "Añadimos el normalizador al tokenizador"
   ]
  },
  {
   "cell_type": "code",
   "execution_count": 16,
   "metadata": {},
   "outputs": [],
   "source": [
    "tokenizer.normalizer = normalizer"
   ]
  },
  {
   "attachments": {},
   "cell_type": "markdown",
   "metadata": {},
   "source": [
    "Pre tokenizamos nuestro conjunto de datos mediante espacio para delimitar el tamaño que puede tener cada token."
   ]
  },
  {
   "cell_type": "code",
   "execution_count": 17,
   "metadata": {},
   "outputs": [],
   "source": [
    "tokenizer.pre_tokenizer = tokenizers.pre_tokenizers.Whitespace()"
   ]
  },
  {
   "attachments": {},
   "cell_type": "markdown",
   "metadata": {},
   "source": [
    "Instanciamos el entrenador que entrenará nuestro tokenizador."
   ]
  },
  {
   "cell_type": "code",
   "execution_count": 18,
   "metadata": {},
   "outputs": [],
   "source": [
    "trainer = tokenizers.trainers.WordPieceTrainer()"
   ]
  },
  {
   "attachments": {},
   "cell_type": "markdown",
   "metadata": {},
   "source": [
    "Entrenamos el tokenizador sobre nuestro conjunto de datos."
   ]
  },
  {
   "cell_type": "code",
   "execution_count": 19,
   "metadata": {},
   "outputs": [
    {
     "name": "stdout",
     "output_type": "stream",
     "text": [
      "\n",
      "\n",
      "\n"
     ]
    }
   ],
   "source": [
    "tokenizer.train_from_iterator(spanish_diagnostics_normalized[\"text\"], trainer)"
   ]
  },
  {
   "attachments": {},
   "cell_type": "markdown",
   "metadata": {},
   "source": [
    "Mediante el método `Tokenizer.encode()` obtenemos la representación tokenizada de nuesto texto. Esta representación contiene varios atributos, donde los más interesantes son:\n",
    "\n",
    "- `ids`: Contiene nuestro texto representado a través de una lista que contiene los identificadores de cada token.\n",
    "- `tokens`: Contiene nuestro texto representado a través de una lista que contiene el texto de cada token."
   ]
  },
  {
   "cell_type": "code",
   "execution_count": 20,
   "metadata": {},
   "outputs": [
    {
     "data": {
      "text/plain": [
       "'- ANOMALÍAS DENTOFACIALES (INCLUSO LA MALOCLUSIÓN)\\n\\n\\n DISCREPANCIA DENTOMAXILAR'"
      ]
     },
     "execution_count": 20,
     "metadata": {},
     "output_type": "execute_result"
    }
   ],
   "source": [
    "spanish_diagnostics_normalized[0][\"text\"]"
   ]
  },
  {
   "cell_type": "code",
   "execution_count": 21,
   "metadata": {},
   "outputs": [],
   "source": [
    "tokenized_output = tokenizer.encode(spanish_diagnostics_normalized[0][\"text\"])"
   ]
  },
  {
   "cell_type": "code",
   "execution_count": 22,
   "metadata": {},
   "outputs": [
    {
     "data": {
      "text/plain": [
       "{'dentinario': 7969,\n",
       " '##yendo': 6952,\n",
       " '##zop': 24640,\n",
       " 'obd': 14706,\n",
       " 'bruxismp': 19172,\n",
       " 'cronicaobs': 28192,\n",
       " 'oftalmopatia': 8740,\n",
       " 'exemen': 27440,\n",
       " 'nw': 23085,\n",
       " '##pcion': 6951,\n",
       " '##olia': 4424,\n",
       " '##tigos': 23756,\n",
       " 'aplic': 11318,\n",
       " 'nncleo': 22172,\n",
       " 'perof': 27927,\n",
       " 'ne': 406,\n",
       " 'mascul': 1538,\n",
       " '##urotico': 15647,\n",
       " '##uep': 24130,\n",
       " '##oturada': 27541,\n",
       " 'importante': 3318,\n",
       " 'obsturaciones': 18150,\n",
       " '##zmatica': 24655,\n",
       " 'const': 2368,\n",
       " '##lastoma': 7421,\n",
       " 'edent': 1036,\n",
       " 'my': 11090,\n",
       " '##intomatico': 15115,\n",
       " 'menop': 15205,\n",
       " 'mill': 15878,\n",
       " 'perdiendo': 19134,\n",
       " 'wise': 23563,\n",
       " 'calicilar': 15263,\n",
       " 'independ': 19041,\n",
       " 'progn': 27210,\n",
       " 'novo': 27314,\n",
       " 'nuevas': 6805,\n",
       " '##iliente': 26159,\n",
       " '##regular': 18244,\n",
       " '##orte': 3758,\n",
       " '##gnatismo': 4237,\n",
       " 'exacto': 27419,\n",
       " '##xx': 6681,\n",
       " '##eratorio': 12540,\n",
       " 'fic': 5125,\n",
       " 'indiferenciada': 21675,\n",
       " 'colnnica': 29927,\n",
       " '##iamiento': 12568,\n",
       " 'fictula': 20786,\n",
       " 'antecedentse': 29799,\n",
       " 'normal': 1056,\n",
       " 'monostotica': 21918,\n",
       " 'mesiodistal': 19202,\n",
       " 'dnto': 16917,\n",
       " 'hiperart': 28941,\n",
       " '##ibularizada': 29566,\n",
       " 'xca': 23570,\n",
       " 'efectuada': 16368,\n",
       " 'parcialsup': 27558,\n",
       " 'preset': 18364,\n",
       " 'boliv': 20614,\n",
       " 'bulb': 7442,\n",
       " '##titucion': 6381,\n",
       " 'aceto': 28835,\n",
       " 'holoc': 7796,\n",
       " 'periodontotis': 14854,\n",
       " 'inmadur': 15610,\n",
       " '##terigio': 28415,\n",
       " 'caen': 18799,\n",
       " 'cong': 2830,\n",
       " 'lisis': 22964,\n",
       " '##pido': 24532,\n",
       " '##mod': 7542,\n",
       " 'metal': 2540,\n",
       " '##inma': 25496,\n",
       " 'tricotilomania': 12163,\n",
       " 'mias': 6652,\n",
       " 'fetopelviana': 20225,\n",
       " '##part': 24545,\n",
       " '##imandibular': 18272,\n",
       " '##axilit': 28308,\n",
       " 'generalizada': 516,\n",
       " '##tesica': 5857,\n",
       " '##pesivo': 24549,\n",
       " '##cismo': 24010,\n",
       " 'intensidad': 4107,\n",
       " 'molarcaries': 29621,\n",
       " '##inencia': 1153,\n",
       " '##wood': 7936,\n",
       " 'incompleta': 4760,\n",
       " 'alimentarios': 19892,\n",
       " 'desdentbtotal': 27343,\n",
       " '##eren': 24835,\n",
       " 'onf': 19799,\n",
       " '##rac': 17279,\n",
       " 'ureteral': 6814,\n",
       " 'defecar': 13778,\n",
       " 'anatomica': 9964,\n",
       " 'mort': 8073,\n",
       " '##estono': 29083,\n",
       " 'artoplastia': 28542,\n",
       " 'instestino': 29790,\n",
       " 'can': 517,\n",
       " 'ddm': 3632,\n",
       " 'mam': 1347,\n",
       " 'biem': 22498,\n",
       " 'atop': 6636,\n",
       " 'impectada': 29499,\n",
       " '##quedad': 6247,\n",
       " 'mistro': 23078,\n",
       " 'coronarea': 29739,\n",
       " 'inguinoescrotal': 8197,\n",
       " 'osti': 18863,\n",
       " '##ulpable': 19912,\n",
       " 'reforzada': 22003,\n",
       " '##licosis': 19219,\n",
       " 'reag': 14617,\n",
       " 'estructural': 13106,\n",
       " '##undent': 26668,\n",
       " 'obutacion': 18037,\n",
       " '##zeter': 24652,\n",
       " 'clae': 11847,\n",
       " 'endodoncista': 21195,\n",
       " 'adolescencia': 9898,\n",
       " 'ans': 2074,\n",
       " 'inmersion': 19741,\n",
       " '##encefalia': 20348,\n",
       " '##app': 11499,\n",
       " '##ntecedentes': 24830,\n",
       " 'dentision': 14679,\n",
       " '##ilicito': 26184,\n",
       " 'raducular': 29951,\n",
       " 'eruccion': 18592,\n",
       " 'brill': 18942,\n",
       " 'porcelana': 6633,\n",
       " '##gados': 12521,\n",
       " '##iual': 23611,\n",
       " '##ocotos': 28386,\n",
       " 'quillo': 27825,\n",
       " 'tuberculina': 20650,\n",
       " 'deespacio': 22192,\n",
       " '##apital': 15029,\n",
       " 'hipogastralgia': 21008,\n",
       " 'recibio': 8638,\n",
       " 'endodonticamnte': 16563,\n",
       " 'rebasado': 19447,\n",
       " 'monoc': 17044,\n",
       " 'poliglobulia': 21246,\n",
       " 'aburre': 28663,\n",
       " '##udeza': 11418,\n",
       " '##oes': 14280,\n",
       " 'obes': 4615,\n",
       " 'desfavorable': 12296,\n",
       " 'fisicos': 13080,\n",
       " 'apretarse': 21886,\n",
       " '##olias': 10274,\n",
       " 'pieza': 113,\n",
       " '##los': 1842,\n",
       " 'abominal': 28667,\n",
       " '##amavio': 26044,\n",
       " 'bol': 4328,\n",
       " '##nr': 4341,\n",
       " 'glaucoma': 1453,\n",
       " 'lumbocia': 2369,\n",
       " '##enario': 25583,\n",
       " '##ils': 26156,\n",
       " '##ectomizada': 4768,\n",
       " 'ewn': 22659,\n",
       " 'recu': 15078,\n",
       " 'vespertino': 13954,\n",
       " '##ofeptica': 29554,\n",
       " 'arcades': 19753,\n",
       " 'destel': 26589,\n",
       " 'simdrome': 20772,\n",
       " 'generalizadasevera': 21494,\n",
       " 'desinhib': 26613,\n",
       " 'eoj': 22669,\n",
       " 'lcf': 5762,\n",
       " 'pon': 7893,\n",
       " 'diabtes': 18951,\n",
       " 'psiquit': 22037,\n",
       " 'rpura': 23306,\n",
       " 'trataria': 28039,\n",
       " 'incluasiones': 29684,\n",
       " '##antecedentes': 8667,\n",
       " 'percer': 27929,\n",
       " 'urente': 5697,\n",
       " 'toracico': 3628,\n",
       " 'degeneraciones': 8576,\n",
       " 'necrosia': 16249,\n",
       " 'constata': 8148,\n",
       " '##trepanacion': 16549,\n",
       " '##atod': 25870,\n",
       " '##ima': 1785,\n",
       " 'nazareth': 22354,\n",
       " 'msis': 11095,\n",
       " '##iico': 14256,\n",
       " 'semantecedentes': 28232,\n",
       " 'incisal': 4968,\n",
       " 'migranas': 13646,\n",
       " 'smc': 23353,\n",
       " 'merio': 11091,\n",
       " 'altos': 14842,\n",
       " 'pririginosa': 22213,\n",
       " 'actuales': 7694,\n",
       " 'bnsica': 22504,\n",
       " '##gnostico': 24718,\n",
       " 'emab': 6125,\n",
       " 'trepan': 225,\n",
       " '##ocio': 7297,\n",
       " 'evaluc': 9914,\n",
       " 'toc': 9417,\n",
       " 'retira': 11676,\n",
       " '##episodio': 18179,\n",
       " 'desemp': 26588,\n",
       " '##fenaco': 16305,\n",
       " 'timp': 1768,\n",
       " 'pueden': 15665,\n",
       " 'vava': 21934,\n",
       " 'oberbite': 21119,\n",
       " 'duchenne': 21605,\n",
       " '##omixoma': 26242,\n",
       " '##ixoma': 8052,\n",
       " '##ases': 25540,\n",
       " 'neonatal': 4445,\n",
       " '##adadent': 20828,\n",
       " 'cuya': 18744,\n",
       " '##erizacion': 24860,\n",
       " 'cografia': 22537,\n",
       " 'aenesia': 22436,\n",
       " 'verugas': 21550,\n",
       " '##iddas': 25774,\n",
       " 'cansancio': 6183,\n",
       " 'abduccion': 5519,\n",
       " 'avance': 15362,\n",
       " '##lores': 15599,\n",
       " 'deiente': 24923,\n",
       " 'cucocele': 22561,\n",
       " 'funda': 28053,\n",
       " 'verrucosa': 13724,\n",
       " '##icitromb': 28296,\n",
       " '##eros': 1217,\n",
       " 'borrosa': 3796,\n",
       " 'mielo': 15468,\n",
       " 'pact': 4350,\n",
       " '##uris': 26728,\n",
       " 'spm': 20342,\n",
       " '##itivo': 1590,\n",
       " 'ppiezas': 19642,\n",
       " '##lox': 12897,\n",
       " 'hiperpigmentado': 11929,\n",
       " 'dentl': 26804,\n",
       " 'ginf': 22758,\n",
       " 'mgr': 23036,\n",
       " 'pocos': 11105,\n",
       " '##omas': 1095,\n",
       " 'queratitis': 6325,\n",
       " '##iotipo': 7460,\n",
       " 'aprendis': 13548,\n",
       " 'adher': 3520,\n",
       " 'acrom': 4441,\n",
       " 'ys': 17199,\n",
       " '##ineonato': 19650,\n",
       " '##uclear': 21772,\n",
       " '##acinn': 1196,\n",
       " '##endato': 15148,\n",
       " 'necesarios': 19963,\n",
       " 'lcl': 22945,\n",
       " 'dentoposicion': 26826,\n",
       " 'dp': 4779,\n",
       " '##ilemia': 26165,\n",
       " 'apne': 5153,\n",
       " 'denticion': 653,\n",
       " 'impulso': 8452,\n",
       " 'sento': 23351,\n",
       " 'co': 904,\n",
       " '##terna': 14894,\n",
       " 'web': 9426,\n",
       " 'miopatia': 11093,\n",
       " 'crev': 12707,\n",
       " '##inante': 17666,\n",
       " 'diafragmatica': 7833,\n",
       " 'pariodontitis': 17904,\n",
       " '##fagitis': 24418,\n",
       " 'especifico': 4938,\n",
       " 'quiq': 27836,\n",
       " 'astral': 29269,\n",
       " 'aliada': 27983,\n",
       " 'salbut': 10599,\n",
       " 'inflamatorias': 7085,\n",
       " '##ince': 1614,\n",
       " 'obste': 7982,\n",
       " '##imetria': 9111,\n",
       " 'fren': 1173,\n",
       " '##ogica': 18378,\n",
       " 'compginal': 28768,\n",
       " 'comunic': 13344,\n",
       " 'ostium': 22282,\n",
       " '##esico': 25124,\n",
       " 'plas': 6196,\n",
       " 'palatinizada': 5605,\n",
       " 'cus': 16880,\n",
       " 'novafem': 22227,\n",
       " '##itu': 7261,\n",
       " 'angioma': 7680,\n",
       " '##net': 8340,\n",
       " '##oarticular': 23800,\n",
       " '##vasc': 24456,\n",
       " '##ique': 2218,\n",
       " 'anclaje': 13770,\n",
       " 'rubor': 16422,\n",
       " 'antec': 329,\n",
       " '##omagia': 29695,\n",
       " 'dificultades': 4736,\n",
       " 'alta': 1096,\n",
       " 'viernes': 10097,\n",
       " '##ogag': 28335,\n",
       " '##ustado': 15752,\n",
       " '##ecdente': 25720,\n",
       " '##emedular': 27055,\n",
       " 'perioc': 3271,\n",
       " '##ubital': 11669,\n",
       " '##isodio': 16668,\n",
       " 'braquio': 13533,\n",
       " '##ocal': 912,\n",
       " '##atl': 25865,\n",
       " 'arritmias': 8138,\n",
       " '##plex': 16211,\n",
       " 'pulpntis': 14787,\n",
       " '##inico': 7563,\n",
       " 'hijos': 8157,\n",
       " 'irreves': 8446,\n",
       " 'movil': 2716,\n",
       " 'preclampsia': 9754,\n",
       " 'ventilacion': 13804,\n",
       " '##roquial': 26108,\n",
       " 'coagulopatia': 13578,\n",
       " 'osc': 6745,\n",
       " '##sio': 17227,\n",
       " 'palpab': 15390,\n",
       " 'sincit': 18258,\n",
       " 'pena': 18612,\n",
       " 'primeras': 19144,\n",
       " 'boca': 1584,\n",
       " 'asten': 15012,\n",
       " '##table': 9512,\n",
       " 'trizada': 26397,\n",
       " 'comora': 28447,\n",
       " 'endondoncia': 16480,\n",
       " 'fico': 16935,\n",
       " 'epigastralgia': 3625,\n",
       " 'anteceente': 21542,\n",
       " 'oblic': 11348,\n",
       " '##abrit': 28924,\n",
       " 'mord': 2822,\n",
       " 'aport': 26525,\n",
       " '##antomas': 28111,\n",
       " '##ac': 64,\n",
       " '##eptico': 6717,\n",
       " 'portad': 19026,\n",
       " 'escamoso': 10011,\n",
       " 'reingreso': 12231,\n",
       " '##amentosa': 7602,\n",
       " 'gip': 22738,\n",
       " 'deformidad': 2594,\n",
       " 'superi': 19312,\n",
       " '##ammag': 26047,\n",
       " 'mom': 2531,\n",
       " 'ppb': 6795,\n",
       " '##eco': 5033,\n",
       " '##ectada': 12967,\n",
       " 'tomografia': 15842,\n",
       " '##upci': 26457,\n",
       " 'menos': 2591,\n",
       " 'fasc': 4002,\n",
       " '##term': 4622,\n",
       " '##peg': 24538,\n",
       " 'coxartrosis': 2965,\n",
       " 'sintomatico': 1989,\n",
       " 'hiperg': 6261,\n",
       " 'ovario': 1797,\n",
       " 'maltrato': 12240,\n",
       " 'aluvion': 16793,\n",
       " 'determin': 5142,\n",
       " '##oescoliosis': 12444,\n",
       " '##stic': 5271,\n",
       " 'cirrosis': 4217,\n",
       " 'prsenta': 13749,\n",
       " '##esofag': 2659,\n",
       " 'parane': 9503,\n",
       " 'visto': 8051,\n",
       " 'diarreicas': 16032,\n",
       " 'aliment': 2048,\n",
       " 'coxoartrosis': 8118,\n",
       " 'ritmo': 3638,\n",
       " 'program': 7355,\n",
       " '##ceral': 24006,\n",
       " 'anht': 26885,\n",
       " 'desajustadas': 3379,\n",
       " 'insf': 6072,\n",
       " 'transt': 10569,\n",
       " 'intermedia': 15663,\n",
       " 'desdentadoparcial': 14881,\n",
       " 'gastrodu': 19669,\n",
       " 'exosto': 27423,\n",
       " 'fueron': 9855,\n",
       " 'velo': 14241,\n",
       " 'espinoso': 14723,\n",
       " '##omolar': 17849,\n",
       " 'conyugal': 22200,\n",
       " '##itizada': 25642,\n",
       " '##tomica': 17268,\n",
       " '##orelacion': 25469,\n",
       " 'maligno': 1472,\n",
       " '##ae': 5022,\n",
       " 'condicion': 6308,\n",
       " 'sf': 14206,\n",
       " 'eventr': 18206,\n",
       " 'cab': 1324,\n",
       " 'odontopediatria': 8763,\n",
       " '##atiles': 25897,\n",
       " 'sordo': 12057,\n",
       " '##quimo': 27124,\n",
       " 'suifilis': 29146,\n",
       " 'soluciones': 28070,\n",
       " 'distiroidea': 20175,\n",
       " 'preocupacion': 10013,\n",
       " 'deciduos': 21141,\n",
       " '##caria': 24004,\n",
       " 'severacaries': 29245,\n",
       " 'or': 377,\n",
       " 'geniculada': 29419,\n",
       " 'estertores': 11696,\n",
       " 'topico': 13676,\n",
       " '##pul': 24522,\n",
       " '##folix': 16210,\n",
       " '##itis': 104,\n",
       " 'asi': 6735,\n",
       " 'lunes': 10961,\n",
       " '##enorre': 16456,\n",
       " 'edem': 19127,\n",
       " '##uchas': 13540,\n",
       " 'television': 15941,\n",
       " 'tubaria': 4171,\n",
       " 'parosistica': 22205,\n",
       " 'anilo': 26869,\n",
       " 'erupci': 15915,\n",
       " 'ries': 2197,\n",
       " '##oplastias': 15923,\n",
       " 'sequ': 26196,\n",
       " 'trepanados': 6482,\n",
       " '##kay': 14407,\n",
       " '##ucular': 14809,\n",
       " 'cr': 143,\n",
       " 'dgen': 14086,\n",
       " 'quiru': 8543,\n",
       " 'milagia': 20229,\n",
       " '##lebitico': 21437,\n",
       " 'overjet': 1396,\n",
       " '##pcionada': 13743,\n",
       " '##vero': 11366,\n",
       " 'paruliz': 26511,\n",
       " 'pulpotr': 27646,\n",
       " 'mental': 2042,\n",
       " 'complej': 9703,\n",
       " '##omot': 7576,\n",
       " '##dermatitis': 16092,\n",
       " 'minimos': 15694,\n",
       " '##ser': 23636,\n",
       " 'cronio': 27778,\n",
       " 'trta': 26390,\n",
       " 'sujet': 29143,\n",
       " 'respuesta': 2172,\n",
       " 'cigarros': 10000,\n",
       " '##entario': 17599,\n",
       " '##irores': 28727,\n",
       " 'callo': 13025,\n",
       " 'coll': 12923,\n",
       " 'recurrente': 987,\n",
       " 'constant': 9026,\n",
       " 'trombosada': 12052,\n",
       " 'incip': 3768,\n",
       " '##litis': 12480,\n",
       " 'postraumatico': 9979,\n",
       " 'intermamaria': 19838,\n",
       " '##tical': 23714,\n",
       " 'lengual': 10560,\n",
       " 'severa': 420,\n",
       " '##mas': 4011,\n",
       " '##iden': 9482,\n",
       " '##itesis': 25655,\n",
       " '##oft': 29544,\n",
       " 'ataq': 20467,\n",
       " '##antero': 28107,\n",
       " 'obsv': 27390,\n",
       " 'diacopatia': 29038,\n",
       " 'dorsal': 2341,\n",
       " 'hipoalbum': 19031,\n",
       " 'sindome': 15172,\n",
       " 'anaurosis': 18007,\n",
       " 'koyanag': 22165,\n",
       " 'supierior': 26927,\n",
       " 'pc': 493,\n",
       " 'mixto': 2959,\n",
       " 'controlada': 2348,\n",
       " '##rillo': 23824,\n",
       " 'aoc': 12302,\n",
       " 'previa': 893,\n",
       " 'coronas': 7032,\n",
       " '##tro': 375,\n",
       " 'interincis': 6523,\n",
       " 'asoplo': 29278,\n",
       " 'evidente': 3856,\n",
       " 'banda': 16873,\n",
       " 'inflamacion': 2040,\n",
       " '##igal': 18221,\n",
       " 'valgo': 2336,\n",
       " '##enciapatia': 28803,\n",
       " '##omatologia': 18683,\n",
       " 'subaracnoidea': 10996,\n",
       " 'exort': 27416,\n",
       " 'pli': 19007,\n",
       " 'rangos': 10094,\n",
       " 'espanol': 27191,\n",
       " 'protension': 27213,\n",
       " 'mantiene': 4859,\n",
       " 'ucr': 23466,\n",
       " 'centra': 15654,\n",
       " 'decapullar': 16651,\n",
       " 'om': 2113,\n",
       " 'pequena': 5482,\n",
       " '##oideal': 20753,\n",
       " '##ider': 25744,\n",
       " 'filo': 8296,\n",
       " 'desc': 793,\n",
       " 'mnxima': 17052,\n",
       " 'reatr': 26349,\n",
       " '##idsa': 25770,\n",
       " '##siva': 11140,\n",
       " 'acuf': 12051,\n",
       " '##pom': 24526,\n",
       " 'reserv': 15025,\n",
       " '##toes': 18047,\n",
       " 'umbilicadas': 21576,\n",
       " 'anex': 2075,\n",
       " 'psicosis': 7337,\n",
       " 'anicoto': 26909,\n",
       " 'izquierdainsuficiencia': 29803,\n",
       " 'referencia': 16129,\n",
       " 'conocidas': 6579,\n",
       " 'genitales': 3819,\n",
       " '##istes': 25224,\n",
       " '##zan': 14390,\n",
       " 'mesioinclinados': 10770,\n",
       " 'adda': 15038,\n",
       " '##solicit': 23681,\n",
       " '##ost': 805,\n",
       " '##inx': 10253,\n",
       " 'revisa': 10799,\n",
       " 'difficultad': 11739,\n",
       " 'pgta': 11810,\n",
       " 'dado': 5255,\n",
       " 'metalico': 9831,\n",
       " '##eacea': 24274,\n",
       " 'tirads': 5644,\n",
       " '##ocon': 4360,\n",
       " 'ralizar': 21615,\n",
       " 'encefalo': 6842,\n",
       " 'ez': 6917,\n",
       " 'postherpes': 16623,\n",
       " '##tusion': 23729,\n",
       " '##coc': 14300,\n",
       " '##meter': 24497,\n",
       " '##sacion': 14264,\n",
       " 'negativos': 7101,\n",
       " 'prolongacion': 4050,\n",
       " 'pete': 8556,\n",
       " '##ecular': 11264,\n",
       " 'seminclinada': 28231,\n",
       " 'etmoidal': 21699,\n",
       " 'pulsatil': 7862,\n",
       " 'agemecia': 29175,\n",
       " 'se': 90,\n",
       " 'pulptis': 14785,\n",
       " '##rotura': 26100,\n",
       " 'abcesos': 9589,\n",
       " '##ultas': 10430,\n",
       " 'sot': 14209,\n",
       " 'triple': 5841,\n",
       " '##diastolica': 21514,\n",
       " '##coronaritis': 24057,\n",
       " '##ural': 1889,\n",
       " 'luxaci': 20272,\n",
       " '##osartan': 25358,\n",
       " 'agguda': 29169,\n",
       " '##ento': 1094,\n",
       " 'antidia': 27374,\n",
       " 'procedimiento': 5501,\n",
       " 'oto': 6418,\n",
       " '##ucoma': 1373,\n",
       " 'talla': 2220,\n",
       " '##arit': 25014,\n",
       " '##illar': 17835,\n",
       " 'obser': 11368,\n",
       " 'aparatologia': 15520,\n",
       " '##lemordida': 24231,\n",
       " 'estolo': 28897,\n",
       " 'aculsiva': 28843,\n",
       " 'dernatitis': 27148,\n",
       " '##erancias': 24870,\n",
       " 'fecaloma': 21055,\n",
       " '##vuls': 24451,\n",
       " 'orientado': 16468,\n",
       " 'hy': 12343,\n",
       " 'molestan': 15595,\n",
       " '##itantemente': 17708,\n",
       " '##imientos': 3273,\n",
       " '##iltg': 26193,\n",
       " 'sintomatica': 870,\n",
       " 'recepcion': 15084,\n",
       " 'ametropia': 15193,\n",
       " '##anal': 6971,\n",
       " 'flia': 20258,\n",
       " 'faringeos': 20136,\n",
       " 'agrec': 29158,\n",
       " '##lebitis': 4932,\n",
       " 'melanoma': 3152,\n",
       " 'mientras': 10092,\n",
       " 'acreciones': 9361,\n",
       " 'calcificada': 12027,\n",
       " 'liz': 17026,\n",
       " '##iopia': 2217,\n",
       " 'hepatocelular': 19361,\n",
       " 'infecciosa': 7784,\n",
       " 'apice': 4273,\n",
       " 'ors': 18671,\n",
       " 'extremdiad': 19536,\n",
       " 'gst': 22766,\n",
       " 'vida': 3695,\n",
       " 'arv': 28512,\n",
       " '##kuda': 24777,\n",
       " 'dolorso': 28613,\n",
       " '##inaciones': 8884,\n",
       " '##icis': 14443,\n",
       " 'epigastr': 2529,\n",
       " '##itasis': 8595,\n",
       " 'cau': 15119,\n",
       " '##imagen': 18273,\n",
       " '##etrio': 14943,\n",
       " '##orno': 6020,\n",
       " 'cente': 22521,\n",
       " '##iculado': 15294,\n",
       " 'plast': 11104,\n",
       " 'dienteapinamiento': 28679,\n",
       " '##angr': 1117,\n",
       " 'obscr': 27393,\n",
       " 'nucleo': 2853,\n",
       " 'lp': 10143,\n",
       " 'inferiorres': 27482,\n",
       " 'recuperada': 9226,\n",
       " 'antagon': 5247,\n",
       " 'intercalar': 15588,\n",
       " '##ngar': 23944,\n",
       " '##anzo': 17777,\n",
       " 'eliminar': 9844,\n",
       " 'periodicamente': 13311,\n",
       " 'correctiva': 20538,\n",
       " 'incisivos': 1970,\n",
       " 'seguimiento': 2272,\n",
       " '##ifilis': 4718,\n",
       " 'ayuna': 12053,\n",
       " 'qla': 23257,\n",
       " 'anoram': 26870,\n",
       " '##ia': 62,\n",
       " '##nion': 17305,\n",
       " 'realcio': 28973,\n",
       " 'ur': 589,\n",
       " 'inoc': 8898,\n",
       " 'sir': 10166,\n",
       " 'extenso': 5452,\n",
       " 'problematico': 15608,\n",
       " 'cercanos': 15947,\n",
       " 'resgo': 29343,\n",
       " 'suspendido': 6353,\n",
       " 'cronologica': 27787,\n",
       " '##algias': 5540,\n",
       " 'especificidad': 28551,\n",
       " '##andole': 15419,\n",
       " 'desnutrir': 16486,\n",
       " 'her': 455,\n",
       " 'objetos': 6874,\n",
       " '##lojia': 29373,\n",
       " 'recalca': 29893,\n",
       " '##vula': 8858,\n",
       " '##raquis': 15899,\n",
       " '##eadas': 10210,\n",
       " 'cordal': 13633,\n",
       " 'resiente': 29337,\n",
       " 'hidrocefalea': 8127,\n",
       " 'discapac': 11610,\n",
       " 'retinia': 11984,\n",
       " 'globoso': 20213,\n",
       " 'desentrada': 26604,\n",
       " 'blanquec': 5349,\n",
       " 'giravension': 22160,\n",
       " '##amtes': 26003,\n",
       " 'diaf': 3920,\n",
       " '##uo': 4689,\n",
       " 'deri': 18066,\n",
       " '##abatr': 28926,\n",
       " '##idades': 1192,\n",
       " '##terodina': 28417,\n",
       " 'min': 2046,\n",
       " '##igoideo': 19324,\n",
       " '##rtritis': 23870,\n",
       " 'noloa': 23148,\n",
       " '##tewing': 27353,\n",
       " 'reglas': 10533,\n",
       " '##dena': 24096,\n",
       " '##rt': 7231,\n",
       " '##w': 47,\n",
       " 'aura': 5524,\n",
       " '##area': 14439,\n",
       " 'concavo': 11294,\n",
       " 'poliartropatia': 20099,\n",
       " 'formo': 6414,\n",
       " 'intermedio': 19837,\n",
       " 'previas': 9696,\n",
       " 'hsa': 22831,\n",
       " 'esapcio': 21954,\n",
       " '##esir': 25127,\n",
       " '##edecolitiasis': 27724,\n",
       " '##berosidad': 24337,\n",
       " 'fnstula': 14020,\n",
       " 'realizando': 8457,\n",
       " 'anual': 5421,\n",
       " 'semierocion': 19287,\n",
       " '##puer': 24536,\n",
       " 'dermato': 15402,\n",
       " '##epemia': 27497,\n",
       " 'pulpectoria': 27655,\n",
       " 'fresca': 22000,\n",
       " 'mesioinclinacinn': 20515,\n",
       " 'irrebersible': 12896,\n",
       " 'espec': 189,\n",
       " 'dispos': 2925,\n",
       " 'terr': 11576,\n",
       " '##natada': 23970,\n",
       " 'pulpis': 18209,\n",
       " 'incapac': 10466,\n",
       " 'espontane': 15725,\n",
       " '##oloeradas': 20216,\n",
       " 'espod': 18076,\n",
       " 'los': 369,\n",
       " '##ve': 557,\n",
       " '##min': 747,\n",
       " 'fibro': 3527,\n",
       " '##ivular': 5673,\n",
       " '##eneo': 25589,\n",
       " 'analgesica': 20670,\n",
       " 'particial': 26490,\n",
       " 'asoma': 29263,\n",
       " 'anexo': 6817,\n",
       " 'coraliforme': 15253,\n",
       " 'uncoartrosis': 7672,\n",
       " '##otan': 27522,\n",
       " 'presentaantecdentes': 28759,\n",
       " '##idads': 27609,\n",
       " 'acrec': 28823,\n",
       " 'dsc': 20363,\n",
       " 'luego': 2821,\n",
       " 'fotopsias': 16637,\n",
       " 'crear': 20288,\n",
       " 'hdl': 6131,\n",
       " '##elcal': 28267,\n",
       " 'desdenat': 7432,\n",
       " '##trual': 8906,\n",
       " 'pico': 23183,\n",
       " 'atenc': 15363,\n",
       " 'convexidad': 11003,\n",
       " '##fies': 24365,\n",
       " 'das': 14082,\n",
       " 'nombre': 22171,\n",
       " '##ocrane': 11439,\n",
       " 'observacio': 19020,\n",
       " 'suproespinoso': 16552,\n",
       " 'biap': 22472,\n",
       " 'odontologicamente': 15273,\n",
       " 'pondoestatural': 16752,\n",
       " 'mih': 10790,\n",
       " 'meibomio': 19626,\n",
       " 'trismus': 8770,\n",
       " 'piezas': 409,\n",
       " 'moderada': 584,\n",
       " 'cb': 22508,\n",
       " 'presnta': 8430,\n",
       " 'largo': 4728,\n",
       " 'hmb': 22801,\n",
       " '##isc': 3755,\n",
       " 'daria': 11047,\n",
       " 'realize': 29721,\n",
       " 'aprecia': 3891,\n",
       " 'faceta': 15703,\n",
       " 'notan': 27326,\n",
       " 'extrema': 5874,\n",
       " '##estudio': 18565,\n",
       " 'presneta': 12795,\n",
       " 'aumentdo': 18910,\n",
       " 'bera': 11034,\n",
       " 'cementada': 19858,\n",
       " 'dup': 4185,\n",
       " 'vaqu': 23510,\n",
       " '##zer': 24633,\n",
       " 'estrechez': 5235,\n",
       " 'sefun': 26206,\n",
       " 'concha': 14587,\n",
       " 'somb': 11115,\n",
       " '##asd': 14505,\n",
       " '##atrepan': 14549,\n",
       " 'inco': 18873,\n",
       " 'aef': 22402,\n",
       " 'hiperglicemia': 9995,\n",
       " '##iendo': 2787,\n",
       " 'descenso': 9705,\n",
       " 'fir': 7201,\n",
       " 'sobretodo': 19545,\n",
       " '##igamentoso': 27684,\n",
       " 'hidatide': 20913,\n",
       " 'mesioangulados': 20763,\n",
       " 'pericoronanitis': 19121,\n",
       " '##icionales': 28361,\n",
       " 'pps': 15558,\n",
       " 'hay': 4003,\n",
       " 'anetropia': 26884,\n",
       " 'hidr': 2468,\n",
       " 'afebril': 6556,\n",
       " 'pend': 12886,\n",
       " 'cesrea': 19510,\n",
       " 'esterior': 28890,\n",
       " 'farmacologico': 4989,\n",
       " 'disficutlad': 28165,\n",
       " '##uquer': 24171,\n",
       " 'incapacitante': 13929,\n",
       " 'anis': 8921,\n",
       " '##cx': 23995,\n",
       " 'pausas': 8573,\n",
       " 'displasia': 1824,\n",
       " 'perial': 18290,\n",
       " 'quirugica': 13838,\n",
       " 'proj': 27202,\n",
       " '##etacional': 28870,\n",
       " '##areolar': 25054,\n",
       " '##tersion': 18401,\n",
       " 'territorio': 11018,\n",
       " 'analfab': 16731,\n",
       " 'ocasiones': 3037,\n",
       " 'semanasobs': 18999,\n",
       " 'presumiblemente': 21538,\n",
       " 'metast': 15494,\n",
       " '##apta': 29383,\n",
       " 'miniscopatia': 19891,\n",
       " 'ipr': 14122,\n",
       " 'erl': 29202,\n",
       " 'intracraneal': 7772,\n",
       " 'supraostoma': 19349,\n",
       " 'disral': 28126,\n",
       " 'inteconsulta': 18579,\n",
       " 'analfabeta': 22129,\n",
       " 'gatro': 20312,\n",
       " 'acond': 28816,\n",
       " 'antiinflam': 6592,\n",
       " '##enton': 7941,\n",
       " 'qmt': 5266,\n",
       " '##b': 38,\n",
       " '##ieron': 5675,\n",
       " '##romia': 15056,\n",
       " 'fisiolog': 5454,\n",
       " '##sinostosis': 23684,\n",
       " 'asobs': 29270,\n",
       " 'yov': 23582,\n",
       " 'noexamen': 27319,\n",
       " '##opie': 18419,\n",
       " 'distrofia': 4621,\n",
       " 'ceal': 16893,\n",
       " '##itivos': 3240,\n",
       " '##cleros': 27224,\n",
       " '##leo': 11357,\n",
       " 'ensanchamiento': 9176,\n",
       " 'adjuntan': 13235,\n",
       " 'cooper': 5892,\n",
       " 'sobrec': 8553,\n",
       " 'vasta': 9425,\n",
       " '##obia': 4633,\n",
       " 'imposibilita': 14007,\n",
       " 'estab': 7347,\n",
       " '##pres': 5655,\n",
       " 'obito': 18035,\n",
       " 'reunion': 16673,\n",
       " 'colaboradora': 21893,\n",
       " 'dies': 11048,\n",
       " 'intervertebrales': 4762,\n",
       " 'postco': 18921,\n",
       " 'stoc': 23356,\n",
       " '##iss': 12569,\n",
       " 'distintos': 12111,\n",
       " 'prematura': 3618,\n",
       " '##izan': 14771,\n",
       " 'secuela': 2629,\n",
       " 'epboc': 29828,\n",
       " 'filim': 20894,\n",
       " 'lewy': 19138,\n",
       " '##omet': 26217,\n",
       " 'hipoxia': 19030,\n",
       " 'perrio': 27934,\n",
       " '##ne': 1285,\n",
       " 'espendilo': 22223,\n",
       " '##odos': 14776,\n",
       " '##ntis': 12528,\n",
       " '##ismatismo': 14472,\n",
       " '##izonatal': 27573,\n",
       " 'derechobirads': 29482,\n",
       " 'ortorn': 29670,\n",
       " 'antenc': 18141,\n",
       " 'contigu': 5563,\n",
       " 'identifica': 9276,\n",
       " 'urologia': 6517,\n",
       " 'app': 3187,\n",
       " '##af': 5394,\n",
       " 'vasos': 4173,\n",
       " '##alte': 2798,\n",
       " '##vastatina': 5794,\n",
       " 'depoprodasone': 12207,\n",
       " 'psicop': 13369,\n",
       " 'amiotrofica': 13988,\n",
       " 'dar': 3352,\n",
       " 'acnes': 14950,\n",
       " '##anencia': 25963,\n",
       " '##talgua': 29990,\n",
       " 'desgus': 26584,\n",
       " 'puentes': 15664,\n",
       " 'celebra': 16653,\n",
       " '##cer': 581,\n",
       " 'dist': 2804,\n",
       " '##anastomosis': 20367,\n",
       " 'ciudad': 10828,\n",
       " 'beningo': 13165,\n",
       " '##eparable': 27516,\n",
       " '##alta': 12550,\n",
       " '##iduria': 25764,\n",
       " 'brixismo': 22289,\n",
       " '##yeb': 24615,\n",
       " '##eada': 7927,\n",
       " '##olgia': 9485,\n",
       " 'anormales': 2968,\n",
       " 'dgdesdentado': 13076,\n",
       " 'scre': 10167,\n",
       " 'auc': 16844,\n",
       " 'morb': 1025,\n",
       " 'etra': 22658,\n",
       " 'eruptivo': 9187,\n",
       " 'inerior': 26055,\n",
       " 'urob': 23472,\n",
       " '##dentine': 26691,\n",
       " '##ipara': 5037,\n",
       " '##oracon': 25465,\n",
       " 'lumbosac': 4671,\n",
       " 'remite': 4985,\n",
       " 'pio': 8819,\n",
       " '##cedentes': 9439,\n",
       " '##ilalia': 26171,\n",
       " 'bcr': 5985,\n",
       " 'inflamada': 11684,\n",
       " 'progest': 16227,\n",
       " '##estesia': 2722,\n",
       " 'jardin': 14021,\n",
       " '##ilidad': 341,\n",
       " '##tar': 877,\n",
       " 'fragmento': 10891,\n",
       " 'empez': 20657,\n",
       " '##urando': 17969,\n",
       " 'ttra': 23423,\n",
       " 'anmalias': 26896,\n",
       " 'giro': 1588,\n",
       " 'varico': 15289,\n",
       " '##orrec': 25453,\n",
       " 'fluconazol': 16375,\n",
       " '##nidad': 7917,\n",
       " 'caninas': 15171,\n",
       " 'esperando': 16428,\n",
       " '##cios': 9437,\n",
       " '##frosis': 17424,\n",
       " 'brechas': 18944,\n",
       " 'manoparesia': 28753,\n",
       " 'soriasis': 9285,\n",
       " '##roso': 7915,\n",
       " 'enfermero': 29709,\n",
       " '##quiriente': 3838,\n",
       " 'eut': 5124,\n",
       " 'abortadora': 21084,\n",
       " '##qued': 27114,\n",
       " ...}"
      ]
     },
     "execution_count": 22,
     "metadata": {},
     "output_type": "execute_result"
    }
   ],
   "source": [
    "# Para ver todo el vocabulario del tonekizador consultar la siguiente funcion\n",
    "tokenizer.get_vocab()"
   ]
  },
  {
   "cell_type": "code",
   "execution_count": 23,
   "metadata": {},
   "outputs": [
    {
     "data": {
      "text/plain": [
       "[383, 618, 635, 119, 466, 1765, 970]"
      ]
     },
     "execution_count": 23,
     "metadata": {},
     "output_type": "execute_result"
    }
   ],
   "source": [
    "tokenized_output.ids"
   ]
  },
  {
   "cell_type": "code",
   "execution_count": 24,
   "metadata": {},
   "outputs": [
    {
     "data": {
      "text/plain": [
       "['anomalias',\n",
       " 'dentofaciales',\n",
       " 'incluso',\n",
       " 'la',\n",
       " 'maloclusion',\n",
       " 'discrepancia',\n",
       " 'dentomaxilar']"
      ]
     },
     "execution_count": 24,
     "metadata": {},
     "output_type": "execute_result"
    }
   ],
   "source": [
    "tokenized_output.tokens"
   ]
  },
  {
   "attachments": {},
   "cell_type": "markdown",
   "metadata": {},
   "source": [
    "Tal como lo hicimos anteriormente podemos aplicar paralelamente nuestro tokenizador sobre el conjunto de datos mediante el método `Dataset.map()`"
   ]
  },
  {
   "cell_type": "code",
   "execution_count": 25,
   "metadata": {},
   "outputs": [
    {
     "data": {
      "application/vnd.jupyter.widget-view+json": {
       "model_id": "145c11b21a67459e802cd8bb16b0bde8",
       "version_major": 2,
       "version_minor": 0
      },
      "text/plain": [
       "Map:   0%|          | 0/70000 [00:00<?, ? examples/s]"
      ]
     },
     "metadata": {},
     "output_type": "display_data"
    }
   ],
   "source": [
    "spanish_diagnostics_normalized_tokenized = spanish_diagnostics_normalized.map(\n",
    "    lambda x: {\"tokenized_text\": tokenizer.encode(x[\"text\"]).tokens})"
   ]
  },
  {
   "attachments": {},
   "cell_type": "markdown",
   "metadata": {},
   "source": [
    "Nuestro conjunto de datos ahora contiene el texto tokenizado en la característica `tokenized_text`."
   ]
  },
  {
   "cell_type": "code",
   "execution_count": 26,
   "metadata": {},
   "outputs": [
    {
     "data": {
      "text/plain": [
       "{'text': '- ANOMALÍAS DENTOFACIALES (INCLUSO LA MALOCLUSIÓN)\\n\\n\\n DISCREPANCIA DENTOMAXILAR',\n",
       " 'label': 1,\n",
       " 'normalized_text': '  anomalias dentofaciales  incluso la maloclusion     discrepancia dentomaxilar',\n",
       " 'tokenized_text': ['anomalias',\n",
       "  'dentofaciales',\n",
       "  'incluso',\n",
       "  'la',\n",
       "  'maloclusion',\n",
       "  'discrepancia',\n",
       "  'dentomaxilar']}"
      ]
     },
     "execution_count": 26,
     "metadata": {},
     "output_type": "execute_result"
    }
   ],
   "source": [
    "spanish_diagnostics_normalized_tokenized[0]"
   ]
  },
  {
   "attachments": {},
   "cell_type": "markdown",
   "metadata": {},
   "source": [
    "## Stemming y Lematización"
   ]
  },
  {
   "attachments": {},
   "cell_type": "markdown",
   "metadata": {},
   "source": [
    "Con el fin de disminuir la cantidad de características de las representaciones de texto existen métodos que reducen el tamaño de vocabulario al eliminar inflexiones que puedan tener las palabras. Estos métodos son:\n",
    "\n",
    "- Lematización: Este método lleva una palabra en su forma flexionada a su forma base, por ejemplo *tratada* -> *tratar*\n",
    "- Stemming: Este método trunca las palabras de entrada mediante un algoritmo predefinido para encontrar la raíz de la misma, por ejemplo *tratada* -> *trat*\n",
    "\n",
    "El proceso de lematización lo haremos a través de la biblioteca Spacy y el proceso de stemming a través de la biblioteca NLTK utilizando el algoritmo Snowball."
   ]
  },
  {
   "attachments": {},
   "cell_type": "markdown",
   "metadata": {},
   "source": [
    "Instanciamos el analizador de Spacy"
   ]
  },
  {
   "cell_type": "code",
   "execution_count": 27,
   "metadata": {},
   "outputs": [],
   "source": [
    "nlp = es_core_news_sm.load()"
   ]
  },
  {
   "attachments": {},
   "cell_type": "markdown",
   "metadata": {},
   "source": [
    "Definimos como tokenizador el que entrenamos anteriormente."
   ]
  },
  {
   "cell_type": "code",
   "execution_count": 28,
   "metadata": {},
   "outputs": [],
   "source": [
    "def custom_tokenizer(text):\n",
    "    tokens = tokenizer.encode(text).tokens\n",
    "    return spacy.tokens.Doc(nlp.vocab, tokens)"
   ]
  },
  {
   "cell_type": "code",
   "execution_count": 29,
   "metadata": {},
   "outputs": [],
   "source": [
    "nlp.tokenizer = custom_tokenizer"
   ]
  },
  {
   "attachments": {},
   "cell_type": "markdown",
   "metadata": {},
   "source": [
    "Instanciamos el Stemmer"
   ]
  },
  {
   "cell_type": "code",
   "execution_count": 30,
   "metadata": {},
   "outputs": [],
   "source": [
    "stemmer = nltk.stem.SnowballStemmer(\"spanish\")"
   ]
  },
  {
   "attachments": {},
   "cell_type": "markdown",
   "metadata": {},
   "source": [
    "Podemos verificar cómo funcionan estos métodos sobre un texto de prueba de nuestro conjunto de datos."
   ]
  },
  {
   "cell_type": "code",
   "execution_count": 31,
   "metadata": {},
   "outputs": [
    {
     "data": {
      "text/plain": [
       "'pieza n 3.4 tratada endodonticamente, restaurada con ionomero y resina compuesta. Necesita protesis fija por gran pNrdida coronaria'"
      ]
     },
     "execution_count": 31,
     "metadata": {},
     "output_type": "execute_result"
    }
   ],
   "source": [
    "spanish_diagnostics_normalized_tokenized[5][\"text\"]"
   ]
  },
  {
   "cell_type": "code",
   "execution_count": 32,
   "metadata": {},
   "outputs": [
    {
     "name": "stdout",
     "output_type": "stream",
     "text": [
      "Token: pieza\n",
      "Lema: pieza\n",
      "Stem: piez\n",
      "---\n",
      "Token: n\n",
      "Lema: n\n",
      "Stem: n\n",
      "---\n",
      "Token: tratada\n",
      "Lema: tratado\n",
      "Stem: trat\n",
      "---\n",
      "Token: endodonticamente\n",
      "Lema: endodonticamente\n",
      "Stem: endodont\n",
      "---\n",
      "Token: restaurada\n",
      "Lema: restaurado\n",
      "Stem: restaur\n",
      "---\n",
      "Token: con\n",
      "Lema: con\n",
      "Stem: con\n",
      "---\n",
      "Token: ionomero\n",
      "Lema: ionomero\n",
      "Stem: ionomer\n",
      "---\n",
      "Token: y\n",
      "Lema: y\n",
      "Stem: y\n",
      "---\n",
      "Token: resina\n",
      "Lema: resina\n",
      "Stem: resin\n",
      "---\n",
      "Token: compuesta\n",
      "Lema: compuesto\n",
      "Stem: compuest\n",
      "---\n",
      "Token: necesita\n",
      "Lema: necesitar\n",
      "Stem: necesit\n",
      "---\n",
      "Token: protesis\n",
      "Lema: protesis\n",
      "Stem: protesis\n",
      "---\n",
      "Token: fija\n",
      "Lema: fijo\n",
      "Stem: fij\n",
      "---\n",
      "Token: por\n",
      "Lema: por\n",
      "Stem: por\n",
      "---\n",
      "Token: gran\n",
      "Lema: gran\n",
      "Stem: gran\n",
      "---\n",
      "Token: pnrdida\n",
      "Lema: pnrdida\n",
      "Stem: pnrdid\n",
      "---\n",
      "Token: coronaria\n",
      "Lema: coronario\n",
      "Stem: coronari\n",
      "---\n"
     ]
    }
   ],
   "source": [
    "for t in nlp(spanish_diagnostics_normalized_tokenized[5][\"text\"]):\n",
    "    print(\n",
    "        f\"Token: {t.text}\\nLema: {t.lemma_}\\nStem: {stemmer.stem(t.text)}\\n---\")"
   ]
  }
 ],
 "metadata": {
  "colab": {
   "name": "Practico_clase1_NLP.ipynb",
   "provenance": []
  },
  "kernelspec": {
   "display_name": "Python 3",
   "language": "python",
   "name": "python3"
  },
  "language_info": {
   "codemirror_mode": {
    "name": "ipython",
    "version": 3
   },
   "file_extension": ".py",
   "mimetype": "text/x-python",
   "name": "python",
   "nbconvert_exporter": "python",
   "pygments_lexer": "ipython3",
   "version": "3.13.3"
  }
 },
 "nbformat": 4,
 "nbformat_minor": 1
}
