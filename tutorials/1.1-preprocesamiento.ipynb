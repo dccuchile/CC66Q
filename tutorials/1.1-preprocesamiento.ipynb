{
  "cells": [
    {
      "cell_type": "markdown",
      "metadata": {
        "id": "DZb5iCp2593d"
      },
      "source": [
        "# Preprocesamiento de datos de texto"
      ]
    },
    {
      "cell_type": "code",
      "source": [
        "!pip install -U spacy\n",
        "!python -m spacy download es_core_news_sm # Instalación Modelo Spacy de procesamiento de lenguaje natural en español\n",
        "!pip install -U \"datasets<3.0\" #Con el fin de poder cargar el dataset de ejemplo"
      ],
      "metadata": {
        "colab": {
          "base_uri": "https://localhost:8080/"
        },
        "id": "0pEcN8Q76A9Y",
        "outputId": "827349d5-e3d6-46e0-bc47-88e4197011dc"
      },
      "execution_count": 67,
      "outputs": [
        {
          "output_type": "stream",
          "name": "stdout",
          "text": [
            "Requirement already satisfied: spacy in /usr/local/lib/python3.12/dist-packages (3.8.7)\n",
            "Requirement already satisfied: spacy-legacy<3.1.0,>=3.0.11 in /usr/local/lib/python3.12/dist-packages (from spacy) (3.0.12)\n",
            "Requirement already satisfied: spacy-loggers<2.0.0,>=1.0.0 in /usr/local/lib/python3.12/dist-packages (from spacy) (1.0.5)\n",
            "Requirement already satisfied: murmurhash<1.1.0,>=0.28.0 in /usr/local/lib/python3.12/dist-packages (from spacy) (1.0.13)\n",
            "Requirement already satisfied: cymem<2.1.0,>=2.0.2 in /usr/local/lib/python3.12/dist-packages (from spacy) (2.0.11)\n",
            "Requirement already satisfied: preshed<3.1.0,>=3.0.2 in /usr/local/lib/python3.12/dist-packages (from spacy) (3.0.10)\n",
            "Requirement already satisfied: thinc<8.4.0,>=8.3.4 in /usr/local/lib/python3.12/dist-packages (from spacy) (8.3.6)\n",
            "Requirement already satisfied: wasabi<1.2.0,>=0.9.1 in /usr/local/lib/python3.12/dist-packages (from spacy) (1.1.3)\n",
            "Requirement already satisfied: srsly<3.0.0,>=2.4.3 in /usr/local/lib/python3.12/dist-packages (from spacy) (2.5.1)\n",
            "Requirement already satisfied: catalogue<2.1.0,>=2.0.6 in /usr/local/lib/python3.12/dist-packages (from spacy) (2.0.10)\n",
            "Requirement already satisfied: weasel<0.5.0,>=0.1.0 in /usr/local/lib/python3.12/dist-packages (from spacy) (0.4.1)\n",
            "Requirement already satisfied: typer<1.0.0,>=0.3.0 in /usr/local/lib/python3.12/dist-packages (from spacy) (0.19.2)\n",
            "Requirement already satisfied: tqdm<5.0.0,>=4.38.0 in /usr/local/lib/python3.12/dist-packages (from spacy) (4.67.1)\n",
            "Requirement already satisfied: numpy>=1.19.0 in /usr/local/lib/python3.12/dist-packages (from spacy) (2.0.2)\n",
            "Requirement already satisfied: requests<3.0.0,>=2.13.0 in /usr/local/lib/python3.12/dist-packages (from spacy) (2.32.4)\n",
            "Requirement already satisfied: pydantic!=1.8,!=1.8.1,<3.0.0,>=1.7.4 in /usr/local/lib/python3.12/dist-packages (from spacy) (2.11.10)\n",
            "Requirement already satisfied: jinja2 in /usr/local/lib/python3.12/dist-packages (from spacy) (3.1.6)\n",
            "Requirement already satisfied: setuptools in /usr/local/lib/python3.12/dist-packages (from spacy) (75.2.0)\n",
            "Requirement already satisfied: packaging>=20.0 in /usr/local/lib/python3.12/dist-packages (from spacy) (25.0)\n",
            "Requirement already satisfied: langcodes<4.0.0,>=3.2.0 in /usr/local/lib/python3.12/dist-packages (from spacy) (3.5.0)\n",
            "Requirement already satisfied: language-data>=1.2 in /usr/local/lib/python3.12/dist-packages (from langcodes<4.0.0,>=3.2.0->spacy) (1.3.0)\n",
            "Requirement already satisfied: annotated-types>=0.6.0 in /usr/local/lib/python3.12/dist-packages (from pydantic!=1.8,!=1.8.1,<3.0.0,>=1.7.4->spacy) (0.7.0)\n",
            "Requirement already satisfied: pydantic-core==2.33.2 in /usr/local/lib/python3.12/dist-packages (from pydantic!=1.8,!=1.8.1,<3.0.0,>=1.7.4->spacy) (2.33.2)\n",
            "Requirement already satisfied: typing-extensions>=4.12.2 in /usr/local/lib/python3.12/dist-packages (from pydantic!=1.8,!=1.8.1,<3.0.0,>=1.7.4->spacy) (4.15.0)\n",
            "Requirement already satisfied: typing-inspection>=0.4.0 in /usr/local/lib/python3.12/dist-packages (from pydantic!=1.8,!=1.8.1,<3.0.0,>=1.7.4->spacy) (0.4.2)\n",
            "Requirement already satisfied: charset_normalizer<4,>=2 in /usr/local/lib/python3.12/dist-packages (from requests<3.0.0,>=2.13.0->spacy) (3.4.4)\n",
            "Requirement already satisfied: idna<4,>=2.5 in /usr/local/lib/python3.12/dist-packages (from requests<3.0.0,>=2.13.0->spacy) (3.11)\n",
            "Requirement already satisfied: urllib3<3,>=1.21.1 in /usr/local/lib/python3.12/dist-packages (from requests<3.0.0,>=2.13.0->spacy) (2.5.0)\n",
            "Requirement already satisfied: certifi>=2017.4.17 in /usr/local/lib/python3.12/dist-packages (from requests<3.0.0,>=2.13.0->spacy) (2025.10.5)\n",
            "Requirement already satisfied: blis<1.4.0,>=1.3.0 in /usr/local/lib/python3.12/dist-packages (from thinc<8.4.0,>=8.3.4->spacy) (1.3.0)\n",
            "Requirement already satisfied: confection<1.0.0,>=0.0.1 in /usr/local/lib/python3.12/dist-packages (from thinc<8.4.0,>=8.3.4->spacy) (0.1.5)\n",
            "Requirement already satisfied: click>=8.0.0 in /usr/local/lib/python3.12/dist-packages (from typer<1.0.0,>=0.3.0->spacy) (8.3.0)\n",
            "Requirement already satisfied: shellingham>=1.3.0 in /usr/local/lib/python3.12/dist-packages (from typer<1.0.0,>=0.3.0->spacy) (1.5.4)\n",
            "Requirement already satisfied: rich>=10.11.0 in /usr/local/lib/python3.12/dist-packages (from typer<1.0.0,>=0.3.0->spacy) (13.9.4)\n",
            "Requirement already satisfied: cloudpathlib<1.0.0,>=0.7.0 in /usr/local/lib/python3.12/dist-packages (from weasel<0.5.0,>=0.1.0->spacy) (0.23.0)\n",
            "Requirement already satisfied: smart-open<8.0.0,>=5.2.1 in /usr/local/lib/python3.12/dist-packages (from weasel<0.5.0,>=0.1.0->spacy) (7.3.1)\n",
            "Requirement already satisfied: MarkupSafe>=2.0 in /usr/local/lib/python3.12/dist-packages (from jinja2->spacy) (3.0.3)\n",
            "Requirement already satisfied: marisa-trie>=1.1.0 in /usr/local/lib/python3.12/dist-packages (from language-data>=1.2->langcodes<4.0.0,>=3.2.0->spacy) (1.3.1)\n",
            "Requirement already satisfied: markdown-it-py>=2.2.0 in /usr/local/lib/python3.12/dist-packages (from rich>=10.11.0->typer<1.0.0,>=0.3.0->spacy) (4.0.0)\n",
            "Requirement already satisfied: pygments<3.0.0,>=2.13.0 in /usr/local/lib/python3.12/dist-packages (from rich>=10.11.0->typer<1.0.0,>=0.3.0->spacy) (2.19.2)\n",
            "Requirement already satisfied: wrapt in /usr/local/lib/python3.12/dist-packages (from smart-open<8.0.0,>=5.2.1->weasel<0.5.0,>=0.1.0->spacy) (1.17.3)\n",
            "Requirement already satisfied: mdurl~=0.1 in /usr/local/lib/python3.12/dist-packages (from markdown-it-py>=2.2.0->rich>=10.11.0->typer<1.0.0,>=0.3.0->spacy) (0.1.2)\n",
            "Collecting es-core-news-sm==3.8.0\n",
            "  Downloading https://github.com/explosion/spacy-models/releases/download/es_core_news_sm-3.8.0/es_core_news_sm-3.8.0-py3-none-any.whl (12.9 MB)\n",
            "\u001b[2K     \u001b[90m━━━━━━━━━━━━━━━━━━━━━━━━━━━━━━━━━━━━━━━━\u001b[0m \u001b[32m12.9/12.9 MB\u001b[0m \u001b[31m44.2 MB/s\u001b[0m eta \u001b[36m0:00:00\u001b[0m\n",
            "\u001b[?25h\u001b[38;5;2m✔ Download and installation successful\u001b[0m\n",
            "You can now load the package via spacy.load('es_core_news_sm')\n",
            "\u001b[38;5;3m⚠ Restart to reload dependencies\u001b[0m\n",
            "If you are in a Jupyter or Colab notebook, you may need to restart Python in\n",
            "order to load all the package's dependencies. You can do this by selecting the\n",
            "'Restart kernel' or 'Restart runtime' option.\n",
            "Requirement already satisfied: datasets<3.0 in /usr/local/lib/python3.12/dist-packages (2.21.0)\n",
            "Requirement already satisfied: filelock in /usr/local/lib/python3.12/dist-packages (from datasets<3.0) (3.20.0)\n",
            "Requirement already satisfied: numpy>=1.17 in /usr/local/lib/python3.12/dist-packages (from datasets<3.0) (2.0.2)\n",
            "Requirement already satisfied: pyarrow>=15.0.0 in /usr/local/lib/python3.12/dist-packages (from datasets<3.0) (18.1.0)\n",
            "Requirement already satisfied: dill<0.3.9,>=0.3.0 in /usr/local/lib/python3.12/dist-packages (from datasets<3.0) (0.3.8)\n",
            "Requirement already satisfied: pandas in /usr/local/lib/python3.12/dist-packages (from datasets<3.0) (2.2.2)\n",
            "Requirement already satisfied: requests>=2.32.2 in /usr/local/lib/python3.12/dist-packages (from datasets<3.0) (2.32.4)\n",
            "Requirement already satisfied: tqdm>=4.66.3 in /usr/local/lib/python3.12/dist-packages (from datasets<3.0) (4.67.1)\n",
            "Requirement already satisfied: xxhash in /usr/local/lib/python3.12/dist-packages (from datasets<3.0) (3.6.0)\n",
            "Requirement already satisfied: multiprocess in /usr/local/lib/python3.12/dist-packages (from datasets<3.0) (0.70.16)\n",
            "Requirement already satisfied: fsspec<=2024.6.1,>=2023.1.0 in /usr/local/lib/python3.12/dist-packages (from fsspec[http]<=2024.6.1,>=2023.1.0->datasets<3.0) (2024.6.1)\n",
            "Requirement already satisfied: aiohttp in /usr/local/lib/python3.12/dist-packages (from datasets<3.0) (3.13.0)\n",
            "Requirement already satisfied: huggingface-hub>=0.21.2 in /usr/local/lib/python3.12/dist-packages (from datasets<3.0) (0.35.3)\n",
            "Requirement already satisfied: packaging in /usr/local/lib/python3.12/dist-packages (from datasets<3.0) (25.0)\n",
            "Requirement already satisfied: pyyaml>=5.1 in /usr/local/lib/python3.12/dist-packages (from datasets<3.0) (6.0.3)\n",
            "Requirement already satisfied: aiohappyeyeballs>=2.5.0 in /usr/local/lib/python3.12/dist-packages (from aiohttp->datasets<3.0) (2.6.1)\n",
            "Requirement already satisfied: aiosignal>=1.4.0 in /usr/local/lib/python3.12/dist-packages (from aiohttp->datasets<3.0) (1.4.0)\n",
            "Requirement already satisfied: attrs>=17.3.0 in /usr/local/lib/python3.12/dist-packages (from aiohttp->datasets<3.0) (25.4.0)\n",
            "Requirement already satisfied: frozenlist>=1.1.1 in /usr/local/lib/python3.12/dist-packages (from aiohttp->datasets<3.0) (1.8.0)\n",
            "Requirement already satisfied: multidict<7.0,>=4.5 in /usr/local/lib/python3.12/dist-packages (from aiohttp->datasets<3.0) (6.7.0)\n",
            "Requirement already satisfied: propcache>=0.2.0 in /usr/local/lib/python3.12/dist-packages (from aiohttp->datasets<3.0) (0.4.1)\n",
            "Requirement already satisfied: yarl<2.0,>=1.17.0 in /usr/local/lib/python3.12/dist-packages (from aiohttp->datasets<3.0) (1.22.0)\n",
            "Requirement already satisfied: typing-extensions>=3.7.4.3 in /usr/local/lib/python3.12/dist-packages (from huggingface-hub>=0.21.2->datasets<3.0) (4.15.0)\n",
            "Requirement already satisfied: hf-xet<2.0.0,>=1.1.3 in /usr/local/lib/python3.12/dist-packages (from huggingface-hub>=0.21.2->datasets<3.0) (1.1.10)\n",
            "Requirement already satisfied: charset_normalizer<4,>=2 in /usr/local/lib/python3.12/dist-packages (from requests>=2.32.2->datasets<3.0) (3.4.4)\n",
            "Requirement already satisfied: idna<4,>=2.5 in /usr/local/lib/python3.12/dist-packages (from requests>=2.32.2->datasets<3.0) (3.11)\n",
            "Requirement already satisfied: urllib3<3,>=1.21.1 in /usr/local/lib/python3.12/dist-packages (from requests>=2.32.2->datasets<3.0) (2.5.0)\n",
            "Requirement already satisfied: certifi>=2017.4.17 in /usr/local/lib/python3.12/dist-packages (from requests>=2.32.2->datasets<3.0) (2025.10.5)\n",
            "Requirement already satisfied: python-dateutil>=2.8.2 in /usr/local/lib/python3.12/dist-packages (from pandas->datasets<3.0) (2.9.0.post0)\n",
            "Requirement already satisfied: pytz>=2020.1 in /usr/local/lib/python3.12/dist-packages (from pandas->datasets<3.0) (2025.2)\n",
            "Requirement already satisfied: tzdata>=2022.7 in /usr/local/lib/python3.12/dist-packages (from pandas->datasets<3.0) (2025.2)\n",
            "Requirement already satisfied: six>=1.5 in /usr/local/lib/python3.12/dist-packages (from python-dateutil>=2.8.2->pandas->datasets<3.0) (1.17.0)\n"
          ]
        }
      ]
    },
    {
      "cell_type": "code",
      "execution_count": 68,
      "metadata": {
        "id": "WyePdRUm593g"
      },
      "outputs": [],
      "source": [
        "import datasets  # Biblioteca de manejo de conjuntos de datos para procesamiento de lenguaje natural\n",
        "import es_core_news_sm  # Modelo Spacy de procesamiento de lenguaje natural en español\n",
        "import spacy  # Biblioteca de procesamiento de lenguaje natural\n",
        "import pandas as pd  # Biblioteca de manejo de conjuntos de datos\n",
        "import re  # Módulo de expresiones regulares\n",
        "import tokenizers  # Biblioteca de tokenización de texto\n",
        "import nltk  # Biblioteca de procesamiento de lenguaje natural\n",
        "from pathlib import Path  # Biblioteca para manejo de paths relativos"
      ]
    },
    {
      "cell_type": "markdown",
      "metadata": {
        "id": "EFkCcBKH593i"
      },
      "source": [
        "## 🤗 Datasets\n",
        "\n",
        "🤗 (HuggingFace) Datasets es una biblioteca de manejo de conjuntos de datos para procesamiento de lenguaje natural que se destaca por la simplicidad de sus métodos y el gran repositorio 🤗 Hub que contiene muchos conjuntos de datos libres para descargar sólo con una linea de Python.\n",
        "\n",
        "En nuestro curso trabajaremos con `spanish_diagnostics`, un conjunto de datos de nuestro grupo investigación PLN@CMM que contiene textos de sospechas diagnósticas de la lista de espera chilena y está etiquetado con el destino de la interconsulta; este destino puede ser `dental` o `no_dental`."
      ]
    },
    {
      "cell_type": "code",
      "execution_count": 69,
      "metadata": {
        "id": "k8lUmYJ4593j"
      },
      "outputs": [],
      "source": [
        "# Con esta linea descargamos el conjunto de datos completo\n",
        "spanish_diagnostics = datasets.load_dataset('fvillena/spanish_diagnostics')"
      ]
    },
    {
      "cell_type": "code",
      "execution_count": 70,
      "metadata": {
        "id": "AGKQLLk1593k"
      },
      "outputs": [],
      "source": [
        "def normalize(text, remove_tildes=True):\n",
        "    \"\"\"Normaliza una cadena de texto convirtiéndo todo a minúsculas, quitando los caracteres no alfabéticos y los tildes\"\"\"\n",
        "    text = text.lower()  # Llevamos todo a minúscula\n",
        "    # Reemplazamos los caracteres no alfabéticos por un espacio\n",
        "    text = re.sub(r'[^A-Za-zñáéíóú]', ' ', text)\n",
        "    if remove_tildes:\n",
        "        text = re.sub('á', 'a', text)  # Reemplazamos los tildes\n",
        "        text = re.sub('é', 'e', text)\n",
        "        text = re.sub('í', 'i', text)\n",
        "        text = re.sub('ó', 'o', text)\n",
        "        text = re.sub('ú', 'u', text)\n",
        "    return text"
      ]
    },
    {
      "cell_type": "code",
      "execution_count": 71,
      "metadata": {
        "id": "pChRUOUI593l"
      },
      "outputs": [],
      "source": [
        "spanish_diagnostics_normalized = spanish_diagnostics[\"train\"].map(\n",
        "    lambda x: {  # Utilizamos una función anónima que devuelve un diccionario\n",
        "        # Esta es una nueva característica que agregaremos a nuestro conjunto de datos.\n",
        "        \"normalized_text\": normalize(x[\"text\"])\n",
        "    })"
      ]
    },
    {
      "cell_type": "code",
      "execution_count": 72,
      "metadata": {
        "id": "RL3d-_B5593m",
        "outputId": "b7baa24d-16b2-4e74-e59f-e63da636244d",
        "colab": {
          "base_uri": "https://localhost:8080/"
        }
      },
      "outputs": [
        {
          "output_type": "execute_result",
          "data": {
            "text/plain": [
              "Dataset({\n",
              "    features: ['text', 'label', 'normalized_text'],\n",
              "    num_rows: 70000\n",
              "})"
            ]
          },
          "metadata": {},
          "execution_count": 72
        }
      ],
      "source": [
        "spanish_diagnostics_normalized"
      ]
    },
    {
      "cell_type": "markdown",
      "metadata": {
        "id": "EyqO4nxM593n"
      },
      "source": [
        "Ahora nuestro conjunto de datos cuenta con una nueva característica `normalized_text`."
      ]
    },
    {
      "cell_type": "code",
      "execution_count": 73,
      "metadata": {
        "id": "gnE9g4i3593n",
        "outputId": "cb3f27f5-fe93-496c-8981-395368eb7880",
        "colab": {
          "base_uri": "https://localhost:8080/"
        }
      },
      "outputs": [
        {
          "output_type": "execute_result",
          "data": {
            "text/plain": [
              "{'text': '- ANOMALÍAS DENTOFACIALES (INCLUSO LA MALOCLUSIÓN)\\n\\n\\n DISCREPANCIA DENTOMAXILAR',\n",
              " 'label': 1,\n",
              " 'normalized_text': '  anomalias dentofaciales  incluso la maloclusion     discrepancia dentomaxilar'}"
            ]
          },
          "metadata": {},
          "execution_count": 73
        }
      ],
      "source": [
        "spanish_diagnostics_normalized[0]"
      ]
    },
    {
      "cell_type": "markdown",
      "metadata": {
        "id": "U1gQ3z0w593o"
      },
      "source": [
        "## Tokenización\n",
        "\n",
        "La tokenización es el proceso de demarcación de secciones de una cadena de caracteres. Estas secciones podrían ser oraciones, palabras o subpalabras.\n",
        "\n",
        "El método más simple para tokenizar una cadena de caracteres en nuestro lenguaje es la separación por espacios. Aplicamos una separación por espacios mediante el método `str.split()` sobre nuestro conjunto de datos normalizado."
      ]
    },
    {
      "cell_type": "code",
      "execution_count": 74,
      "metadata": {
        "id": "6EoqQbAZ593o",
        "outputId": "5ec85eba-a97d-4483-da46-335ea668366d",
        "colab": {
          "base_uri": "https://localhost:8080/",
          "height": 35
        }
      },
      "outputs": [
        {
          "output_type": "execute_result",
          "data": {
            "text/plain": [
              "'  anomalias dentofaciales  incluso la maloclusion     discrepancia dentomaxilar'"
            ],
            "application/vnd.google.colaboratory.intrinsic+json": {
              "type": "string"
            }
          },
          "metadata": {},
          "execution_count": 74
        }
      ],
      "source": [
        "spanish_diagnostics_normalized[0][\"normalized_text\"]"
      ]
    },
    {
      "cell_type": "code",
      "execution_count": 75,
      "metadata": {
        "id": "0Lqj37vj593o",
        "outputId": "f9aa3833-f134-46c6-8fab-5d7ac882e4cb",
        "colab": {
          "base_uri": "https://localhost:8080/"
        }
      },
      "outputs": [
        {
          "output_type": "execute_result",
          "data": {
            "text/plain": [
              "['anomalias',\n",
              " 'dentofaciales',\n",
              " 'incluso',\n",
              " 'la',\n",
              " 'maloclusion',\n",
              " 'discrepancia',\n",
              " 'dentomaxilar']"
            ]
          },
          "metadata": {},
          "execution_count": 75
        }
      ],
      "source": [
        "spanish_diagnostics_normalized[0][\"normalized_text\"].split()"
      ]
    },
    {
      "cell_type": "markdown",
      "metadata": {
        "id": "HGl9eT3P593p"
      },
      "source": [
        "Si bien el método de separación por espacios funciona bien en nuestro conjunto de datos normalizado, también quisiéramos tokenizar nuestro texto sin normalizar."
      ]
    },
    {
      "cell_type": "code",
      "execution_count": 76,
      "metadata": {
        "id": "WzZAnvsd593p",
        "outputId": "f5f40a61-7bcd-413d-fd0a-679db87a263e",
        "colab": {
          "base_uri": "https://localhost:8080/",
          "height": 35
        }
      },
      "outputs": [
        {
          "output_type": "execute_result",
          "data": {
            "text/plain": [
              "'- ANOMALÍAS DENTOFACIALES (INCLUSO LA MALOCLUSIÓN)\\n\\n\\n DISCREPANCIA DENTOMAXILAR'"
            ],
            "application/vnd.google.colaboratory.intrinsic+json": {
              "type": "string"
            }
          },
          "metadata": {},
          "execution_count": 76
        }
      ],
      "source": [
        "spanish_diagnostics_normalized[0][\"text\"]"
      ]
    },
    {
      "cell_type": "code",
      "execution_count": 77,
      "metadata": {
        "id": "__mIlxJh593p",
        "outputId": "2f2abf25-19f2-42d0-a9f4-56ff1429163a",
        "colab": {
          "base_uri": "https://localhost:8080/"
        }
      },
      "outputs": [
        {
          "output_type": "execute_result",
          "data": {
            "text/plain": [
              "['-',\n",
              " 'ANOMALÍAS',\n",
              " 'DENTOFACIALES',\n",
              " '(INCLUSO',\n",
              " 'LA',\n",
              " 'MALOCLUSIÓN)',\n",
              " 'DISCREPANCIA',\n",
              " 'DENTOMAXILAR']"
            ]
          },
          "metadata": {},
          "execution_count": 77
        }
      ],
      "source": [
        "spanish_diagnostics_normalized[0][\"text\"].split()"
      ]
    },
    {
      "cell_type": "markdown",
      "metadata": {
        "id": "1bR4PBuA593p"
      },
      "source": [
        "Al aplicar el mismo métodos podemos observar que no funciona totalmente bien debido a la presencia de caracteres no alfabéticos. Para solucionar esto, existen métodos basados en una serie de reglas para solucionar estos problemas. Utilizaremos la implementación de un tokenizador basado en reglas de la biblioteca de procesamiento de lenguaje natural Spacy."
      ]
    },
    {
      "cell_type": "code",
      "execution_count": 78,
      "metadata": {
        "id": "pQsIb2KU593p"
      },
      "outputs": [],
      "source": [
        "spacy_tokenizer = es_core_news_sm.load().tokenizer"
      ]
    },
    {
      "cell_type": "code",
      "execution_count": 79,
      "metadata": {
        "id": "v0TmifRY593q",
        "outputId": "2a9ea898-b1b4-4991-b87e-46aec5dcf769",
        "colab": {
          "base_uri": "https://localhost:8080/"
        }
      },
      "outputs": [
        {
          "output_type": "execute_result",
          "data": {
            "text/plain": [
              "[-,\n",
              " ANOMALÍAS,\n",
              " DENTOFACIALES,\n",
              " (,\n",
              " INCLUSO,\n",
              " LA,\n",
              " MALOCLUSIÓN,\n",
              " ),\n",
              " \n",
              " \n",
              " \n",
              "  ,\n",
              " DISCREPANCIA,\n",
              " DENTOMAXILAR]"
            ]
          },
          "metadata": {},
          "execution_count": 79
        }
      ],
      "source": [
        "list(spacy_tokenizer(spanish_diagnostics_normalized[0][\"text\"]))"
      ]
    },
    {
      "cell_type": "markdown",
      "metadata": {
        "id": "HwBf6Ssa593q"
      },
      "source": [
        "Al utilizar el tokenizador basado en reglas, podemos tener resultados mucho mejores que los anteriores."
      ]
    },
    {
      "cell_type": "markdown",
      "metadata": {
        "id": "1njMY1hX593q"
      },
      "source": [
        "### 🤗 Tokenizers"
      ]
    },
    {
      "cell_type": "markdown",
      "metadata": {
        "id": "S836gibE593q"
      },
      "source": [
        "🤗 también cuenta con una biblioteca llamada Tokenizers, con la cual podemos construir nuestro tokenizador basado en nuestro conjunto de datos."
      ]
    },
    {
      "cell_type": "markdown",
      "metadata": {
        "id": "XFTVM5B3593q"
      },
      "source": [
        "Instanciamos el tokenizador con un modelo WordPiece, el cual parte construyendo un vocabulario que incluye todas los caracteres presentes en el conjunto de datos y posteriormente comienza a mezclar caracteres hasta encontrar conjuntos de caracteres que tienen más probabilidad de aparecer juntos que separados."
      ]
    },
    {
      "cell_type": "code",
      "execution_count": 80,
      "metadata": {
        "id": "OuLYzh9F593q"
      },
      "outputs": [],
      "source": [
        "tokenizer = tokenizers.Tokenizer(tokenizers.models.WordPiece())"
      ]
    },
    {
      "cell_type": "markdown",
      "metadata": {
        "id": "G9g0vGqs593q"
      },
      "source": [
        "Esta biblioteca nos permite añadir pasos de normalización directamente. Replicamos lo mismo que hacemos con nuestra función `normalizer()`."
      ]
    },
    {
      "cell_type": "code",
      "execution_count": 81,
      "metadata": {
        "id": "nTFJ8Qvt593r"
      },
      "outputs": [],
      "source": [
        "normalizer = tokenizers.normalizers.Sequence([\n",
        "    tokenizers.normalizers.Lowercase(),  # Llevamos todo a minúscula\n",
        "    # Separamos cada caracter según los elementos que lo componen: á -> (a, ´)\n",
        "    tokenizers.normalizers.NFD(),\n",
        "    tokenizers.normalizers.StripAccents(),  # Eliminamos todos los acentos\n",
        "    # Reemplazamos todos los caracteres no alfabéticos\n",
        "    tokenizers.normalizers.Replace(tokenizers.Regex(r\"[^a-z ]\"), \" \")\n",
        "])"
      ]
    },
    {
      "cell_type": "code",
      "execution_count": 82,
      "metadata": {
        "id": "PIP3Rf5Z593r",
        "outputId": "f293089e-c729-4451-ce65-f6f26435ad9c",
        "colab": {
          "base_uri": "https://localhost:8080/",
          "height": 35
        }
      },
      "outputs": [
        {
          "output_type": "execute_result",
          "data": {
            "text/plain": [
              "'  anomalias dentofaciales  incluso la maloclusion     discrepancia dentomaxilar'"
            ],
            "application/vnd.google.colaboratory.intrinsic+json": {
              "type": "string"
            }
          },
          "metadata": {},
          "execution_count": 82
        }
      ],
      "source": [
        "normalizer.normalize_str(spanish_diagnostics_normalized[0][\"text\"])"
      ]
    },
    {
      "cell_type": "markdown",
      "metadata": {
        "id": "lLH68o3b593r"
      },
      "source": [
        "Añadimos el normalizador al tokenizador"
      ]
    },
    {
      "cell_type": "code",
      "execution_count": 83,
      "metadata": {
        "id": "dhrUpxqE593r"
      },
      "outputs": [],
      "source": [
        "tokenizer.normalizer = normalizer"
      ]
    },
    {
      "cell_type": "markdown",
      "metadata": {
        "id": "HWtwxT4z593r"
      },
      "source": [
        "Pre tokenizamos nuestro conjunto de datos mediante espacio para delimitar el tamaño que puede tener cada token."
      ]
    },
    {
      "cell_type": "code",
      "execution_count": 84,
      "metadata": {
        "id": "0Bi8Zu8A593r"
      },
      "outputs": [],
      "source": [
        "tokenizer.pre_tokenizer = tokenizers.pre_tokenizers.Whitespace()"
      ]
    },
    {
      "cell_type": "markdown",
      "metadata": {
        "id": "-H5THAkv593r"
      },
      "source": [
        "Instanciamos el entrenador que entrenará nuestro tokenizador."
      ]
    },
    {
      "cell_type": "code",
      "execution_count": 85,
      "metadata": {
        "id": "4yICliA9593r"
      },
      "outputs": [],
      "source": [
        "trainer = tokenizers.trainers.WordPieceTrainer()"
      ]
    },
    {
      "cell_type": "markdown",
      "metadata": {
        "id": "GWGj68NX593s"
      },
      "source": [
        "Entrenamos el tokenizador sobre nuestro conjunto de datos."
      ]
    },
    {
      "cell_type": "code",
      "execution_count": 86,
      "metadata": {
        "id": "3SN9gg09593s"
      },
      "outputs": [],
      "source": [
        "tokenizer.train_from_iterator(spanish_diagnostics_normalized[\"text\"], trainer)"
      ]
    },
    {
      "cell_type": "markdown",
      "metadata": {
        "id": "QKnWYs0y593s"
      },
      "source": [
        "Mediante el método `Tokenizer.encode()` obtenemos la representación tokenizada de nuesto texto. Esta representación contiene varios atributos, donde los más interesantes son:\n",
        "\n",
        "- `ids`: Contiene nuestro texto representado a través de una lista que contiene los identificadores de cada token.\n",
        "- `tokens`: Contiene nuestro texto representado a través de una lista que contiene el texto de cada token."
      ]
    },
    {
      "cell_type": "code",
      "execution_count": 87,
      "metadata": {
        "id": "_SRvOHZf593s",
        "outputId": "3ce22c6b-b9ee-4ee1-d3b4-8c94b9b98183",
        "colab": {
          "base_uri": "https://localhost:8080/",
          "height": 35
        }
      },
      "outputs": [
        {
          "output_type": "execute_result",
          "data": {
            "text/plain": [
              "'- ANOMALÍAS DENTOFACIALES (INCLUSO LA MALOCLUSIÓN)\\n\\n\\n DISCREPANCIA DENTOMAXILAR'"
            ],
            "application/vnd.google.colaboratory.intrinsic+json": {
              "type": "string"
            }
          },
          "metadata": {},
          "execution_count": 87
        }
      ],
      "source": [
        "spanish_diagnostics_normalized[0][\"text\"]"
      ]
    },
    {
      "cell_type": "code",
      "execution_count": 88,
      "metadata": {
        "id": "H46SVkcS593s"
      },
      "outputs": [],
      "source": [
        "tokenized_output = tokenizer.encode(spanish_diagnostics_normalized[0][\"text\"])"
      ]
    },
    {
      "cell_type": "code",
      "execution_count": 89,
      "metadata": {
        "id": "gxSN_5eP593t",
        "outputId": "a1af29a8-0e65-4831-8dc8-18769697f072",
        "colab": {
          "base_uri": "https://localhost:8080/"
        }
      },
      "outputs": [
        {
          "output_type": "execute_result",
          "data": {
            "text/plain": [
              "{'asnos': 29263,\n",
              " '##fet': 17422,\n",
              " 'ino': 26053,\n",
              " '##ulasion': 25840,\n",
              " 'ortodonca': 21567,\n",
              " 'acustico': 8756,\n",
              " '##emento': 27041,\n",
              " 'artosis': 11594,\n",
              " 'via': 2332,\n",
              " '##oli': 12609,\n",
              " 'piogeno': 9277,\n",
              " 'sangr': 1589,\n",
              " 'silice': 13479,\n",
              " 'inetr': 14578,\n",
              " 'eritro': 9119,\n",
              " 'lipotimias': 16119,\n",
              " 'maxilarr': 29301,\n",
              " '##uridad': 14668,\n",
              " '##idad': 170,\n",
              " 'hvi': 7501,\n",
              " 'anteriorder': 29541,\n",
              " '##ret': 3467,\n",
              " '##terodina': 28418,\n",
              " 'oligodendroglioma': 22373,\n",
              " 'necesit': 19963,\n",
              " '##idan': 17722,\n",
              " '##sela': 17224,\n",
              " 'ultimas': 15617,\n",
              " 'podemos': 20065,\n",
              " 'internas': 5310,\n",
              " 'ci': 5122,\n",
              " 'regurgitacion': 14047,\n",
              " 'contralateral': 10104,\n",
              " '##epatia': 27497,\n",
              " '##icans': 25084,\n",
              " 'apices': 5418,\n",
              " 'hiperpresion': 19920,\n",
              " 'mesiodens': 2695,\n",
              " 'gastrectomia': 9071,\n",
              " 'cro': 5986,\n",
              " 'bop': 16857,\n",
              " '##olarizacion': 10394,\n",
              " 'idiopat': 15993,\n",
              " '##olias': 10274,\n",
              " 'insuficencia': 20613,\n",
              " 'avo': 6757,\n",
              " '##odend': 18198,\n",
              " 'ry': 17106,\n",
              " 'pericoronaritis': 827,\n",
              " 'cambios': 2053,\n",
              " '##levitis': 15597,\n",
              " '##kis': 24685,\n",
              " 'sillon': 20449,\n",
              " '##iement': 17863,\n",
              " 'osler': 18864,\n",
              " 'apositos': 26549,\n",
              " '##acila': 14477,\n",
              " 'ecograf': 21139,\n",
              " 'iat': 22860,\n",
              " 'caldera': 19117,\n",
              " 'hipoacu': 8062,\n",
              " 'eis': 22629,\n",
              " 'venir': 19197,\n",
              " 'perios': 11391,\n",
              " 'parasitosis': 21027,\n",
              " '##ns': 2682,\n",
              " 'mieloide': 22051,\n",
              " '##itto': 25631,\n",
              " 'neurolog': 5464,\n",
              " '##ivoconsulta': 27010,\n",
              " '##adada': 25165,\n",
              " '##aneos': 7955,\n",
              " '##recion': 3228,\n",
              " 'submaxilar': 7092,\n",
              " '##enia': 1770,\n",
              " '##atala': 17755,\n",
              " 'hemiabdomen': 16706,\n",
              " 'migran': 5733,\n",
              " '##ocitosis': 7118,\n",
              " '##cientes': 17238,\n",
              " 'peroneal': 27943,\n",
              " '##pzas': 14371,\n",
              " '##ulf': 14540,\n",
              " '##pac': 24487,\n",
              " 'tendinop': 19131,\n",
              " 'palacios': 9024,\n",
              " 'lentes': 1903,\n",
              " 'superficiales': 6124,\n",
              " 'tap': 2657,\n",
              " '##jen': 14406,\n",
              " 'dub': 16912,\n",
              " '##leonar': 27167,\n",
              " 'microhematuria': 7399,\n",
              " 'faciales': 4543,\n",
              " 'paciaente': 26648,\n",
              " 'derechoy': 29481,\n",
              " 'quyeb': 27839,\n",
              " 'extrema': 5874,\n",
              " 'endo': 311,\n",
              " 'hrc': 3413,\n",
              " 'difnc': 6320,\n",
              " 'seco': 4717,\n",
              " 'subdeltoideo': 21329,\n",
              " 'inusual': 21945,\n",
              " 'transmural': 12078,\n",
              " 'alucion': 27979,\n",
              " 'urtic': 7052,\n",
              " '##aeb': 9433,\n",
              " 'decea': 20092,\n",
              " 'bullying': 21594,\n",
              " 'refier': 7308,\n",
              " 'bilaterl': 21665,\n",
              " 'concha': 14588,\n",
              " 'erupcion': 456,\n",
              " '##kinder': 24705,\n",
              " 'otra': 636,\n",
              " '##ves': 3958,\n",
              " '##alizado': 24980,\n",
              " 'pfp': 6793,\n",
              " 'artrosica': 21310,\n",
              " 'plantares': 9148,\n",
              " 'hepaticas': 5895,\n",
              " 'infr': 6993,\n",
              " 'destentado': 5336,\n",
              " 'nefritico': 8270,\n",
              " 'cardiologo': 6578,\n",
              " 'tomar': 8610,\n",
              " 'unico': 6088,\n",
              " 'fracturo': 11522,\n",
              " 'acorc': 28846,\n",
              " 'traspal': 29012,\n",
              " '##ioneural': 13919,\n",
              " 'adormecimiento': 9321,\n",
              " 'peria': 7011,\n",
              " 'paciw': 26647,\n",
              " '##igestion': 27686,\n",
              " '##trol': 26299,\n",
              " 'ocacion': 13109,\n",
              " '##ulacion': 2363,\n",
              " 'superiorpaciente': 27470,\n",
              " 'otosocpia': 22047,\n",
              " 'sobredentadura': 8541,\n",
              " 'pone': 23224,\n",
              " 'den': 4069,\n",
              " 'asa': 2227,\n",
              " 'necoris': 29192,\n",
              " 'ful': 14096,\n",
              " '##uletol': 25858,\n",
              " 'candid': 4488,\n",
              " 'economicos': 10970,\n",
              " 'abier': 9588,\n",
              " '##oprazol': 28500,\n",
              " 'neonatala': 29854,\n",
              " 'sintomnticase': 22369,\n",
              " 'disfuncinn': 13542,\n",
              " 'pur': 3072,\n",
              " '##odemia': 14781,\n",
              " 'apic': 6984,\n",
              " 'carre': 27073,\n",
              " 'torp': 11674,\n",
              " 'pilonidal': 6897,\n",
              " 'periconoranitis': 16626,\n",
              " 'melan': 2002,\n",
              " 'berroeta': 10934,\n",
              " 'penetranteevaluar': 29763,\n",
              " 'epifisis': 5941,\n",
              " '##cele': 10186,\n",
              " 'menstr': 2973,\n",
              " 'perfusion': 13204,\n",
              " 'dento': 814,\n",
              " '##pesivo': 24517,\n",
              " '##acoles': 25302,\n",
              " '##rogram': 12231,\n",
              " '##leto': 27154,\n",
              " '##lepidemia': 27172,\n",
              " 'mir': 6925,\n",
              " 'yan': 17201,\n",
              " '##meta': 24194,\n",
              " '##edidad': 18237,\n",
              " 'endocervical': 3662,\n",
              " '##imas': 4433,\n",
              " '##inurias': 25533,\n",
              " 'cicl': 13268,\n",
              " '##isterio': 29462,\n",
              " '##poplit': 17450,\n",
              " 'neoplasico': 7819,\n",
              " 'asistio': 9206,\n",
              " '##uon': 24044,\n",
              " '##pxicilina': 24543,\n",
              " 'topica': 12059,\n",
              " 'llamado': 16235,\n",
              " 'reciente': 1898,\n",
              " 'craneales': 8694,\n",
              " 'excavado': 8708,\n",
              " 'percucion': 8111,\n",
              " '##coso': 23701,\n",
              " 'apropiadamente': 21756,\n",
              " 'cucocele': 22561,\n",
              " 'evlaaucion': 21296,\n",
              " 'cipital': 22548,\n",
              " 'enqu': 17762,\n",
              " '##onduc': 17643,\n",
              " 'pamidron': 21348,\n",
              " 'qur': 23255,\n",
              " 'uni': 15226,\n",
              " '##jo': 335,\n",
              " 'vim': 17181,\n",
              " 'hipoalbum': 19031,\n",
              " '##itan': 25628,\n",
              " '##eratorio': 12541,\n",
              " 'gr': 240,\n",
              " 'fas': 7879,\n",
              " 'adj': 7316,\n",
              " 'sugerencia': 20627,\n",
              " '##oy': 2235,\n",
              " 'importantes': 9180,\n",
              " 'ermatitis': 29225,\n",
              " 'mrodida': 22168,\n",
              " 'totol': 28579,\n",
              " 'inact': 6455,\n",
              " 'desdetado': 8208,\n",
              " 'ortodoncia': 1134,\n",
              " 'hercep': 18787,\n",
              " 'acii': 28820,\n",
              " 'pararadicular': 10028,\n",
              " 'mho': 17050,\n",
              " 'hara': 12346,\n",
              " 'gutapercha': 22348,\n",
              " 'alternando': 21459,\n",
              " 'espastica': 5764,\n",
              " '##xitud': 24128,\n",
              " 'distocervical': 7100,\n",
              " 'oligo': 7413,\n",
              " 'tbq': 7166,\n",
              " 'nerviosos': 7107,\n",
              " 'tele': 3458,\n",
              " 'mocio': 23075,\n",
              " '##nel': 17407,\n",
              " 'periodontit': 5681,\n",
              " 'descartar': 2370,\n",
              " 'motivo': 4744,\n",
              " 'heter': 6923,\n",
              " 'progestagenos': 21873,\n",
              " 'sinusorragia': 13221,\n",
              " '##gracias': 18783,\n",
              " 'espino': 8934,\n",
              " '##atopenia': 25889,\n",
              " 'llamen': 15765,\n",
              " 'seria': 15543,\n",
              " '##dies': 24549,\n",
              " 'respiratoria': 3725,\n",
              " 'weber': 13879,\n",
              " 'suprarenal': 6370,\n",
              " 'antidepresivo': 21982,\n",
              " 'especialsita': 12961,\n",
              " 'inlcu': 10062,\n",
              " '##nente': 24282,\n",
              " 'croncia': 14815,\n",
              " '##omaltologia': 29073,\n",
              " 'santor': 23380,\n",
              " 'prescencia': 28289,\n",
              " '##atrombocitopenia': 22110,\n",
              " '##tenicos': 18382,\n",
              " '##icem': 17577,\n",
              " 'senal': 6932,\n",
              " '##olecular': 25826,\n",
              " 'aumentada': 2692,\n",
              " 'frs': 18537,\n",
              " 'slatter': 23376,\n",
              " '##oprepucial': 13980,\n",
              " 'enrojec': 16603,\n",
              " 'segmentario': 16316,\n",
              " 'vidal': 17188,\n",
              " 'mediestinal': 29760,\n",
              " 'realacion': 28971,\n",
              " 'patron': 7896,\n",
              " 'bifosfonato': 15997,\n",
              " '##ecrt': 25723,\n",
              " '##iadamente': 17351,\n",
              " '##pur': 17434,\n",
              " '##agitis': 15095,\n",
              " 'artrosinovial': 16433,\n",
              " 'abuso': 3713,\n",
              " 'adher': 3520,\n",
              " 'desdentadatotal': 20690,\n",
              " 'pum': 17089,\n",
              " '##eus': 17317,\n",
              " 'iom': 12350,\n",
              " 'frecuentes': 3622,\n",
              " 'amigdaliano': 13073,\n",
              " 'ipsilaterales': 21911,\n",
              " '##olcele': 25824,\n",
              " 'chalazion': 3181,\n",
              " '##izados': 2387,\n",
              " '##let': 9535,\n",
              " '##opul': 28484,\n",
              " 'diciembre': 7401,\n",
              " 'screening': 12225,\n",
              " 'protop': 27208,\n",
              " '##rocefalia': 15423,\n",
              " 'lacunar': 7767,\n",
              " 'minimental': 15695,\n",
              " '##icivo': 11229,\n",
              " 'cervicouterino': 8618,\n",
              " 'semestral': 28236,\n",
              " '##quides': 27124,\n",
              " 'strica': 17145,\n",
              " 'remin': 26341,\n",
              " 'cargado': 27092,\n",
              " '##alcinosis': 14433,\n",
              " 'cronicamente': 27784,\n",
              " 'intermedia': 15662,\n",
              " 'stica': 23346,\n",
              " 'acreciones': 9361,\n",
              " 'osteomielitis': 8699,\n",
              " 'vlp': 23537,\n",
              " 'diamtro': 22003,\n",
              " 'sq': 17124,\n",
              " 'noa': 27307,\n",
              " 'blas': 16859,\n",
              " 'apoder': 26541,\n",
              " 'colpo': 29913,\n",
              " 'pierde': 6789,\n",
              " '##oniasis': 25383,\n",
              " 'pieda': 26428,\n",
              " '##ondilia': 15535,\n",
              " '##entomaxilar': 17600,\n",
              " '##acardiopatia': 14478,\n",
              " 'exfol': 6471,\n",
              " 'informadoobs': 16055,\n",
              " 'bull': 10797,\n",
              " '##hepatica': 6890,\n",
              " 'curvatura': 5923,\n",
              " 'interp': 5446,\n",
              " 'efectuar': 16366,\n",
              " '##agud': 2868,\n",
              " '##iacal': 15971,\n",
              " 'pantorrillas': 16760,\n",
              " 'aterosclerosis': 11980,\n",
              " '##ilica': 14592,\n",
              " 'carot': 2603,\n",
              " 'clave': 7971,\n",
              " 'parametr': 16001,\n",
              " 'rat': 23266,\n",
              " '##isticos': 5436,\n",
              " 'dermicas': 15952,\n",
              " 'digest': 1829,\n",
              " 'conalomatosis': 26151,\n",
              " '##udizada': 28172,\n",
              " 'temporamandibular': 21681,\n",
              " 'pox': 23221,\n",
              " 'degen': 1686,\n",
              " '##uros': 14666,\n",
              " 'algunas': 4990,\n",
              " 'orientado': 16467,\n",
              " 'complicados': 15404,\n",
              " '##olizada': 25803,\n",
              " 'trombo': 7090,\n",
              " 'valpro': 11607,\n",
              " 'chaga': 13434,\n",
              " 'aseptico': 12885,\n",
              " 'pausas': 8574,\n",
              " '##ucuao': 27760,\n",
              " '##itivos': 3240,\n",
              " '##aluada': 28038,\n",
              " 'kgs': 16165,\n",
              " 'roll': 21925,\n",
              " '##urigo': 26743,\n",
              " '##tco': 24234,\n",
              " 'descontrol': 5709,\n",
              " 'frenillos': 7706,\n",
              " 'dismorfico': 7171,\n",
              " 'frastr': 28985,\n",
              " 'pli': 19007,\n",
              " 'hbl': 15825,\n",
              " '##teados': 18132,\n",
              " 'diahidro': 29033,\n",
              " '##ior': 2030,\n",
              " 'glo': 22741,\n",
              " 'ateroesclerosis': 16536,\n",
              " 'desajustes': 10544,\n",
              " '##toplastia': 15366,\n",
              " 'sumer': 7519,\n",
              " '##imandibular': 18272,\n",
              " 'si': 2234,\n",
              " 'transfixia': 8084,\n",
              " 'reitar': 26353,\n",
              " '##enqu': 11258,\n",
              " 'mordidad': 10704,\n",
              " 'manso': 28749,\n",
              " '##ologna': 28967,\n",
              " '##rinaria': 17301,\n",
              " '##cleros': 27225,\n",
              " 'trombocitopenica': 16527,\n",
              " 'expectante': 19954,\n",
              " '##etiracet': 28886,\n",
              " 'du': 2275,\n",
              " 'nulig': 11773,\n",
              " '##fagia': 10612,\n",
              " 'abcesos': 9589,\n",
              " 'ota': 23158,\n",
              " 'keg': 22927,\n",
              " '##ell': 823,\n",
              " 'dadas': 22584,\n",
              " 'beam': 10923,\n",
              " '##vamente': 23773,\n",
              " 'acn': 12836,\n",
              " 'tvp': 2702,\n",
              " 'dificultades': 4736,\n",
              " 'suprarrenal': 6862,\n",
              " 'migraciones': 16219,\n",
              " 'invol': 4386,\n",
              " '##uldad': 17745,\n",
              " '##inev': 25488,\n",
              " 'paletizada': 18898,\n",
              " '##lemia': 23867,\n",
              " 'prominente': 10851,\n",
              " 'comiendo': 28449,\n",
              " 'fonofobia': 19907,\n",
              " 'sie': 23329,\n",
              " 'sindr': 9023,\n",
              " 'epirretiniana': 29837,\n",
              " '##uco': 14807,\n",
              " '##oneal': 4980,\n",
              " '##atarsia': 15551,\n",
              " 'carnos': 27079,\n",
              " 'nter': 23095,\n",
              " 'ganglion': 5227,\n",
              " '##triasis': 26309,\n",
              " '##esnta': 25140,\n",
              " 'mh': 14142,\n",
              " '##inea': 6021,\n",
              " 'reepitel': 26359,\n",
              " 'conrica': 26143,\n",
              " 'magn': 12142,\n",
              " 'compan': 12831,\n",
              " 'saco': 3550,\n",
              " 'fenestr': 9892,\n",
              " '##bidos': 17430,\n",
              " 'gastrointestinal': 5472,\n",
              " 'sistomatico': 8519,\n",
              " 'deab': 24935,\n",
              " '##isia': 12572,\n",
              " 'cervical': 854,\n",
              " '##ogonadismo': 28340,\n",
              " 'bast': 15675,\n",
              " '##bado': 24426,\n",
              " 'apocr': 17919,\n",
              " 'cmv': 13149,\n",
              " 'bul': 4502,\n",
              " 'aladas': 27976,\n",
              " 'intensas': 13253,\n",
              " 'pth': 19694,\n",
              " 'pulpis': 18209,\n",
              " '##atidia': 25893,\n",
              " 'ie': 22853,\n",
              " '##iasolicito': 27845,\n",
              " 'fratura': 12858,\n",
              " '##tiples': 7240,\n",
              " 'intrar': 9788,\n",
              " '##ioval': 24910,\n",
              " 'protrusion': 2726,\n",
              " '##dinitis': 12511,\n",
              " 'lateralizada': 19534,\n",
              " '##vica': 12445,\n",
              " '##osional': 25353,\n",
              " 'fibrosa': 6364,\n",
              " '##uestos': 16353,\n",
              " '##ja': 728,\n",
              " 'dentulo': 26809,\n",
              " '##otrop': 12731,\n",
              " '##raccion': 14293,\n",
              " 'mont': 5129,\n",
              " 'reacciona': 13481,\n",
              " 'mia': 17037,\n",
              " 'yn': 23575,\n",
              " '##naud': 7648,\n",
              " '##brado': 24463,\n",
              " 'menisco': 2270,\n",
              " '##erv': 346,\n",
              " 'mil': 2981,\n",
              " 'hipocalcemia': 16682,\n",
              " '##ilidad': 341,\n",
              " 'mononeuropatia': 7461,\n",
              " 'vestivularizada': 21253,\n",
              " 'poricion': 27283,\n",
              " 'endode': 29090,\n",
              " 'univers': 19006,\n",
              " 'gico': 12343,\n",
              " '##baco': 24444,\n",
              " 'cito': 12317,\n",
              " 'restaurable': 10972,\n",
              " '##hen': 17507,\n",
              " 'fonoarticulacion': 16013,\n",
              " 'ero': 8293,\n",
              " 'solicitaron': 16154,\n",
              " '##inusitis': 6389,\n",
              " 'ovejet': 12222,\n",
              " 'radioyodo': 15305,\n",
              " 'hiperpol': 13306,\n",
              " '##accico': 25314,\n",
              " 'econom': 9043,\n",
              " '##crof': 23722,\n",
              " 'opacificacion': 16559,\n",
              " 'tetr': 8829,\n",
              " 'quistectomia': 12119,\n",
              " '##ieste': 27691,\n",
              " 'pneumonia': 16771,\n",
              " 'mb': 8811,\n",
              " '##tosa': 17386,\n",
              " 'espod': 18076,\n",
              " 'pido': 12390,\n",
              " 'trstorno': 13830,\n",
              " 'hoy': 3095,\n",
              " '##urona': 26740,\n",
              " 'anteceente': 21545,\n",
              " '##equedad': 17325,\n",
              " '##iria': 28714,\n",
              " 'kenedy': 4377,\n",
              " 'caras': 9530,\n",
              " 'hipertens': 815,\n",
              " '##xores': 24127,\n",
              " 'esporadicamente': 9217,\n",
              " '##sco': 23624,\n",
              " 'metabolismo': 13377,\n",
              " 'snell': 8700,\n",
              " 'apica': 14641,\n",
              " '##na': 402,\n",
              " 'trop': 17160,\n",
              " '##opl': 18417,\n",
              " 'stra': 23357,\n",
              " '##inicp': 25532,\n",
              " 'valora': 19052,\n",
              " 'severatras': 29248,\n",
              " '##ocleidomas': 18396,\n",
              " '##uinda': 24108,\n",
              " 'aluc': 7012,\n",
              " 'dud': 3896,\n",
              " '##ilina': 17829,\n",
              " '##iuria': 9442,\n",
              " 'virus': 5748,\n",
              " '##ulante': 17743,\n",
              " '##ogen': 2263,\n",
              " 'hered': 4829,\n",
              " 'compulsivo': 12201,\n",
              " 'blefaroplastia': 13690,\n",
              " 'astra': 29269,\n",
              " 'malabsorcion': 9350,\n",
              " 'necs': 29180,\n",
              " 'luminoso': 21279,\n",
              " 'smp': 17131,\n",
              " 'prolapso': 1283,\n",
              " '##kqu': 24689,\n",
              " 'maleolar': 21129,\n",
              " 'cronea': 27781,\n",
              " 'areola': 16082,\n",
              " 'tan': 12413,\n",
              " 'vier': 9423,\n",
              " 'palatina': 2192,\n",
              " '##fal': 4512,\n",
              " 'mejorar': 8182,\n",
              " '##olo': 2950,\n",
              " '##tiad': 24254,\n",
              " 'mejoria': 4167,\n",
              " 'cataratas': 3620,\n",
              " '##ument': 511,\n",
              " '##amidolismo': 26052,\n",
              " '##antiene': 28111,\n",
              " 'inguinial': 12121,\n",
              " 'sid': 8325,\n",
              " '##ansea': 9720,\n",
              " 'dental': 508,\n",
              " 'taquiar': 9166,\n",
              " 'mail': 13571,\n",
              " 'genicomastia': 29428,\n",
              " 'contactos': 16619,\n",
              " '##enar': 14511,\n",
              " 'erpcionado': 21793,\n",
              " '##gos': 2059,\n",
              " 'retr': 1099,\n",
              " '##madre': 21236,\n",
              " '##gama': 24608,\n",
              " '##faciales': 21291,\n",
              " 'mesioinclinacinn': 20518,\n",
              " '##openia': 2520,\n",
              " '##mag': 24181,\n",
              " 'pica': 8316,\n",
              " '##ificativo': 28019,\n",
              " 'osc': 6745,\n",
              " 'recid': 2454,\n",
              " 'cardiocirujano': 16475,\n",
              " 'dificit': 11636,\n",
              " 'irritantes': 10657,\n",
              " 'clasificasion': 19466,\n",
              " 'gastroenteritis': 5620,\n",
              " '##troc': 4953,\n",
              " '##agrad': 11532,\n",
              " 'presenciada': 28291,\n",
              " 'aun': 3235,\n",
              " 'oftalmologo': 4233,\n",
              " '##iitiasis': 24153,\n",
              " 'biradicular': 16873,\n",
              " 'xdom': 23570,\n",
              " 'ipratropio': 16766,\n",
              " '##zol': 3590,\n",
              " 'pren': 6465,\n",
              " 'enfis': 18596,\n",
              " 'conjus': 21078,\n",
              " '##razos': 12822,\n",
              " 'pilares': 5753,\n",
              " '##omotilidad': 16358,\n",
              " 'impactadoscanino': 22323,\n",
              " 'tetrapir': 21351,\n",
              " 'termp': 18931,\n",
              " '##uca': 18245,\n",
              " 'paciel': 26642,\n",
              " 'multiquistica': 22275,\n",
              " 'semie': 9572,\n",
              " '##pus': 24497,\n",
              " 'dieron': 12322,\n",
              " 'intens': 1742,\n",
              " 'rotados': 7063,\n",
              " 'rasguno': 14055,\n",
              " 'pedida': 20275,\n",
              " '##apaciente': 29392,\n",
              " 'priod': 26787,\n",
              " 'modula': 29986,\n",
              " 'protesi': 18457,\n",
              " '##usto': 11325,\n",
              " 'eventos': 20194,\n",
              " '##dactilia': 24575,\n",
              " 'ppr': 1884,\n",
              " '##etabolica': 20822,\n",
              " 'restaur': 2791,\n",
              " 'pubalgia': 15882,\n",
              " '##undacion': 14741,\n",
              " 'irrevrsible': 13835,\n",
              " 'tigo': 23415,\n",
              " 'toda': 7405,\n",
              " 'esg': 14601,\n",
              " 'espend': 18079,\n",
              " 'hiperactivo': 9796,\n",
              " 'ut': 7520,\n",
              " 'pif': 23203,\n",
              " 'perioconor': 20319,\n",
              " 'complicacion': 2674,\n",
              " 'ecot': 9694,\n",
              " 'apenea': 21638,\n",
              " '##fb': 24352,\n",
              " 'inflamatorios': 5073,\n",
              " 'inmed': 19741,\n",
              " 'grupo': 541,\n",
              " '##requiere': 27740,\n",
              " '##plantar': 19544,\n",
              " 'levodopa': 22292,\n",
              " 'mucosa': 2000,\n",
              " '##aco': 1004,\n",
              " 'valorar': 9959,\n",
              " '##xcion': 24120,\n",
              " 'eva': 4354,\n",
              " '##leovestibular': 27170,\n",
              " 'dentomandibular': 10320,\n",
              " '##idium': 12608,\n",
              " 'previsoria': 19105,\n",
              " 'hiperhom': 28956,\n",
              " 'cinar': 16894,\n",
              " 'parcila': 7771,\n",
              " 'artr': 471,\n",
              " '##part': 24513,\n",
              " 'lomp': 22972,\n",
              " '##idades': 1192,\n",
              " 'activ': 4720,\n",
              " 'parafimosis': 3319,\n",
              " 'cervicopatia': 10708,\n",
              " 'dts': 16915,\n",
              " '##rtica': 23940,\n",
              " 'recidivado': 9859,\n",
              " '##istico': 1839,\n",
              " 'detect': 15733,\n",
              " 'adaptada': 16044,\n",
              " 'hemoragia': 19277,\n",
              " 'samter': 21621,\n",
              " '##zlizada': 24669,\n",
              " 'apciente': 26540,\n",
              " 'infund': 26937,\n",
              " 'conom': 17817,\n",
              " 'reintegr': 26360,\n",
              " '##onos': 2072,\n",
              " 'descrito': 10823,\n",
              " 'periuretrales': 20908,\n",
              " 'evonucion': 27629,\n",
              " 'derecta': 27141,\n",
              " 'glandulas': 7735,\n",
              " 'agvo': 7311,\n",
              " '##embarazo': 8679,\n",
              " 'fc': 3846,\n",
              " '##rm': 12466,\n",
              " 'desfavor': 11993,\n",
              " 'anix': 26864,\n",
              " 'esdentada': 14605,\n",
              " 'subito': 12970,\n",
              " '##orsis': 25462,\n",
              " 'fro': 1807,\n",
              " '##vetal': 23784,\n",
              " 'podria': 11826,\n",
              " '##urente': 26733,\n",
              " 'les': 2255,\n",
              " '##este': 25125,\n",
              " '##segment': 23653,\n",
              " '##yect': 1887,\n",
              " '##solicit': 23647,\n",
              " '##jur': 24781,\n",
              " '##mia': 1762,\n",
              " '##eatorio': 24023,\n",
              " '##xs': 24113,\n",
              " 'sacroilitis': 20615,\n",
              " 'radiop': 8465,\n",
              " 'pron': 4699,\n",
              " 'erepcionado': 22006,\n",
              " 'rad': 412,\n",
              " 'suprarotuliana': 20530,\n",
              " '##idada': 6969,\n",
              " 'ani': 17992,\n",
              " 'distocia': 13202,\n",
              " '##entacion': 11234,\n",
              " 'invertidas': 11593,\n",
              " 'mostrar': 21597,\n",
              " 'parapro': 28423,\n",
              " 'antihipertensivo': 21504,\n",
              " 'papila': 6565,\n",
              " 'integridad': 11844,\n",
              " 'oae': 23176,\n",
              " 'colabora': 16468,\n",
              " 'agresion': 11492,\n",
              " 'multidisciplinaria': 16753,\n",
              " '##iob': 2949,\n",
              " 'tubulointers': 22065,\n",
              " 'intercos': 9767,\n",
              " 'apico': 17909,\n",
              " 'mesioangulado': 13594,\n",
              " '##rut': 23943,\n",
              " '##odontitis': 23823,\n",
              " 'musc': 15434,\n",
              " '##tidea': 24244,\n",
              " 'dientepro': 28677,\n",
              " '##vular': 14270,\n",
              " '##hnp': 17514,\n",
              " 'malocclusion': 21542,\n",
              " 'evaluacvion': 28098,\n",
              " 'prural': 26771,\n",
              " '##acrisis': 25304,\n",
              " 'eritroplasia': 13864,\n",
              " 'quem': 2834,\n",
              " 'lech': 4896,\n",
              " '##ioesta': 24904,\n",
              " 'eclerosis': 22667,\n",
              " 'contagiosos': 11978,\n",
              " '##arco': 25023,\n",
              " '##uchas': 13541,\n",
              " '##idadiabetes': 27613,\n",
              " 'hipe': 11396,\n",
              " '##mad': 7927,\n",
              " 'superi': 19313,\n",
              " 'hipocrom': 7801,\n",
              " 'situs': 12405,\n",
              " 'feb': 2599,\n",
              " '##umaticos': 18978,\n",
              " '##itud': 3907,\n",
              " '##ultiples': 29640,\n",
              " 'severacaries': 29247,\n",
              " 'par': 105,\n",
              " 'supraclaviculares': 21596,\n",
              " 'norte': 23125,\n",
              " 'vej': 2546,\n",
              " '##dimen': 24580,\n",
              " 'atico': 22403,\n",
              " 'chequeo': 13939,\n",
              " '##atrofia': 17757,\n",
              " '##piana': 14373,\n",
              " '##olerancia': 2883,\n",
              " '##ate': 5836,\n",
              " 'definidas': 10586,\n",
              " 'hgma': 16282,\n",
              " 'cd': 4678,\n",
              " 'inclusiones': 9872,\n",
              " 'especifico': 4938,\n",
              " 'lib': 8810,\n",
              " 'cms': 4376,\n",
              " 'retenidos': 3341,\n",
              " 'pterigeon': 19692,\n",
              " 'inv': 2574,\n",
              " '##oparesia': 21298,\n",
              " 'arcades': 19754,\n",
              " '##vestibulo': 23795,\n",
              " 'asitio': 29283,\n",
              " 'estenosis': 1402,\n",
              " '##romicas': 18669,\n",
              " '##etula': 28869,\n",
              " 'dentto': 26807,\n",
              " 'escap': 6761,\n",
              " '##guinal': 9641,\n",
              " 'necesaria': 13322,\n",
              " '##red': 5140,\n",
              " 'queloide': 4880,\n",
              " '##icivos': 9466,\n",
              " 'dib': 11046,\n",
              " 'pseudoquiste': 16098,\n",
              " '##kit': 12521,\n",
              " 'silicosis': 7792,\n",
              " 'displasicos': 21098,\n",
              " 'otoscop': 19388,\n",
              " 'endodn': 4995,\n",
              " 'endodnticamente': 15974,\n",
              " 'sigmoideo': 21205,\n",
              " '##icu': 11227,\n",
              " '##tno': 24226,\n",
              " 'conhistoria': 26149,\n",
              " '##odibular': 27588,\n",
              " 'proyeccion': 21366,\n",
              " '##matico': 8054,\n",
              " '##adolitiasis': 25188,\n",
              " 'inac': 26054,\n",
              " 'flow': 22725,\n",
              " 'mal': 247,\n",
              " 'temporo': 3864,\n",
              " '##quirur': 7110,\n",
              " 'hablado': 19507,\n",
              " 'espicule': 22224,\n",
              " 'hiperdis': 18532,\n",
              " '##idqa': 17731,\n",
              " 'onco': 19802,\n",
              " 'labor': 3771,\n",
              " '##plas': 12505,\n",
              " 'marcha': 2467,\n",
              " 'csi': 22555,\n",
              " '##vov': 23774,\n",
              " 'totsl': 14918,\n",
              " 'fibromialgias': 19806,\n",
              " 'pulpapieza': 18220,\n",
              " 'hermanos': 16021,\n",
              " 'bibernn': 21276,\n",
              " '##terigio': 28416,\n",
              " 'subgingiv': 12971,\n",
              " 'vanos': 23526,\n",
              " 'intestino': 4382,\n",
              " '##ralizada': 7674,\n",
              " 'catarata': 2203,\n",
              " 'cronicaperiodont': 28203,\n",
              " 'ilog': 16999,\n",
              " 'mejilla': 2878,\n",
              " 'alucinosis': 16308,\n",
              " 'insistentemente': 29795,\n",
              " 'psicom': 3112,\n",
              " 'irespir': 28700,\n",
              " 'sale': 9755,\n",
              " 'evaluado': 2955,\n",
              " 'intre': 18574,\n",
              " 'cronicca': 21443,\n",
              " 'valgo': 2336,\n",
              " '##elino': 28257,\n",
              " 'antera': 27361,\n",
              " 'endoscopico': 16523,\n",
              " 'colque': 29919,\n",
              " '##omisado': 26246,\n",
              " 'en': 80,\n",
              " 'desrregulacion': 26608,\n",
              " 'torticolis': 10089,\n",
              " 'traumatismo': 1220,\n",
              " 'inmun': 2567,\n",
              " '##ticamente': 10201,\n",
              " '##imentr': 18270,\n",
              " 'avod': 9055,\n",
              " 'linfonod': 9123,\n",
              " 'hematuria': 2329,\n",
              " 'spot': 15920,\n",
              " 'espiga': 7000,\n",
              " 'rectoragia': 13927,\n",
              " '##aparesia': 16229,\n",
              " '##aela': 23920,\n",
              " 'motr': 20227,\n",
              " 'repiticion': 12206,\n",
              " 'perno': 4436,\n",
              " 'removibles': 4100,\n",
              " 'explos': 16004,\n",
              " 'detrus': 17554,\n",
              " 'vir': 2344,\n",
              " '##raquil': 28623,\n",
              " 'trem': 14624,\n",
              " 'rcf': 10803,\n",
              " 'aglut': 29168,\n",
              " 'paratoidea': 21965,\n",
              " 'scol': 23372,\n",
              " 'compleja': 3374,\n",
              " 'unitaria': 3223,\n",
              " 'perestesia': 27940,\n",
              " '##iemin': 26289,\n",
              " 'habria': 19508,\n",
              " 'hoc': 22802,\n",
              " '##emibloqueo': 27052,\n",
              " 'tartamudeo': 22371,\n",
              " 'retraido': 21320,\n",
              " 'cardioemb': 19688,\n",
              " 'aquil': 4775,\n",
              " '##eu': 7919,\n",
              " 'impactadas': 2092,\n",
              " 'hemicraneo': 16094,\n",
              " 'cariogenico': 8781,\n",
              " '##ospica': 15490,\n",
              " '##comp': 17244,\n",
              " 'inve': 14579,\n",
              " 'correc': 5054,\n",
              " '##enual': 25588,\n",
              " '##ulpable': 19913,\n",
              " 'biop': 1922,\n",
              " 'teleton': 20375,\n",
              " '##imex': 27863,\n",
              " 'poder': 3539,\n",
              " '##ioencia': 24897,\n",
              " 'rnp': 3355,\n",
              " 'desaturacion': 21436,\n",
              " '##noso': 11520,\n",
              " 'dap': 7875,\n",
              " 'relevancia': 6843,\n",
              " 'abudantes': 28675,\n",
              " '##itro': 25629,\n",
              " '##iter': 4200,\n",
              " 'periad': 18294,\n",
              " 'clavul': 13420,\n",
              " 'sindrome': 573,\n",
              " 'toral': 8528,\n",
              " '##ocemia': 28374,\n",
              " 'inferioren': 27482,\n",
              " '##iosis': 1155,\n",
              " '##pp': 5398,\n",
              " 'anestecia': 14688,\n",
              " 'conversado': 12023,\n",
              " '##clito': 27224,\n",
              " 'deesp': 17550,\n",
              " 'clavicular': 5222,\n",
              " 'operado': 1327,\n",
              " 'radicado': 29950,\n",
              " 'pnte': 23212,\n",
              " '##roso': 7918,\n",
              " '##rocarcinoma': 19410,\n",
              " 'queratoma': 19961,\n",
              " '##uscular': 5419,\n",
              " 'balanitis': 5223,\n",
              " 'forunculo': 13554,\n",
              " 'fonema': 15703,\n",
              " '##miendo': 24193,\n",
              " 'podido': 15769,\n",
              " '##iacion': 3326,\n",
              " 'esterno': 13169,\n",
              " 'insercional': 19911,\n",
              " '##tantes': 4349,\n",
              " '##osorb': 14484,\n",
              " '##irrad': 28726,\n",
              " 'tras': 299,\n",
              " 'bano': 11035,\n",
              " 'muer': 6193,\n",
              " 'anostabaquismo': 28642,\n",
              " 'gramo': 28477,\n",
              " '##ulada': 7570,\n",
              " 'pericoronartitis': 21809,\n",
              " 'hemorrides': 21568,\n",
              " 'anormalia': 19881,\n",
              " '##anoma': 17773,\n",
              " '##onem': 25373,\n",
              " 'ampolla': 9278,\n",
              " 'compania': 8008,\n",
              " '##ecimeinto': 25737,\n",
              " 'sertralina': 7863,\n",
              " '##izado': 942,\n",
              " '##orval': 25463,\n",
              " '##gea': 24599,\n",
              " 'especificada': 520,\n",
              " 'tarso': 20279,\n",
              " '##erancia': 12540,\n",
              " 'rtrosis': 23315,\n",
              " '##oth': 14764,\n",
              " 'cistitis': 5635,\n",
              " 'osti': 18863,\n",
              " 'afec': 13276,\n",
              " 'actividades': 5517,\n",
              " 'cst': 22546,\n",
              " 'bialteral': 16587,\n",
              " 'fa': 1644,\n",
              " 'capsular': 8628,\n",
              " 'disecante': 28162,\n",
              " 'piezq': 20900,\n",
              " 'flos': 16945,\n",
              " 'conmin': 14587,\n",
              " '##angina': 15375,\n",
              " 'maxiliar': 19547,\n",
              " 'eaoc': 6585,\n",
              " '##evaluar': 13492,\n",
              " 'acrecion': 8982,\n",
              " 'compelta': 18487,\n",
              " 'patia': 23199,\n",
              " 'metabolica': 13376,\n",
              " ...}"
            ]
          },
          "metadata": {},
          "execution_count": 89
        }
      ],
      "source": [
        "# Para ver todo el vocabulario del tonekizador consultar la siguiente funcion\n",
        "tokenizer.get_vocab()"
      ]
    },
    {
      "cell_type": "code",
      "execution_count": 90,
      "metadata": {
        "id": "W0GIB9UX593t",
        "outputId": "2da50b73-f36a-4a48-c110-fc503ddae2a4",
        "colab": {
          "base_uri": "https://localhost:8080/"
        }
      },
      "outputs": [
        {
          "output_type": "execute_result",
          "data": {
            "text/plain": [
              "[383, 618, 635, 119, 466, 1765, 970]"
            ]
          },
          "metadata": {},
          "execution_count": 90
        }
      ],
      "source": [
        "tokenized_output.ids"
      ]
    },
    {
      "cell_type": "code",
      "execution_count": 91,
      "metadata": {
        "id": "pJR6gK1s5932",
        "outputId": "2922804f-63e8-471b-f3d7-f823a429a5c4",
        "colab": {
          "base_uri": "https://localhost:8080/"
        }
      },
      "outputs": [
        {
          "output_type": "execute_result",
          "data": {
            "text/plain": [
              "['anomalias',\n",
              " 'dentofaciales',\n",
              " 'incluso',\n",
              " 'la',\n",
              " 'maloclusion',\n",
              " 'discrepancia',\n",
              " 'dentomaxilar']"
            ]
          },
          "metadata": {},
          "execution_count": 91
        }
      ],
      "source": [
        "tokenized_output.tokens"
      ]
    },
    {
      "cell_type": "markdown",
      "metadata": {
        "id": "2Vam2APe5933"
      },
      "source": [
        "Tal como lo hicimos anteriormente podemos aplicar paralelamente nuestro tokenizador sobre el conjunto de datos mediante el método `Dataset.map()`"
      ]
    },
    {
      "cell_type": "code",
      "execution_count": 92,
      "metadata": {
        "colab": {
          "referenced_widgets": [
            "a561e64871d04f6483027c8ae12abc69",
            "19157b45facb47b09f625408dd34e9fe",
            "1114f1409f454a32b3861bb512302d77",
            "ff050bcb41874d019867c3052917f622",
            "18decc9adc134978a5b8a8e5ad29acdb",
            "af8d8f8488d149c795114d928a93a590",
            "5fbcfbfba44c430a9722299ed10e4fd3",
            "c9c3407d1e2f4d18a097abc4c18d4929",
            "aec682c33a424e5fb674ad1ff89da7c8",
            "914652aa78b84c438931c42f6d880ff4",
            "8061e680c0dd447b82d8754044f831b9"
          ],
          "base_uri": "https://localhost:8080/",
          "height": 49
        },
        "id": "w9LG2vtf5933",
        "outputId": "ff187898-c5a9-4a2e-f583-d675d394d70a"
      },
      "outputs": [
        {
          "output_type": "display_data",
          "data": {
            "text/plain": [
              "Map:   0%|          | 0/70000 [00:00<?, ? examples/s]"
            ],
            "application/vnd.jupyter.widget-view+json": {
              "version_major": 2,
              "version_minor": 0,
              "model_id": "a561e64871d04f6483027c8ae12abc69"
            }
          },
          "metadata": {}
        }
      ],
      "source": [
        "spanish_diagnostics_normalized_tokenized = spanish_diagnostics_normalized.map(\n",
        "    lambda x: {\"tokenized_text\": tokenizer.encode(x[\"text\"]).tokens})"
      ]
    },
    {
      "cell_type": "markdown",
      "metadata": {
        "id": "BLMU1zY_5933"
      },
      "source": [
        "Nuestro conjunto de datos ahora contiene el texto tokenizado en la característica `tokenized_text`."
      ]
    },
    {
      "cell_type": "code",
      "execution_count": 93,
      "metadata": {
        "id": "b-FyS9Dc5933",
        "outputId": "fa856170-b7a1-4c28-9db5-e696e4e7422e",
        "colab": {
          "base_uri": "https://localhost:8080/"
        }
      },
      "outputs": [
        {
          "output_type": "execute_result",
          "data": {
            "text/plain": [
              "{'text': '- ANOMALÍAS DENTOFACIALES (INCLUSO LA MALOCLUSIÓN)\\n\\n\\n DISCREPANCIA DENTOMAXILAR',\n",
              " 'label': 1,\n",
              " 'normalized_text': '  anomalias dentofaciales  incluso la maloclusion     discrepancia dentomaxilar',\n",
              " 'tokenized_text': ['anomalias',\n",
              "  'dentofaciales',\n",
              "  'incluso',\n",
              "  'la',\n",
              "  'maloclusion',\n",
              "  'discrepancia',\n",
              "  'dentomaxilar']}"
            ]
          },
          "metadata": {},
          "execution_count": 93
        }
      ],
      "source": [
        "spanish_diagnostics_normalized_tokenized[0]"
      ]
    },
    {
      "cell_type": "markdown",
      "metadata": {
        "id": "7TWw6xUJ5933"
      },
      "source": [
        "## Stemming y Lematización"
      ]
    },
    {
      "cell_type": "markdown",
      "metadata": {
        "id": "7pdo3UQu5933"
      },
      "source": [
        "Con el fin de disminuir la cantidad de características de las representaciones de texto existen métodos que reducen el tamaño de vocabulario al eliminar inflexiones que puedan tener las palabras. Estos métodos son:\n",
        "\n",
        "- Lematización: Este método lleva una palabra en su forma flexionada a su forma base, por ejemplo *tratada* -> *tratar*\n",
        "- Stemming: Este método trunca las palabras de entrada mediante un algoritmo predefinido para encontrar la raíz de la misma, por ejemplo *tratada* -> *trat*\n",
        "\n",
        "El proceso de lematización lo haremos a través de la biblioteca Spacy y el proceso de stemming a través de la biblioteca NLTK utilizando el algoritmo Snowball."
      ]
    },
    {
      "cell_type": "markdown",
      "metadata": {
        "id": "H-eMhGUO5934"
      },
      "source": [
        "Instanciamos el analizador de Spacy"
      ]
    },
    {
      "cell_type": "code",
      "execution_count": 94,
      "metadata": {
        "id": "LW6S71nJ5934"
      },
      "outputs": [],
      "source": [
        "nlp = es_core_news_sm.load()"
      ]
    },
    {
      "cell_type": "markdown",
      "metadata": {
        "id": "IwZOlQmu5934"
      },
      "source": [
        "Definimos como tokenizador el que entrenamos anteriormente."
      ]
    },
    {
      "cell_type": "code",
      "execution_count": 95,
      "metadata": {
        "id": "0tmeKRz-5934"
      },
      "outputs": [],
      "source": [
        "def custom_tokenizer(text):\n",
        "    tokens = tokenizer.encode(text).tokens\n",
        "    return spacy.tokens.Doc(nlp.vocab, tokens)"
      ]
    },
    {
      "cell_type": "code",
      "execution_count": 96,
      "metadata": {
        "id": "BBKnIt6A5934"
      },
      "outputs": [],
      "source": [
        "nlp.tokenizer = custom_tokenizer"
      ]
    },
    {
      "cell_type": "markdown",
      "metadata": {
        "id": "CRo1G2Xi5934"
      },
      "source": [
        "Instanciamos el Stemmer"
      ]
    },
    {
      "cell_type": "code",
      "execution_count": 97,
      "metadata": {
        "id": "fUjHTJBs5934"
      },
      "outputs": [],
      "source": [
        "stemmer = nltk.stem.SnowballStemmer(\"spanish\")"
      ]
    },
    {
      "cell_type": "markdown",
      "metadata": {
        "id": "mY_DL5T-5935"
      },
      "source": [
        "Podemos verificar cómo funcionan estos métodos sobre un texto de prueba de nuestro conjunto de datos."
      ]
    },
    {
      "cell_type": "code",
      "execution_count": 98,
      "metadata": {
        "id": "_2OaKE3t5935",
        "outputId": "68fd69bd-d74b-468a-b5ce-b7f11672b8a3",
        "colab": {
          "base_uri": "https://localhost:8080/",
          "height": 35
        }
      },
      "outputs": [
        {
          "output_type": "execute_result",
          "data": {
            "text/plain": [
              "'pieza n 3.4 tratada endodonticamente, restaurada con ionomero y resina compuesta. Necesita protesis fija por gran pNrdida coronaria'"
            ],
            "application/vnd.google.colaboratory.intrinsic+json": {
              "type": "string"
            }
          },
          "metadata": {},
          "execution_count": 98
        }
      ],
      "source": [
        "spanish_diagnostics_normalized_tokenized[5][\"text\"]"
      ]
    },
    {
      "cell_type": "code",
      "execution_count": 99,
      "metadata": {
        "id": "d6jhbmgS5935",
        "outputId": "0be8ffd4-57fb-4189-a73f-a49ad13259f8",
        "colab": {
          "base_uri": "https://localhost:8080/"
        }
      },
      "outputs": [
        {
          "output_type": "stream",
          "name": "stdout",
          "text": [
            "Token: pieza\n",
            "Lema: pieza\n",
            "Stem: piez\n",
            "---\n",
            "Token: n\n",
            "Lema: n\n",
            "Stem: n\n",
            "---\n",
            "Token: tratada\n",
            "Lema: tratado\n",
            "Stem: trat\n",
            "---\n",
            "Token: endodonticamente\n",
            "Lema: endodonticamente\n",
            "Stem: endodont\n",
            "---\n",
            "Token: restaurada\n",
            "Lema: restaurado\n",
            "Stem: restaur\n",
            "---\n",
            "Token: con\n",
            "Lema: con\n",
            "Stem: con\n",
            "---\n",
            "Token: ionomero\n",
            "Lema: ionomero\n",
            "Stem: ionomer\n",
            "---\n",
            "Token: y\n",
            "Lema: y\n",
            "Stem: y\n",
            "---\n",
            "Token: resina\n",
            "Lema: resina\n",
            "Stem: resin\n",
            "---\n",
            "Token: compuesta\n",
            "Lema: compuesto\n",
            "Stem: compuest\n",
            "---\n",
            "Token: necesita\n",
            "Lema: necesitar\n",
            "Stem: necesit\n",
            "---\n",
            "Token: protesis\n",
            "Lema: protesis\n",
            "Stem: protesis\n",
            "---\n",
            "Token: fija\n",
            "Lema: fijo\n",
            "Stem: fij\n",
            "---\n",
            "Token: por\n",
            "Lema: por\n",
            "Stem: por\n",
            "---\n",
            "Token: gran\n",
            "Lema: gran\n",
            "Stem: gran\n",
            "---\n",
            "Token: pnrdida\n",
            "Lema: pnrdida\n",
            "Stem: pnrdid\n",
            "---\n",
            "Token: coronaria\n",
            "Lema: coronario\n",
            "Stem: coronari\n",
            "---\n"
          ]
        }
      ],
      "source": [
        "for t in nlp(spanish_diagnostics_normalized_tokenized[5][\"text\"]):\n",
        "    print(\n",
        "        f\"Token: {t.text}\\nLema: {t.lemma_}\\nStem: {stemmer.stem(t.text)}\\n---\")"
      ]
    }
  ],
  "metadata": {
    "colab": {
      "provenance": []
    },
    "kernelspec": {
      "display_name": "Python 3",
      "language": "python",
      "name": "python3"
    },
    "language_info": {
      "codemirror_mode": {
        "name": "ipython",
        "version": 3
      },
      "file_extension": ".py",
      "mimetype": "text/x-python",
      "name": "python",
      "nbconvert_exporter": "python",
      "pygments_lexer": "ipython3",
      "version": "3.13.3"
    },
    "widgets": {
      "application/vnd.jupyter.widget-state+json": {
        "a561e64871d04f6483027c8ae12abc69": {
          "model_module": "@jupyter-widgets/controls",
          "model_name": "HBoxModel",
          "model_module_version": "1.5.0",
          "state": {
            "_dom_classes": [],
            "_model_module": "@jupyter-widgets/controls",
            "_model_module_version": "1.5.0",
            "_model_name": "HBoxModel",
            "_view_count": null,
            "_view_module": "@jupyter-widgets/controls",
            "_view_module_version": "1.5.0",
            "_view_name": "HBoxView",
            "box_style": "",
            "children": [
              "IPY_MODEL_19157b45facb47b09f625408dd34e9fe",
              "IPY_MODEL_1114f1409f454a32b3861bb512302d77",
              "IPY_MODEL_ff050bcb41874d019867c3052917f622"
            ],
            "layout": "IPY_MODEL_18decc9adc134978a5b8a8e5ad29acdb"
          }
        },
        "19157b45facb47b09f625408dd34e9fe": {
          "model_module": "@jupyter-widgets/controls",
          "model_name": "HTMLModel",
          "model_module_version": "1.5.0",
          "state": {
            "_dom_classes": [],
            "_model_module": "@jupyter-widgets/controls",
            "_model_module_version": "1.5.0",
            "_model_name": "HTMLModel",
            "_view_count": null,
            "_view_module": "@jupyter-widgets/controls",
            "_view_module_version": "1.5.0",
            "_view_name": "HTMLView",
            "description": "",
            "description_tooltip": null,
            "layout": "IPY_MODEL_af8d8f8488d149c795114d928a93a590",
            "placeholder": "​",
            "style": "IPY_MODEL_5fbcfbfba44c430a9722299ed10e4fd3",
            "value": "Map: 100%"
          }
        },
        "1114f1409f454a32b3861bb512302d77": {
          "model_module": "@jupyter-widgets/controls",
          "model_name": "FloatProgressModel",
          "model_module_version": "1.5.0",
          "state": {
            "_dom_classes": [],
            "_model_module": "@jupyter-widgets/controls",
            "_model_module_version": "1.5.0",
            "_model_name": "FloatProgressModel",
            "_view_count": null,
            "_view_module": "@jupyter-widgets/controls",
            "_view_module_version": "1.5.0",
            "_view_name": "ProgressView",
            "bar_style": "success",
            "description": "",
            "description_tooltip": null,
            "layout": "IPY_MODEL_c9c3407d1e2f4d18a097abc4c18d4929",
            "max": 70000,
            "min": 0,
            "orientation": "horizontal",
            "style": "IPY_MODEL_aec682c33a424e5fb674ad1ff89da7c8",
            "value": 70000
          }
        },
        "ff050bcb41874d019867c3052917f622": {
          "model_module": "@jupyter-widgets/controls",
          "model_name": "HTMLModel",
          "model_module_version": "1.5.0",
          "state": {
            "_dom_classes": [],
            "_model_module": "@jupyter-widgets/controls",
            "_model_module_version": "1.5.0",
            "_model_name": "HTMLModel",
            "_view_count": null,
            "_view_module": "@jupyter-widgets/controls",
            "_view_module_version": "1.5.0",
            "_view_name": "HTMLView",
            "description": "",
            "description_tooltip": null,
            "layout": "IPY_MODEL_914652aa78b84c438931c42f6d880ff4",
            "placeholder": "​",
            "style": "IPY_MODEL_8061e680c0dd447b82d8754044f831b9",
            "value": " 70000/70000 [00:19&lt;00:00, 7069.81 examples/s]"
          }
        },
        "18decc9adc134978a5b8a8e5ad29acdb": {
          "model_module": "@jupyter-widgets/base",
          "model_name": "LayoutModel",
          "model_module_version": "1.2.0",
          "state": {
            "_model_module": "@jupyter-widgets/base",
            "_model_module_version": "1.2.0",
            "_model_name": "LayoutModel",
            "_view_count": null,
            "_view_module": "@jupyter-widgets/base",
            "_view_module_version": "1.2.0",
            "_view_name": "LayoutView",
            "align_content": null,
            "align_items": null,
            "align_self": null,
            "border": null,
            "bottom": null,
            "display": null,
            "flex": null,
            "flex_flow": null,
            "grid_area": null,
            "grid_auto_columns": null,
            "grid_auto_flow": null,
            "grid_auto_rows": null,
            "grid_column": null,
            "grid_gap": null,
            "grid_row": null,
            "grid_template_areas": null,
            "grid_template_columns": null,
            "grid_template_rows": null,
            "height": null,
            "justify_content": null,
            "justify_items": null,
            "left": null,
            "margin": null,
            "max_height": null,
            "max_width": null,
            "min_height": null,
            "min_width": null,
            "object_fit": null,
            "object_position": null,
            "order": null,
            "overflow": null,
            "overflow_x": null,
            "overflow_y": null,
            "padding": null,
            "right": null,
            "top": null,
            "visibility": null,
            "width": null
          }
        },
        "af8d8f8488d149c795114d928a93a590": {
          "model_module": "@jupyter-widgets/base",
          "model_name": "LayoutModel",
          "model_module_version": "1.2.0",
          "state": {
            "_model_module": "@jupyter-widgets/base",
            "_model_module_version": "1.2.0",
            "_model_name": "LayoutModel",
            "_view_count": null,
            "_view_module": "@jupyter-widgets/base",
            "_view_module_version": "1.2.0",
            "_view_name": "LayoutView",
            "align_content": null,
            "align_items": null,
            "align_self": null,
            "border": null,
            "bottom": null,
            "display": null,
            "flex": null,
            "flex_flow": null,
            "grid_area": null,
            "grid_auto_columns": null,
            "grid_auto_flow": null,
            "grid_auto_rows": null,
            "grid_column": null,
            "grid_gap": null,
            "grid_row": null,
            "grid_template_areas": null,
            "grid_template_columns": null,
            "grid_template_rows": null,
            "height": null,
            "justify_content": null,
            "justify_items": null,
            "left": null,
            "margin": null,
            "max_height": null,
            "max_width": null,
            "min_height": null,
            "min_width": null,
            "object_fit": null,
            "object_position": null,
            "order": null,
            "overflow": null,
            "overflow_x": null,
            "overflow_y": null,
            "padding": null,
            "right": null,
            "top": null,
            "visibility": null,
            "width": null
          }
        },
        "5fbcfbfba44c430a9722299ed10e4fd3": {
          "model_module": "@jupyter-widgets/controls",
          "model_name": "DescriptionStyleModel",
          "model_module_version": "1.5.0",
          "state": {
            "_model_module": "@jupyter-widgets/controls",
            "_model_module_version": "1.5.0",
            "_model_name": "DescriptionStyleModel",
            "_view_count": null,
            "_view_module": "@jupyter-widgets/base",
            "_view_module_version": "1.2.0",
            "_view_name": "StyleView",
            "description_width": ""
          }
        },
        "c9c3407d1e2f4d18a097abc4c18d4929": {
          "model_module": "@jupyter-widgets/base",
          "model_name": "LayoutModel",
          "model_module_version": "1.2.0",
          "state": {
            "_model_module": "@jupyter-widgets/base",
            "_model_module_version": "1.2.0",
            "_model_name": "LayoutModel",
            "_view_count": null,
            "_view_module": "@jupyter-widgets/base",
            "_view_module_version": "1.2.0",
            "_view_name": "LayoutView",
            "align_content": null,
            "align_items": null,
            "align_self": null,
            "border": null,
            "bottom": null,
            "display": null,
            "flex": null,
            "flex_flow": null,
            "grid_area": null,
            "grid_auto_columns": null,
            "grid_auto_flow": null,
            "grid_auto_rows": null,
            "grid_column": null,
            "grid_gap": null,
            "grid_row": null,
            "grid_template_areas": null,
            "grid_template_columns": null,
            "grid_template_rows": null,
            "height": null,
            "justify_content": null,
            "justify_items": null,
            "left": null,
            "margin": null,
            "max_height": null,
            "max_width": null,
            "min_height": null,
            "min_width": null,
            "object_fit": null,
            "object_position": null,
            "order": null,
            "overflow": null,
            "overflow_x": null,
            "overflow_y": null,
            "padding": null,
            "right": null,
            "top": null,
            "visibility": null,
            "width": null
          }
        },
        "aec682c33a424e5fb674ad1ff89da7c8": {
          "model_module": "@jupyter-widgets/controls",
          "model_name": "ProgressStyleModel",
          "model_module_version": "1.5.0",
          "state": {
            "_model_module": "@jupyter-widgets/controls",
            "_model_module_version": "1.5.0",
            "_model_name": "ProgressStyleModel",
            "_view_count": null,
            "_view_module": "@jupyter-widgets/base",
            "_view_module_version": "1.2.0",
            "_view_name": "StyleView",
            "bar_color": null,
            "description_width": ""
          }
        },
        "914652aa78b84c438931c42f6d880ff4": {
          "model_module": "@jupyter-widgets/base",
          "model_name": "LayoutModel",
          "model_module_version": "1.2.0",
          "state": {
            "_model_module": "@jupyter-widgets/base",
            "_model_module_version": "1.2.0",
            "_model_name": "LayoutModel",
            "_view_count": null,
            "_view_module": "@jupyter-widgets/base",
            "_view_module_version": "1.2.0",
            "_view_name": "LayoutView",
            "align_content": null,
            "align_items": null,
            "align_self": null,
            "border": null,
            "bottom": null,
            "display": null,
            "flex": null,
            "flex_flow": null,
            "grid_area": null,
            "grid_auto_columns": null,
            "grid_auto_flow": null,
            "grid_auto_rows": null,
            "grid_column": null,
            "grid_gap": null,
            "grid_row": null,
            "grid_template_areas": null,
            "grid_template_columns": null,
            "grid_template_rows": null,
            "height": null,
            "justify_content": null,
            "justify_items": null,
            "left": null,
            "margin": null,
            "max_height": null,
            "max_width": null,
            "min_height": null,
            "min_width": null,
            "object_fit": null,
            "object_position": null,
            "order": null,
            "overflow": null,
            "overflow_x": null,
            "overflow_y": null,
            "padding": null,
            "right": null,
            "top": null,
            "visibility": null,
            "width": null
          }
        },
        "8061e680c0dd447b82d8754044f831b9": {
          "model_module": "@jupyter-widgets/controls",
          "model_name": "DescriptionStyleModel",
          "model_module_version": "1.5.0",
          "state": {
            "_model_module": "@jupyter-widgets/controls",
            "_model_module_version": "1.5.0",
            "_model_name": "DescriptionStyleModel",
            "_view_count": null,
            "_view_module": "@jupyter-widgets/base",
            "_view_module_version": "1.2.0",
            "_view_name": "StyleView",
            "description_width": ""
          }
        }
      }
    }
  },
  "nbformat": 4,
  "nbformat_minor": 0
}