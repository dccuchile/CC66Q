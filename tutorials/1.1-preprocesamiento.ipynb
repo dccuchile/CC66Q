{
  "cells": [
    {
      "cell_type": "markdown",
      "metadata": {
        "id": "DZb5iCp2593d"
      },
      "source": [
        "# Preprocesamiento de datos de texto"
      ]
    },
    {
      "cell_type": "code",
      "source": [
        "!pip install -U spacy\n",
        "!python -m spacy download es_core_news_sm # Instalación Modelo Spacy de procesamiento de lenguaje natural en español\n",
        "!pip install -U \"datasets<3.0\" #Con el fin de poder cargar el dataset de ejemplo"
      ],
      "metadata": {
        "colab": {
          "base_uri": "https://localhost:8080/"
        },
        "id": "0pEcN8Q76A9Y",
        "outputId": "2778b817-da32-49f4-aa96-4c769b17f6bd"
      },
      "execution_count": 34,
      "outputs": [
        {
          "output_type": "stream",
          "name": "stdout",
          "text": [
            "Requirement already satisfied: spacy in /usr/local/lib/python3.12/dist-packages (3.8.7)\n",
            "Requirement already satisfied: spacy-legacy<3.1.0,>=3.0.11 in /usr/local/lib/python3.12/dist-packages (from spacy) (3.0.12)\n",
            "Requirement already satisfied: spacy-loggers<2.0.0,>=1.0.0 in /usr/local/lib/python3.12/dist-packages (from spacy) (1.0.5)\n",
            "Requirement already satisfied: murmurhash<1.1.0,>=0.28.0 in /usr/local/lib/python3.12/dist-packages (from spacy) (1.0.13)\n",
            "Requirement already satisfied: cymem<2.1.0,>=2.0.2 in /usr/local/lib/python3.12/dist-packages (from spacy) (2.0.11)\n",
            "Requirement already satisfied: preshed<3.1.0,>=3.0.2 in /usr/local/lib/python3.12/dist-packages (from spacy) (3.0.10)\n",
            "Requirement already satisfied: thinc<8.4.0,>=8.3.4 in /usr/local/lib/python3.12/dist-packages (from spacy) (8.3.6)\n",
            "Requirement already satisfied: wasabi<1.2.0,>=0.9.1 in /usr/local/lib/python3.12/dist-packages (from spacy) (1.1.3)\n",
            "Requirement already satisfied: srsly<3.0.0,>=2.4.3 in /usr/local/lib/python3.12/dist-packages (from spacy) (2.5.1)\n",
            "Requirement already satisfied: catalogue<2.1.0,>=2.0.6 in /usr/local/lib/python3.12/dist-packages (from spacy) (2.0.10)\n",
            "Requirement already satisfied: weasel<0.5.0,>=0.1.0 in /usr/local/lib/python3.12/dist-packages (from spacy) (0.4.1)\n",
            "Requirement already satisfied: typer<1.0.0,>=0.3.0 in /usr/local/lib/python3.12/dist-packages (from spacy) (0.19.2)\n",
            "Requirement already satisfied: tqdm<5.0.0,>=4.38.0 in /usr/local/lib/python3.12/dist-packages (from spacy) (4.67.1)\n",
            "Requirement already satisfied: numpy>=1.19.0 in /usr/local/lib/python3.12/dist-packages (from spacy) (2.0.2)\n",
            "Requirement already satisfied: requests<3.0.0,>=2.13.0 in /usr/local/lib/python3.12/dist-packages (from spacy) (2.32.4)\n",
            "Requirement already satisfied: pydantic!=1.8,!=1.8.1,<3.0.0,>=1.7.4 in /usr/local/lib/python3.12/dist-packages (from spacy) (2.11.10)\n",
            "Requirement already satisfied: jinja2 in /usr/local/lib/python3.12/dist-packages (from spacy) (3.1.6)\n",
            "Requirement already satisfied: setuptools in /usr/local/lib/python3.12/dist-packages (from spacy) (75.2.0)\n",
            "Requirement already satisfied: packaging>=20.0 in /usr/local/lib/python3.12/dist-packages (from spacy) (25.0)\n",
            "Requirement already satisfied: langcodes<4.0.0,>=3.2.0 in /usr/local/lib/python3.12/dist-packages (from spacy) (3.5.0)\n",
            "Requirement already satisfied: language-data>=1.2 in /usr/local/lib/python3.12/dist-packages (from langcodes<4.0.0,>=3.2.0->spacy) (1.3.0)\n",
            "Requirement already satisfied: annotated-types>=0.6.0 in /usr/local/lib/python3.12/dist-packages (from pydantic!=1.8,!=1.8.1,<3.0.0,>=1.7.4->spacy) (0.7.0)\n",
            "Requirement already satisfied: pydantic-core==2.33.2 in /usr/local/lib/python3.12/dist-packages (from pydantic!=1.8,!=1.8.1,<3.0.0,>=1.7.4->spacy) (2.33.2)\n",
            "Requirement already satisfied: typing-extensions>=4.12.2 in /usr/local/lib/python3.12/dist-packages (from pydantic!=1.8,!=1.8.1,<3.0.0,>=1.7.4->spacy) (4.15.0)\n",
            "Requirement already satisfied: typing-inspection>=0.4.0 in /usr/local/lib/python3.12/dist-packages (from pydantic!=1.8,!=1.8.1,<3.0.0,>=1.7.4->spacy) (0.4.2)\n",
            "Requirement already satisfied: charset_normalizer<4,>=2 in /usr/local/lib/python3.12/dist-packages (from requests<3.0.0,>=2.13.0->spacy) (3.4.4)\n",
            "Requirement already satisfied: idna<4,>=2.5 in /usr/local/lib/python3.12/dist-packages (from requests<3.0.0,>=2.13.0->spacy) (3.11)\n",
            "Requirement already satisfied: urllib3<3,>=1.21.1 in /usr/local/lib/python3.12/dist-packages (from requests<3.0.0,>=2.13.0->spacy) (2.5.0)\n",
            "Requirement already satisfied: certifi>=2017.4.17 in /usr/local/lib/python3.12/dist-packages (from requests<3.0.0,>=2.13.0->spacy) (2025.10.5)\n",
            "Requirement already satisfied: blis<1.4.0,>=1.3.0 in /usr/local/lib/python3.12/dist-packages (from thinc<8.4.0,>=8.3.4->spacy) (1.3.0)\n",
            "Requirement already satisfied: confection<1.0.0,>=0.0.1 in /usr/local/lib/python3.12/dist-packages (from thinc<8.4.0,>=8.3.4->spacy) (0.1.5)\n",
            "Requirement already satisfied: click>=8.0.0 in /usr/local/lib/python3.12/dist-packages (from typer<1.0.0,>=0.3.0->spacy) (8.3.0)\n",
            "Requirement already satisfied: shellingham>=1.3.0 in /usr/local/lib/python3.12/dist-packages (from typer<1.0.0,>=0.3.0->spacy) (1.5.4)\n",
            "Requirement already satisfied: rich>=10.11.0 in /usr/local/lib/python3.12/dist-packages (from typer<1.0.0,>=0.3.0->spacy) (13.9.4)\n",
            "Requirement already satisfied: cloudpathlib<1.0.0,>=0.7.0 in /usr/local/lib/python3.12/dist-packages (from weasel<0.5.0,>=0.1.0->spacy) (0.23.0)\n",
            "Requirement already satisfied: smart-open<8.0.0,>=5.2.1 in /usr/local/lib/python3.12/dist-packages (from weasel<0.5.0,>=0.1.0->spacy) (7.3.1)\n",
            "Requirement already satisfied: MarkupSafe>=2.0 in /usr/local/lib/python3.12/dist-packages (from jinja2->spacy) (3.0.3)\n",
            "Requirement already satisfied: marisa-trie>=1.1.0 in /usr/local/lib/python3.12/dist-packages (from language-data>=1.2->langcodes<4.0.0,>=3.2.0->spacy) (1.3.1)\n",
            "Requirement already satisfied: markdown-it-py>=2.2.0 in /usr/local/lib/python3.12/dist-packages (from rich>=10.11.0->typer<1.0.0,>=0.3.0->spacy) (4.0.0)\n",
            "Requirement already satisfied: pygments<3.0.0,>=2.13.0 in /usr/local/lib/python3.12/dist-packages (from rich>=10.11.0->typer<1.0.0,>=0.3.0->spacy) (2.19.2)\n",
            "Requirement already satisfied: wrapt in /usr/local/lib/python3.12/dist-packages (from smart-open<8.0.0,>=5.2.1->weasel<0.5.0,>=0.1.0->spacy) (1.17.3)\n",
            "Requirement already satisfied: mdurl~=0.1 in /usr/local/lib/python3.12/dist-packages (from markdown-it-py>=2.2.0->rich>=10.11.0->typer<1.0.0,>=0.3.0->spacy) (0.1.2)\n",
            "Collecting es-core-news-sm==3.8.0\n",
            "  Downloading https://github.com/explosion/spacy-models/releases/download/es_core_news_sm-3.8.0/es_core_news_sm-3.8.0-py3-none-any.whl (12.9 MB)\n",
            "\u001b[2K     \u001b[90m━━━━━━━━━━━━━━━━━━━━━━━━━━━━━━━━━━━━━━━\u001b[0m \u001b[32m12.9/12.9 MB\u001b[0m \u001b[31m104.9 MB/s\u001b[0m eta \u001b[36m0:00:00\u001b[0m\n",
            "\u001b[?25h\u001b[38;5;2m✔ Download and installation successful\u001b[0m\n",
            "You can now load the package via spacy.load('es_core_news_sm')\n",
            "\u001b[38;5;3m⚠ Restart to reload dependencies\u001b[0m\n",
            "If you are in a Jupyter or Colab notebook, you may need to restart Python in\n",
            "order to load all the package's dependencies. You can do this by selecting the\n",
            "'Restart kernel' or 'Restart runtime' option.\n",
            "Requirement already satisfied: datasets<3.0 in /usr/local/lib/python3.12/dist-packages (2.21.0)\n",
            "Requirement already satisfied: filelock in /usr/local/lib/python3.12/dist-packages (from datasets<3.0) (3.20.0)\n",
            "Requirement already satisfied: numpy>=1.17 in /usr/local/lib/python3.12/dist-packages (from datasets<3.0) (2.0.2)\n",
            "Requirement already satisfied: pyarrow>=15.0.0 in /usr/local/lib/python3.12/dist-packages (from datasets<3.0) (18.1.0)\n",
            "Requirement already satisfied: dill<0.3.9,>=0.3.0 in /usr/local/lib/python3.12/dist-packages (from datasets<3.0) (0.3.8)\n",
            "Requirement already satisfied: pandas in /usr/local/lib/python3.12/dist-packages (from datasets<3.0) (2.2.2)\n",
            "Requirement already satisfied: requests>=2.32.2 in /usr/local/lib/python3.12/dist-packages (from datasets<3.0) (2.32.4)\n",
            "Requirement already satisfied: tqdm>=4.66.3 in /usr/local/lib/python3.12/dist-packages (from datasets<3.0) (4.67.1)\n",
            "Requirement already satisfied: xxhash in /usr/local/lib/python3.12/dist-packages (from datasets<3.0) (3.6.0)\n",
            "Requirement already satisfied: multiprocess in /usr/local/lib/python3.12/dist-packages (from datasets<3.0) (0.70.16)\n",
            "Requirement already satisfied: fsspec<=2024.6.1,>=2023.1.0 in /usr/local/lib/python3.12/dist-packages (from fsspec[http]<=2024.6.1,>=2023.1.0->datasets<3.0) (2024.6.1)\n",
            "Requirement already satisfied: aiohttp in /usr/local/lib/python3.12/dist-packages (from datasets<3.0) (3.13.0)\n",
            "Requirement already satisfied: huggingface-hub>=0.21.2 in /usr/local/lib/python3.12/dist-packages (from datasets<3.0) (0.35.3)\n",
            "Requirement already satisfied: packaging in /usr/local/lib/python3.12/dist-packages (from datasets<3.0) (25.0)\n",
            "Requirement already satisfied: pyyaml>=5.1 in /usr/local/lib/python3.12/dist-packages (from datasets<3.0) (6.0.3)\n",
            "Requirement already satisfied: aiohappyeyeballs>=2.5.0 in /usr/local/lib/python3.12/dist-packages (from aiohttp->datasets<3.0) (2.6.1)\n",
            "Requirement already satisfied: aiosignal>=1.4.0 in /usr/local/lib/python3.12/dist-packages (from aiohttp->datasets<3.0) (1.4.0)\n",
            "Requirement already satisfied: attrs>=17.3.0 in /usr/local/lib/python3.12/dist-packages (from aiohttp->datasets<3.0) (25.4.0)\n",
            "Requirement already satisfied: frozenlist>=1.1.1 in /usr/local/lib/python3.12/dist-packages (from aiohttp->datasets<3.0) (1.8.0)\n",
            "Requirement already satisfied: multidict<7.0,>=4.5 in /usr/local/lib/python3.12/dist-packages (from aiohttp->datasets<3.0) (6.7.0)\n",
            "Requirement already satisfied: propcache>=0.2.0 in /usr/local/lib/python3.12/dist-packages (from aiohttp->datasets<3.0) (0.4.1)\n",
            "Requirement already satisfied: yarl<2.0,>=1.17.0 in /usr/local/lib/python3.12/dist-packages (from aiohttp->datasets<3.0) (1.22.0)\n",
            "Requirement already satisfied: typing-extensions>=3.7.4.3 in /usr/local/lib/python3.12/dist-packages (from huggingface-hub>=0.21.2->datasets<3.0) (4.15.0)\n",
            "Requirement already satisfied: hf-xet<2.0.0,>=1.1.3 in /usr/local/lib/python3.12/dist-packages (from huggingface-hub>=0.21.2->datasets<3.0) (1.1.10)\n",
            "Requirement already satisfied: charset_normalizer<4,>=2 in /usr/local/lib/python3.12/dist-packages (from requests>=2.32.2->datasets<3.0) (3.4.4)\n",
            "Requirement already satisfied: idna<4,>=2.5 in /usr/local/lib/python3.12/dist-packages (from requests>=2.32.2->datasets<3.0) (3.11)\n",
            "Requirement already satisfied: urllib3<3,>=1.21.1 in /usr/local/lib/python3.12/dist-packages (from requests>=2.32.2->datasets<3.0) (2.5.0)\n",
            "Requirement already satisfied: certifi>=2017.4.17 in /usr/local/lib/python3.12/dist-packages (from requests>=2.32.2->datasets<3.0) (2025.10.5)\n",
            "Requirement already satisfied: python-dateutil>=2.8.2 in /usr/local/lib/python3.12/dist-packages (from pandas->datasets<3.0) (2.9.0.post0)\n",
            "Requirement already satisfied: pytz>=2020.1 in /usr/local/lib/python3.12/dist-packages (from pandas->datasets<3.0) (2025.2)\n",
            "Requirement already satisfied: tzdata>=2022.7 in /usr/local/lib/python3.12/dist-packages (from pandas->datasets<3.0) (2025.2)\n",
            "Requirement already satisfied: six>=1.5 in /usr/local/lib/python3.12/dist-packages (from python-dateutil>=2.8.2->pandas->datasets<3.0) (1.17.0)\n"
          ]
        }
      ]
    },
    {
      "cell_type": "code",
      "execution_count": 35,
      "metadata": {
        "id": "WyePdRUm593g"
      },
      "outputs": [],
      "source": [
        "import datasets  # Biblioteca de manejo de conjuntos de datos para procesamiento de lenguaje natural\n",
        "import es_core_news_sm  # Modelo Spacy de procesamiento de lenguaje natural en español\n",
        "import spacy  # Biblioteca de procesamiento de lenguaje natural\n",
        "import pandas as pd  # Biblioteca de manejo de conjuntos de datos\n",
        "import re  # Módulo de expresiones regulares\n",
        "import tokenizers  # Biblioteca de tokenización de texto\n",
        "import nltk  # Biblioteca de procesamiento de lenguaje natural\n",
        "from pathlib import Path  # Biblioteca para manejo de paths relativos"
      ]
    },
    {
      "cell_type": "markdown",
      "metadata": {
        "id": "EFkCcBKH593i"
      },
      "source": [
        "## 🤗 Datasets\n",
        "\n",
        "🤗 (HuggingFace) Datasets es una biblioteca de manejo de conjuntos de datos para procesamiento de lenguaje natural que se destaca por la simplicidad de sus métodos y el gran repositorio 🤗 Hub que contiene muchos conjuntos de datos libres para descargar sólo con una linea de Python.\n",
        "\n",
        "En nuestro curso trabajaremos con `spanish_diagnostics`, un conjunto de datos de nuestro grupo investigación PLN@CMM que contiene textos de sospechas diagnósticas de la lista de espera chilena y está etiquetado con el destino de la interconsulta; este destino puede ser `dental` o `no_dental`."
      ]
    },
    {
      "cell_type": "code",
      "execution_count": 36,
      "metadata": {
        "id": "k8lUmYJ4593j"
      },
      "outputs": [],
      "source": [
        "# Con esta linea descargamos el conjunto de datos completo\n",
        "spanish_diagnostics = datasets.load_dataset('fvillena/spanish_diagnostics')"
      ]
    },
    {
      "cell_type": "code",
      "execution_count": 37,
      "metadata": {
        "id": "AGKQLLk1593k"
      },
      "outputs": [],
      "source": [
        "def normalize(text, remove_tildes=True):\n",
        "    \"\"\"Normaliza una cadena de texto convirtiéndo todo a minúsculas, quitando los caracteres no alfabéticos y los tildes\"\"\"\n",
        "    text = text.lower()  # Llevamos todo a minúscula\n",
        "    # Reemplazamos los caracteres no alfabéticos por un espacio\n",
        "    text = re.sub(r'[^A-Za-zñáéíóú]', ' ', text)\n",
        "    if remove_tildes:\n",
        "        text = re.sub('á', 'a', text)  # Reemplazamos los tildes\n",
        "        text = re.sub('é', 'e', text)\n",
        "        text = re.sub('í', 'i', text)\n",
        "        text = re.sub('ó', 'o', text)\n",
        "        text = re.sub('ú', 'u', text)\n",
        "    return text"
      ]
    },
    {
      "cell_type": "code",
      "execution_count": 38,
      "metadata": {
        "id": "pChRUOUI593l"
      },
      "outputs": [],
      "source": [
        "spanish_diagnostics_normalized = spanish_diagnostics[\"train\"].map(\n",
        "    lambda x: {  # Utilizamos una función anónima que devuelve un diccionario\n",
        "        # Esta es una nueva característica que agregaremos a nuestro conjunto de datos.\n",
        "        \"normalized_text\": normalize(x[\"text\"])\n",
        "    })"
      ]
    },
    {
      "cell_type": "code",
      "execution_count": 39,
      "metadata": {
        "id": "RL3d-_B5593m",
        "outputId": "5e07caf7-8615-4629-dfe2-5dbc655a4d79",
        "colab": {
          "base_uri": "https://localhost:8080/"
        }
      },
      "outputs": [
        {
          "output_type": "execute_result",
          "data": {
            "text/plain": [
              "Dataset({\n",
              "    features: ['text', 'label', 'normalized_text'],\n",
              "    num_rows: 70000\n",
              "})"
            ]
          },
          "metadata": {},
          "execution_count": 39
        }
      ],
      "source": [
        "spanish_diagnostics_normalized"
      ]
    },
    {
      "cell_type": "markdown",
      "metadata": {
        "id": "EyqO4nxM593n"
      },
      "source": [
        "Ahora nuestro conjunto de datos cuenta con una nueva característica `normalized_text`."
      ]
    },
    {
      "cell_type": "code",
      "execution_count": 40,
      "metadata": {
        "id": "gnE9g4i3593n",
        "outputId": "20cc1d56-efd1-4299-ce88-6e8c0fcf0f21",
        "colab": {
          "base_uri": "https://localhost:8080/"
        }
      },
      "outputs": [
        {
          "output_type": "execute_result",
          "data": {
            "text/plain": [
              "{'text': '- ANOMALÍAS DENTOFACIALES (INCLUSO LA MALOCLUSIÓN)\\n\\n\\n DISCREPANCIA DENTOMAXILAR',\n",
              " 'label': 1,\n",
              " 'normalized_text': '  anomalias dentofaciales  incluso la maloclusion     discrepancia dentomaxilar'}"
            ]
          },
          "metadata": {},
          "execution_count": 40
        }
      ],
      "source": [
        "spanish_diagnostics_normalized[0]"
      ]
    },
    {
      "cell_type": "markdown",
      "metadata": {
        "id": "U1gQ3z0w593o"
      },
      "source": [
        "## Tokenización\n",
        "\n",
        "La tokenización es el proceso de demarcación de secciones de una cadena de caracteres. Estas secciones podrían ser oraciones, palabras o subpalabras.\n",
        "\n",
        "El método más simple para tokenizar una cadena de caracteres en nuestro lenguaje es la separación por espacios. Aplicamos una separación por espacios mediante el método `str.split()` sobre nuestro conjunto de datos normalizado."
      ]
    },
    {
      "cell_type": "code",
      "execution_count": 41,
      "metadata": {
        "id": "6EoqQbAZ593o",
        "outputId": "8286f128-86c6-4d41-d125-c3e0ccf3e0e3",
        "colab": {
          "base_uri": "https://localhost:8080/",
          "height": 35
        }
      },
      "outputs": [
        {
          "output_type": "execute_result",
          "data": {
            "text/plain": [
              "'  anomalias dentofaciales  incluso la maloclusion     discrepancia dentomaxilar'"
            ],
            "application/vnd.google.colaboratory.intrinsic+json": {
              "type": "string"
            }
          },
          "metadata": {},
          "execution_count": 41
        }
      ],
      "source": [
        "spanish_diagnostics_normalized[0][\"normalized_text\"]"
      ]
    },
    {
      "cell_type": "code",
      "execution_count": 42,
      "metadata": {
        "id": "0Lqj37vj593o",
        "outputId": "715d3eb3-cde1-47bd-e25d-8a994f43fb59",
        "colab": {
          "base_uri": "https://localhost:8080/"
        }
      },
      "outputs": [
        {
          "output_type": "execute_result",
          "data": {
            "text/plain": [
              "['anomalias',\n",
              " 'dentofaciales',\n",
              " 'incluso',\n",
              " 'la',\n",
              " 'maloclusion',\n",
              " 'discrepancia',\n",
              " 'dentomaxilar']"
            ]
          },
          "metadata": {},
          "execution_count": 42
        }
      ],
      "source": [
        "spanish_diagnostics_normalized[0][\"normalized_text\"].split()"
      ]
    },
    {
      "cell_type": "markdown",
      "metadata": {
        "id": "HGl9eT3P593p"
      },
      "source": [
        "Si bien el método de separación por espacios funciona bien en nuestro conjunto de datos normalizado, también quisiéramos tokenizar nuestro texto sin normalizar."
      ]
    },
    {
      "cell_type": "code",
      "execution_count": 43,
      "metadata": {
        "id": "WzZAnvsd593p",
        "outputId": "e4ad5e0e-cfc7-4825-fe49-eeadf0a32361",
        "colab": {
          "base_uri": "https://localhost:8080/",
          "height": 35
        }
      },
      "outputs": [
        {
          "output_type": "execute_result",
          "data": {
            "text/plain": [
              "'- ANOMALÍAS DENTOFACIALES (INCLUSO LA MALOCLUSIÓN)\\n\\n\\n DISCREPANCIA DENTOMAXILAR'"
            ],
            "application/vnd.google.colaboratory.intrinsic+json": {
              "type": "string"
            }
          },
          "metadata": {},
          "execution_count": 43
        }
      ],
      "source": [
        "spanish_diagnostics_normalized[0][\"text\"]"
      ]
    },
    {
      "cell_type": "code",
      "execution_count": 44,
      "metadata": {
        "id": "__mIlxJh593p",
        "outputId": "81e4abbf-0a12-4694-c936-2a8fee47251f",
        "colab": {
          "base_uri": "https://localhost:8080/"
        }
      },
      "outputs": [
        {
          "output_type": "execute_result",
          "data": {
            "text/plain": [
              "['-',\n",
              " 'ANOMALÍAS',\n",
              " 'DENTOFACIALES',\n",
              " '(INCLUSO',\n",
              " 'LA',\n",
              " 'MALOCLUSIÓN)',\n",
              " 'DISCREPANCIA',\n",
              " 'DENTOMAXILAR']"
            ]
          },
          "metadata": {},
          "execution_count": 44
        }
      ],
      "source": [
        "spanish_diagnostics_normalized[0][\"text\"].split()"
      ]
    },
    {
      "cell_type": "markdown",
      "metadata": {
        "id": "1bR4PBuA593p"
      },
      "source": [
        "Al aplicar el mismo métodos podemos observar que no funciona totalmente bien debido a la presencia de caracteres no alfabéticos. Para solucionar esto, existen métodos basados en una serie de reglas para solucionar estos problemas. Utilizaremos la implementación de un tokenizador basado en reglas de la biblioteca de procesamiento de lenguaje natural Spacy."
      ]
    },
    {
      "cell_type": "code",
      "execution_count": 45,
      "metadata": {
        "id": "pQsIb2KU593p"
      },
      "outputs": [],
      "source": [
        "spacy_tokenizer = es_core_news_sm.load().tokenizer"
      ]
    },
    {
      "cell_type": "code",
      "execution_count": 46,
      "metadata": {
        "id": "v0TmifRY593q",
        "outputId": "11241acd-d3eb-4a6f-c663-8a9e19d6446d",
        "colab": {
          "base_uri": "https://localhost:8080/"
        }
      },
      "outputs": [
        {
          "output_type": "execute_result",
          "data": {
            "text/plain": [
              "[-,\n",
              " ANOMALÍAS,\n",
              " DENTOFACIALES,\n",
              " (,\n",
              " INCLUSO,\n",
              " LA,\n",
              " MALOCLUSIÓN,\n",
              " ),\n",
              " \n",
              " \n",
              " \n",
              "  ,\n",
              " DISCREPANCIA,\n",
              " DENTOMAXILAR]"
            ]
          },
          "metadata": {},
          "execution_count": 46
        }
      ],
      "source": [
        "list(spacy_tokenizer(spanish_diagnostics_normalized[0][\"text\"]))"
      ]
    },
    {
      "cell_type": "markdown",
      "metadata": {
        "id": "HwBf6Ssa593q"
      },
      "source": [
        "Al utilizar el tokenizador basado en reglas, podemos tener resultados mucho mejores que los anteriores."
      ]
    },
    {
      "cell_type": "markdown",
      "metadata": {
        "id": "1njMY1hX593q"
      },
      "source": [
        "### 🤗 Tokenizers"
      ]
    },
    {
      "cell_type": "markdown",
      "metadata": {
        "id": "S836gibE593q"
      },
      "source": [
        "🤗 también cuenta con una biblioteca llamada Tokenizers, con la cual podemos construir nuestro tokenizador basado en nuestro conjunto de datos."
      ]
    },
    {
      "cell_type": "markdown",
      "metadata": {
        "id": "XFTVM5B3593q"
      },
      "source": [
        "Instanciamos el tokenizador con un modelo WordPiece, el cual parte construyendo un vocabulario que incluye todas los caracteres presentes en el conjunto de datos y posteriormente comienza a mezclar caracteres hasta encontrar conjuntos de caracteres que tienen más probabilidad de aparecer juntos que separados."
      ]
    },
    {
      "cell_type": "code",
      "execution_count": 47,
      "metadata": {
        "id": "OuLYzh9F593q"
      },
      "outputs": [],
      "source": [
        "tokenizer = tokenizers.Tokenizer(tokenizers.models.WordPiece())"
      ]
    },
    {
      "cell_type": "markdown",
      "metadata": {
        "id": "G9g0vGqs593q"
      },
      "source": [
        "Esta biblioteca nos permite añadir pasos de normalización directamente. Replicamos lo mismo que hacemos con nuestra función `normalizer()`."
      ]
    },
    {
      "cell_type": "code",
      "execution_count": 48,
      "metadata": {
        "id": "nTFJ8Qvt593r"
      },
      "outputs": [],
      "source": [
        "normalizer = tokenizers.normalizers.Sequence([\n",
        "    tokenizers.normalizers.Lowercase(),  # Llevamos todo a minúscula\n",
        "    # Separamos cada caracter según los elementos que lo componen: á -> (a, ´)\n",
        "    tokenizers.normalizers.NFD(),\n",
        "    tokenizers.normalizers.StripAccents(),  # Eliminamos todos los acentos\n",
        "    # Reemplazamos todos los caracteres no alfabéticos\n",
        "    tokenizers.normalizers.Replace(tokenizers.Regex(r\"[^a-z ]\"), \" \")\n",
        "])"
      ]
    },
    {
      "cell_type": "code",
      "execution_count": 49,
      "metadata": {
        "id": "PIP3Rf5Z593r",
        "outputId": "2a7bc7c5-f41b-4ace-e18d-97ebe32c2a87",
        "colab": {
          "base_uri": "https://localhost:8080/",
          "height": 35
        }
      },
      "outputs": [
        {
          "output_type": "execute_result",
          "data": {
            "text/plain": [
              "'  anomalias dentofaciales  incluso la maloclusion     discrepancia dentomaxilar'"
            ],
            "application/vnd.google.colaboratory.intrinsic+json": {
              "type": "string"
            }
          },
          "metadata": {},
          "execution_count": 49
        }
      ],
      "source": [
        "normalizer.normalize_str(spanish_diagnostics_normalized[0][\"text\"])"
      ]
    },
    {
      "cell_type": "markdown",
      "metadata": {
        "id": "lLH68o3b593r"
      },
      "source": [
        "Añadimos el normalizador al tokenizador"
      ]
    },
    {
      "cell_type": "code",
      "execution_count": 50,
      "metadata": {
        "id": "dhrUpxqE593r"
      },
      "outputs": [],
      "source": [
        "tokenizer.normalizer = normalizer"
      ]
    },
    {
      "cell_type": "markdown",
      "metadata": {
        "id": "HWtwxT4z593r"
      },
      "source": [
        "Pre tokenizamos nuestro conjunto de datos mediante espacio para delimitar el tamaño que puede tener cada token."
      ]
    },
    {
      "cell_type": "code",
      "execution_count": 51,
      "metadata": {
        "id": "0Bi8Zu8A593r"
      },
      "outputs": [],
      "source": [
        "tokenizer.pre_tokenizer = tokenizers.pre_tokenizers.Whitespace()"
      ]
    },
    {
      "cell_type": "markdown",
      "metadata": {
        "id": "-H5THAkv593r"
      },
      "source": [
        "Instanciamos el entrenador que entrenará nuestro tokenizador."
      ]
    },
    {
      "cell_type": "code",
      "execution_count": 52,
      "metadata": {
        "id": "4yICliA9593r"
      },
      "outputs": [],
      "source": [
        "trainer = tokenizers.trainers.WordPieceTrainer()"
      ]
    },
    {
      "cell_type": "markdown",
      "metadata": {
        "id": "GWGj68NX593s"
      },
      "source": [
        "Entrenamos el tokenizador sobre nuestro conjunto de datos."
      ]
    },
    {
      "cell_type": "code",
      "execution_count": 53,
      "metadata": {
        "id": "3SN9gg09593s"
      },
      "outputs": [],
      "source": [
        "tokenizer.train_from_iterator(spanish_diagnostics_normalized[\"text\"], trainer)"
      ]
    },
    {
      "cell_type": "markdown",
      "metadata": {
        "id": "QKnWYs0y593s"
      },
      "source": [
        "Mediante el método `Tokenizer.encode()` obtenemos la representación tokenizada de nuesto texto. Esta representación contiene varios atributos, donde los más interesantes son:\n",
        "\n",
        "- `ids`: Contiene nuestro texto representado a través de una lista que contiene los identificadores de cada token.\n",
        "- `tokens`: Contiene nuestro texto representado a través de una lista que contiene el texto de cada token."
      ]
    },
    {
      "cell_type": "code",
      "execution_count": 54,
      "metadata": {
        "id": "_SRvOHZf593s",
        "outputId": "7d54cb8a-f6d2-4541-eec4-d89865bbd8ab",
        "colab": {
          "base_uri": "https://localhost:8080/",
          "height": 35
        }
      },
      "outputs": [
        {
          "output_type": "execute_result",
          "data": {
            "text/plain": [
              "'- ANOMALÍAS DENTOFACIALES (INCLUSO LA MALOCLUSIÓN)\\n\\n\\n DISCREPANCIA DENTOMAXILAR'"
            ],
            "application/vnd.google.colaboratory.intrinsic+json": {
              "type": "string"
            }
          },
          "metadata": {},
          "execution_count": 54
        }
      ],
      "source": [
        "spanish_diagnostics_normalized[0][\"text\"]"
      ]
    },
    {
      "cell_type": "code",
      "execution_count": 55,
      "metadata": {
        "id": "H46SVkcS593s"
      },
      "outputs": [],
      "source": [
        "tokenized_output = tokenizer.encode(spanish_diagnostics_normalized[0][\"text\"])"
      ]
    },
    {
      "cell_type": "code",
      "execution_count": 56,
      "metadata": {
        "id": "gxSN_5eP593t",
        "outputId": "5aa720a6-2c0d-470e-8c36-d125be230066",
        "colab": {
          "base_uri": "https://localhost:8080/"
        }
      },
      "outputs": [
        {
          "output_type": "execute_result",
          "data": {
            "text/plain": [
              "{'rnp': 3355,\n",
              " 'halu': 8301,\n",
              " 'tratorno': 11406,\n",
              " 'solciito': 10034,\n",
              " 'gonzalo': 21572,\n",
              " 'hipergonado': 20990,\n",
              " '##oni': 14484,\n",
              " '##imizados': 27873,\n",
              " 'nantecedentes': 23136,\n",
              " 'comprimidos': 13760,\n",
              " 'crm': 7979,\n",
              " 'breve': 21057,\n",
              " 'generas': 29415,\n",
              " 'cara': 1242,\n",
              " '##ordancia': 9584,\n",
              " 'peridontits': 16402,\n",
              " '##np': 1325,\n",
              " 'introito': 21448,\n",
              " 'crian': 27258,\n",
              " 'asistio': 9206,\n",
              " '##acusia': 6688,\n",
              " 'cae': 3372,\n",
              " 'polatinizada': 15135,\n",
              " 'tmp': 23397,\n",
              " '##edial': 18237,\n",
              " '##odependencia': 27611,\n",
              " 'hipercal': 10401,\n",
              " '##rauma': 28630,\n",
              " '##igos': 8417,\n",
              " '##rande': 19897,\n",
              " '##esc': 2123,\n",
              " 'desdesntada': 21480,\n",
              " 'anosin': 28633,\n",
              " '##yte': 24689,\n",
              " '##det': 24121,\n",
              " 'esteatosis': 5583,\n",
              " 'gilbert': 10074,\n",
              " 'dificil': 1473,\n",
              " 'jue': 22908,\n",
              " '##ndo': 12508,\n",
              " 'lejanos': 20629,\n",
              " '##ngen': 24523,\n",
              " 'cervicocraneal': 20198,\n",
              " '##emica': 3366,\n",
              " 'tendinitis': 1775,\n",
              " 'lipomatoso': 5328,\n",
              " 'ovaricos': 4042,\n",
              " 'submucosa': 4225,\n",
              " 'anacarado': 22217,\n",
              " 'barlow': 11850,\n",
              " 'perone': 5426,\n",
              " 'anquil': 3164,\n",
              " 'iiiap': 28799,\n",
              " '##esofago': 20124,\n",
              " 'enmal': 25946,\n",
              " '##nuloma': 24566,\n",
              " '##escamosas': 21847,\n",
              " 'desdentda': 14742,\n",
              " '##antor': 11410,\n",
              " 'retinia': 11984,\n",
              " 'aumentado': 1020,\n",
              " '##mada': 23678,\n",
              " 'simetricas': 6851,\n",
              " 'especulos': 10365,\n",
              " '##psia': 6679,\n",
              " 'domiciliario': 13647,\n",
              " '##naria': 24505,\n",
              " 'ki': 22918,\n",
              " 'nebo': 29848,\n",
              " 'coronoraria': 29741,\n",
              " 'hmp': 22805,\n",
              " '##himoto': 8865,\n",
              " 'infalamacion': 21758,\n",
              " '##gual': 5024,\n",
              " 'cervicob': 5217,\n",
              " '##roqu': 26099,\n",
              " '##xina': 14387,\n",
              " 'ventral': 13585,\n",
              " '##apl': 18629,\n",
              " '##elitiasis': 11429,\n",
              " 'at': 545,\n",
              " 'tinos': 23413,\n",
              " '##ulas': 3049,\n",
              " 'izqui': 15785,\n",
              " 'estubo': 28906,\n",
              " 'joh': 12353,\n",
              " 'desdetada': 13598,\n",
              " '##evectomia': 29062,\n",
              " 'semiinclinada': 15098,\n",
              " 'ateromatosis': 7160,\n",
              " '##borde': 23749,\n",
              " 'hipotiroideo': 16064,\n",
              " 'residuo': 11890,\n",
              " '##billa': 23756,\n",
              " '##gena': 7324,\n",
              " '##pasmodicos': 14058,\n",
              " 'anosdrogas': 28644,\n",
              " 'temblor': 2511,\n",
              " 'periodondititis': 19934,\n",
              " 'paricoronaritis': 26496,\n",
              " 'rena': 23289,\n",
              " 'psicomotor': 3635,\n",
              " '##ofrenia': 3995,\n",
              " 'flexo': 8611,\n",
              " 'insuficiencia': 721,\n",
              " '##uptiva': 17897,\n",
              " 'pericoronario': 5706,\n",
              " 'susp': 3526,\n",
              " 'acii': 28822,\n",
              " '##amnionitis': 20534,\n",
              " '##omero': 2306,\n",
              " '##isinn': 25239,\n",
              " 'etil': 11052,\n",
              " 'radiologo': 10818,\n",
              " '##ilinemia': 26179,\n",
              " 'cooper': 5892,\n",
              " 'disyuncion': 4706,\n",
              " 'difucion': 5912,\n",
              " 'diasnacida': 22039,\n",
              " 'impactada': 1088,\n",
              " 'biologicas': 10778,\n",
              " 'indica': 2022,\n",
              " 'preocupa': 13729,\n",
              " 'posix': 28216,\n",
              " 'orquiectomia': 20761,\n",
              " '##eth': 14952,\n",
              " 'tomando': 5756,\n",
              " 'vil': 11126,\n",
              " '##alisis': 1628,\n",
              " '##part': 24464,\n",
              " 'reparacinn': 6332,\n",
              " 'tcu': 7904,\n",
              " 'receptivo': 29889,\n",
              " 'artic': 15220,\n",
              " 'agrand': 5867,\n",
              " 'modificacion': 2851,\n",
              " '##artr': 1012,\n",
              " 'mario': 17041,\n",
              " 'constantes': 9667,\n",
              " 'espasmodica': 21700,\n",
              " 'lava': 26727,\n",
              " 'este': 1383,\n",
              " 'irregular': 1966,\n",
              " '##zca': 24661,\n",
              " '##acado': 25274,\n",
              " 'abandona': 13629,\n",
              " 'spt': 17142,\n",
              " 'antro': 14747,\n",
              " 'archa': 28531,\n",
              " '##enatosis': 25611,\n",
              " '##actorr': 28192,\n",
              " 'dial': 11044,\n",
              " '##eana': 24094,\n",
              " '##aguda': 4658,\n",
              " 'paraumbilical': 28425,\n",
              " '##uep': 23613,\n",
              " 'terr': 11576,\n",
              " 'dorsolumbar': 8731,\n",
              " 'distincion': 10702,\n",
              " 'erupci': 15916,\n",
              " '##olizacion': 17742,\n",
              " 'esclero': 9992,\n",
              " 'sord': 6001,\n",
              " 'suisida': 29156,\n",
              " '##isfuncion': 25259,\n",
              " 'acons': 18504,\n",
              " 'bara': 22459,\n",
              " 'colab': 9010,\n",
              " 'uam': 23461,\n",
              " '##ecntracion': 25747,\n",
              " 'vestibuloversion': 5754,\n",
              " 'subacromial': 6180,\n",
              " 'helico': 6392,\n",
              " 'orl': 6737,\n",
              " 'diabetes': 820,\n",
              " 'friable': 22001,\n",
              " 'techo': 11120,\n",
              " 'espitasis': 18087,\n",
              " 'exostosis': 6251,\n",
              " 'atoxico': 22140,\n",
              " 'mesodens': 15052,\n",
              " 'ipr': 14123,\n",
              " '##zartar': 24666,\n",
              " 'acet': 18503,\n",
              " '##icio': 663,\n",
              " 'musculos': 3947,\n",
              " 'lleva': 5612,\n",
              " 'riel': 23302,\n",
              " '##agulacion': 18760,\n",
              " 'negligencia': 22338,\n",
              " 'pulpites': 8194,\n",
              " '##frosis': 17429,\n",
              " 'antepie': 13921,\n",
              " 'adolec': 9202,\n",
              " 'esporadico': 6864,\n",
              " '##igival': 14790,\n",
              " '##oza': 23797,\n",
              " 'manga': 12829,\n",
              " '##ivoles': 27010,\n",
              " 'pigmentados': 13456,\n",
              " '##ivacon': 27011,\n",
              " '##onanitis': 25401,\n",
              " 'reh': 8385,\n",
              " '##oforectomia': 18662,\n",
              " 'bimaxilar': 1206,\n",
              " 'diskinesias': 28164,\n",
              " 'preset': 18365,\n",
              " 'erupcionada': 1582,\n",
              " 'fisica': 5060,\n",
              " 'deben': 9714,\n",
              " 'inclunda': 12033,\n",
              " 'nh': 23087,\n",
              " 'existe': 7286,\n",
              " '##amci': 26027,\n",
              " 'disermonia': 28155,\n",
              " 'neum': 2301,\n",
              " 'llama': 13352,\n",
              " 'venticular': 20750,\n",
              " 'evlaaucion': 21293,\n",
              " '##igida': 27668,\n",
              " '##ralgia': 9037,\n",
              " 'hipoc': 4282,\n",
              " 'distendida': 12239,\n",
              " 'pesadez': 15600,\n",
              " '##inomas': 25509,\n",
              " 'dentula': 26814,\n",
              " '##clesterolemia': 27239,\n",
              " '##icro': 25072,\n",
              " 'ureter': 5207,\n",
              " 'hemog': 15143,\n",
              " '##rofunda': 13303,\n",
              " '##eti': 28861,\n",
              " '##roem': 26097,\n",
              " 'infantilatte': 20103,\n",
              " 'funcional': 2219,\n",
              " 'corina': 19076,\n",
              " '##pasmod': 13659,\n",
              " 'igual': 8804,\n",
              " 'pteriasis': 19631,\n",
              " 'ecogen': 7329,\n",
              " 'efelides': 20109,\n",
              " 'hemang': 2292,\n",
              " 'realaiza': 28979,\n",
              " 'oberg': 27026,\n",
              " 'hipocalcemia': 16684,\n",
              " 'conn': 14584,\n",
              " 'medicion': 15065,\n",
              " 'hepaticos': 6776,\n",
              " 'satisfactoria': 21928,\n",
              " 'realnizar': 28980,\n",
              " 'colagen': 12928,\n",
              " 'constipaci': 21579,\n",
              " 'bite': 4124,\n",
              " 'sacroiliacas': 21707,\n",
              " 'deds': 16383,\n",
              " '##rafico': 28625,\n",
              " '##aneana': 16214,\n",
              " '##igenas': 27679,\n",
              " 'ach': 18497,\n",
              " '##opat': 4708,\n",
              " 'conserv': 2578,\n",
              " 'diverticulos': 20742,\n",
              " 'trabaj': 5761,\n",
              " '##izina': 18194,\n",
              " 'preocup': 6786,\n",
              " '##eniforme': 25613,\n",
              " 'limites': 5735,\n",
              " 'contact': 11495,\n",
              " 'ceden': 13671,\n",
              " 'restauraciones': 4563,\n",
              " 'tpo': 17164,\n",
              " '##irod': 29651,\n",
              " '##orosmia': 25480,\n",
              " '##infeccion': 11250,\n",
              " '##rsible': 12006,\n",
              " '##verion': 27279,\n",
              " 'evalacion': 11960,\n",
              " 'gastro': 1495,\n",
              " 'contaminado': 21449,\n",
              " 'derrame': 2976,\n",
              " 'colif': 18733,\n",
              " 'radical': 9012,\n",
              " '##imic': 14823,\n",
              " 'lira': 22989,\n",
              " 'ck': 16878,\n",
              " 'derechadientes': 28092,\n",
              " '##ep': 163,\n",
              " 'gip': 22739,\n",
              " '##inclusion': 6691,\n",
              " '##noderecho': 24577,\n",
              " '##ertida': 15319,\n",
              " '##hemat': 6221,\n",
              " 'polimalform': 22280,\n",
              " 'objetivos': 20633,\n",
              " 'desistesias': 26617,\n",
              " 'rexcamb': 26375,\n",
              " 'amputacion': 2885,\n",
              " '##dena': 24135,\n",
              " 'complicados': 15404,\n",
              " 'overget': 6299,\n",
              " 'bil': 316,\n",
              " 'moderadaperiodontitis': 15205,\n",
              " '##ames': 26005,\n",
              " 'xantelas': 21739,\n",
              " '##vica': 12517,\n",
              " 'refract': 1405,\n",
              " 'edentula': 2191,\n",
              " 'vitis': 23489,\n",
              " 'integra': 22261,\n",
              " 'nucleo': 2853,\n",
              " 'androgen': 16461,\n",
              " '##wince': 24809,\n",
              " 'belen': 22507,\n",
              " '##sin': 6676,\n",
              " 'neolep': 29858,\n",
              " '##ellon': 3147,\n",
              " '##icol': 11226,\n",
              " 'hidroadenitis': 20541,\n",
              " '##esofagico': 15815,\n",
              " 'hm': 16978,\n",
              " '##ru': 1243,\n",
              " '##um': 159,\n",
              " 'apator': 26528,\n",
              " '##olor': 234,\n",
              " '##adiloartrosis': 25200,\n",
              " 'specialista': 20346,\n",
              " 'fisia': 13079,\n",
              " 'ginecomastia': 5744,\n",
              " 'trascurso': 29017,\n",
              " 'eritroderm': 13864,\n",
              " '##inoutis': 29964,\n",
              " 'respirar': 7352,\n",
              " 'sobremordida': 3118,\n",
              " '##opeico': 14905,\n",
              " '##icom': 2237,\n",
              " 'destruccinn': 4246,\n",
              " 'multipara': 1102,\n",
              " 'exac': 10341,\n",
              " 'ganchos': 21062,\n",
              " '##turada': 8031,\n",
              " '##lilidad': 24039,\n",
              " 'descamativas': 10844,\n",
              " 'hierro': 7885,\n",
              " 'tic': 6933,\n",
              " 'implanto': 9069,\n",
              " '##ala': 1670,\n",
              " 'tramo': 13556,\n",
              " '##div': 24114,\n",
              " 'conclu': 5548,\n",
              " '##soriasis': 19866,\n",
              " '##etral': 6055,\n",
              " 'mielomeningocele': 10938,\n",
              " 'hipoacusia': 726,\n",
              " 'oseos': 8040,\n",
              " 'lento': 8305,\n",
              " 'territ': 10474,\n",
              " 'disc': 682,\n",
              " 'acentuados': 20512,\n",
              " '##ocoria': 8003,\n",
              " '##icervical': 25099,\n",
              " 'vasomotora': 14003,\n",
              " 'trup': 14621,\n",
              " 'isocoria': 13172,\n",
              " 'yer': 23578,\n",
              " '##uncluidas': 17958,\n",
              " '##enos': 4347,\n",
              " 'colpocele': 13836,\n",
              " 'live': 23005,\n",
              " 'gastos': 19101,\n",
              " 'mejorado': 20531,\n",
              " '##enaries': 25617,\n",
              " '##ecores': 25717,\n",
              " 'bulbo': 10797,\n",
              " 'avascular': 19154,\n",
              " 'biopsias': 13279,\n",
              " 'laringotr': 10655,\n",
              " '##onsis': 19514,\n",
              " 'atric': 13189,\n",
              " '##trocon': 29654,\n",
              " 'integral': 3631,\n",
              " 'actualidad': 19300,\n",
              " 'insulinorrequiriente': 13495,\n",
              " 'gal': 5126,\n",
              " '##atacoc': 25910,\n",
              " 'ges': 2617,\n",
              " 'bruxofacetas': 22030,\n",
              " '##utz': 19105,\n",
              " 'atenu': 19290,\n",
              " '##onimal': 25396,\n",
              " 'locales': 8307,\n",
              " 'htaoclusion': 29197,\n",
              " 'crab': 27254,\n",
              " 'tiemp': 3293,\n",
              " 'carras': 11354,\n",
              " 'preapical': 20899,\n",
              " '##ons': 1260,\n",
              " 'depulpado': 8498,\n",
              " 'usa': 3087,\n",
              " 'apremio': 21026,\n",
              " 'diciembre': 7401,\n",
              " 'forunculosis': 16835,\n",
              " 'come': 11442,\n",
              " 'estens': 12639,\n",
              " '##rica': 11159,\n",
              " '##hosp': 17512,\n",
              " 'dica': 22574,\n",
              " 'deh': 10227,\n",
              " 'posio': 28208,\n",
              " 'brevedad': 8245,\n",
              " '##om': 91,\n",
              " '##nd': 6437,\n",
              " 'sal': 1420,\n",
              " 'lacer': 9392,\n",
              " '##amenorrea': 11538,\n",
              " 'armon': 18436,\n",
              " '##kis': 24776,\n",
              " 'ja': 22899,\n",
              " '##zlo': 24660,\n",
              " 'paraplejia': 11441,\n",
              " '##az': 14299,\n",
              " 'singo': 27798,\n",
              " 'egen': 22647,\n",
              " 'maxilares': 2277,\n",
              " 'peribucal': 21652,\n",
              " 'impacatada': 13776,\n",
              " 'cefaleas': 4835,\n",
              " '##ans': 962,\n",
              " 'dislipid': 7363,\n",
              " 'tepe': 11958,\n",
              " 'pielonef': 19366,\n",
              " 'distolica': 20175,\n",
              " '##icacion': 704,\n",
              " 'sombras': 21619,\n",
              " 'anom': 12672,\n",
              " 'recidente': 18723,\n",
              " '##adural': 25189,\n",
              " 'sip': 12402,\n",
              " '##fix': 4421,\n",
              " '##udez': 28180,\n",
              " 'dermatologica': 20394,\n",
              " '##ualantecedentes': 29263,\n",
              " '##ards': 9713,\n",
              " 'latente': 9233,\n",
              " 'repetido': 15357,\n",
              " '##insert': 15572,\n",
              " '##talmo': 18749,\n",
              " '##quemia': 14716,\n",
              " '##gs': 14355,\n",
              " 'bav': 8280,\n",
              " '##quierda': 5858,\n",
              " 'postmiccional': 11936,\n",
              " 'masculino': 1637,\n",
              " 'cabello': 7714,\n",
              " 'hipomelanosis': 21364,\n",
              " '##inoma': 10253,\n",
              " 'astigamtismo': 16828,\n",
              " '##ollo': 25806,\n",
              " 'pogo': 23246,\n",
              " 'triple': 5841,\n",
              " 'insificiencia': 15074,\n",
              " '##ivas': 1850,\n",
              " '##gun': 8855,\n",
              " 'vpd': 23537,\n",
              " 'ambioplia': 19175,\n",
              " 'colicom': 29922,\n",
              " 'venegas': 15301,\n",
              " 'trasvaginal': 29013,\n",
              " 'proyectadas': 9244,\n",
              " 'frio': 4824,\n",
              " '##idoontitis': 29142,\n",
              " 'desddentada': 20070,\n",
              " 'natal': 14170,\n",
              " '##mgel': 23716,\n",
              " 'apt': 17907,\n",
              " 'mp': 3583,\n",
              " '##vejiga': 18935,\n",
              " 'evidencio': 19878,\n",
              " '##ement': 4702,\n",
              " 'desdentados': 7596,\n",
              " 'ninguna': 10812,\n",
              " '##aluacion': 9563,\n",
              " 'restos': 2312,\n",
              " 'siete': 14217,\n",
              " 'rewlacion': 26378,\n",
              " '##iesa': 18232,\n",
              " 'bronquio': 13245,\n",
              " 'contraindicacion': 21889,\n",
              " 'cia': 2915,\n",
              " '##ecosuperior': 25739,\n",
              " 'conoronaria': 26149,\n",
              " '##otomias': 11905,\n",
              " '##aculacion': 25294,\n",
              " 'rinos': 6664,\n",
              " '##imitis': 5042,\n",
              " '##mult': 23686,\n",
              " '##iciti': 28299,\n",
              " 'pve': 23207,\n",
              " 'cicatr': 2431,\n",
              " '##aterizado': 15627,\n",
              " '##itual': 25646,\n",
              " '##idamal': 25790,\n",
              " 'exg': 27414,\n",
              " 'qui': 18262,\n",
              " 'lentos': 22998,\n",
              " 'perioap': 27703,\n",
              " '##reico': 18244,\n",
              " 'temor': 18957,\n",
              " 'neumotorax': 8594,\n",
              " 'segund': 2351,\n",
              " 'ruidosa': 20769,\n",
              " 'ans': 2074,\n",
              " 'ayud': 16008,\n",
              " 'extraer': 4378,\n",
              " 'llega': 5510,\n",
              " '##yeb': 24697,\n",
              " 'lipoma': 2081,\n",
              " '##etol': 18515,\n",
              " 'malignos': 16157,\n",
              " 'extenosis': 18160,\n",
              " 'circunstancia': 21876,\n",
              " 'acustico': 8755,\n",
              " 'carteb': 27091,\n",
              " '##icoto': 26444,\n",
              " '##raneal': 7117,\n",
              " 'espondilistesis': 19768,\n",
              " 'queda': 4021,\n",
              " 'acus': 7307,\n",
              " '##tolica': 17408,\n",
              " '##moc': 11434,\n",
              " 'coxofemoral': 9778,\n",
              " '##eralizado': 14864,\n",
              " 'pulpardiente': 18677,\n",
              " 'orbital': 15956,\n",
              " 'palatinizacion': 13466,\n",
              " 'odontologico': 859,\n",
              " 'describe': 8210,\n",
              " 'soltara': 28078,\n",
              " '##rontar': 26121,\n",
              " 'noop': 18117,\n",
              " 'hipodes': 18286,\n",
              " 'encefalico': 7412,\n",
              " 'terapeutica': 16646,\n",
              " '##epcho': 27507,\n",
              " '##imizada': 14826,\n",
              " 'femoro': 9709,\n",
              " '##nes': 5825,\n",
              " 'clonica': 18018,\n",
              " 'trepenada': 16641,\n",
              " 'cabezas': 19571,\n",
              " 'sobrepro': 3068,\n",
              " 'refactoria': 29058,\n",
              " '##alenia': 24987,\n",
              " 'agend': 14997,\n",
              " 'antecendentes': 12879,\n",
              " '##entonismo': 10043,\n",
              " 'intracraneal': 7772,\n",
              " '##udeficiencia': 28184,\n",
              " 'baria': 5525,\n",
              " '##cicion': 17261,\n",
              " 'oportunidades': 4400,\n",
              " '##vero': 11366,\n",
              " 'polaquiuria': 16808,\n",
              " '##igrana': 27674,\n",
              " 'convex': 9978,\n",
              " '##rostomia': 23971,\n",
              " 'ecl': 12324,\n",
              " 'aan': 22387,\n",
              " '##giere': 24337,\n",
              " 'mixta': 739,\n",
              " 'homalgia': 14117,\n",
              " '##lada': 4689,\n",
              " '##impl': 7699,\n",
              " 'chagas': 3320,\n",
              " 'puente': 6812,\n",
              " 'mangu': 2366,\n",
              " 'intransea': 13264,\n",
              " 'espir': 8933,\n",
              " 'especificarexamen': 20727,\n",
              " 'mn': 14141,\n",
              " '##atis': 6450,\n",
              " 'sitio': 2842,\n",
              " 'escroto': 5095,\n",
              " 'anteriorpieza': 29541,\n",
              " 'fv': 16935,\n",
              " '##enar': 14509,\n",
              " 'normativa': 15329,\n",
              " 'pamidronato': 22371,\n",
              " '##intes': 11514,\n",
              " 'apania': 14642,\n",
              " '##erta': 24847,\n",
              " 'asc': 2993,\n",
              " 'macroadenoma': 9905,\n",
              " '##endocrino': 11000,\n",
              " 'invia': 26067,\n",
              " 'expectoracion': 12291,\n",
              " '##ticion': 24271,\n",
              " '##uesta': 1684,\n",
              " 'tambien': 3950,\n",
              " '##imioma': 27869,\n",
              " 'aereo': 9931,\n",
              " '##illitacion': 26197,\n",
              " 'molestia': 3571,\n",
              " '##talgua': 29994,\n",
              " 'cerr': 3772,\n",
              " '##hbilit': 24768,\n",
              " 'pulpits': 18217,\n",
              " 'recivida': 29886,\n",
              " 'schwannoma': 13948,\n",
              " 'repetid': 19284,\n",
              " 'cargado': 27096,\n",
              " 'carraspera': 21644,\n",
              " 'encapsulado': 16722,\n",
              " 'xf': 23566,\n",
              " 'quiq': 27841,\n",
              " 'reun': 12644,\n",
              " 'molar': 366,\n",
              " 'submuc': 1393,\n",
              " 'toal': 9761,\n",
              " '##arazo': 6499,\n",
              " 'subobturada': 15158,\n",
              " 'asesoramiento': 14037,\n",
              " 'intenmtar': 29126,\n",
              " '##emorrea': 27049,\n",
              " 'intensa': 4745,\n",
              " 'mental': 2042,\n",
              " 'predomino': 20116,\n",
              " 'erect': 5868,\n",
              " 'mucoscele': 13596,\n",
              " '##pera': 4915,\n",
              " 'urob': 23473,\n",
              " '##inamia': 25529,\n",
              " 'izquierdaapinamiento': 18708,\n",
              " '##ideros': 25767,\n",
              " 'endocrinos': 16119,\n",
              " 'irrelativo': 18626,\n",
              " 'relajantes': 16527,\n",
              " 'derechaclase': 28093,\n",
              " 'clotr': 14694,\n",
              " 'mandivular': 9140,\n",
              " 'apinamient': 10736,\n",
              " 'anillo': 7590,\n",
              " 'gdo': 22738,\n",
              " 'frenectomia': 6311,\n",
              " 'coquim': 15354,\n",
              " 'later': 5994,\n",
              " 'cronicamente': 27788,\n",
              " 'periapical': 872,\n",
              " 'qun': 23255,\n",
              " '##if': 498,\n",
              " 'eupneica': 8244,\n",
              " '##fem': 11193,\n",
              " '##emeros': 27047,\n",
              " 'linf': 1725,\n",
              " '##ntales': 17528,\n",
              " 'quis': 451,\n",
              " '##ulismos': 25851,\n",
              " 'periodint': 7385,\n",
              " '##randose': 11969,\n",
              " 'complejos': 13061,\n",
              " '##oss': 25329,\n",
              " '##dodoncia': 17882,\n",
              " 'anomal': 313,\n",
              " 'intraoseas': 8644,\n",
              " 'educadora': 20961,\n",
              " 'nes': 14164,\n",
              " 'quem': 2834,\n",
              " 'coninyecta': 26158,\n",
              " 'incontrolable': 19470,\n",
              " 'alveolares': 15429,\n",
              " 'agresion': 11490,\n",
              " 'bn': 16855,\n",
              " '##ataria': 14545,\n",
              " 'mastectomia': 8626,\n",
              " 'complejidad': 10997,\n",
              " 'especificas': 8434,\n",
              " 'esas': 17860,\n",
              " 'tra': 560,\n",
              " 'inertida': 26084,\n",
              " 'privacion': 26785,\n",
              " 'pres': 217,\n",
              " 'reciente': 1898,\n",
              " 'exam': 7284,\n",
              " '##ae': 5021,\n",
              " 'metros': 19799,\n",
              " 'margen': 8059,\n",
              " '##trovicas': 29658,\n",
              " 'cornaria': 20645,\n",
              " 'neuropraxia': 20781,\n",
              " 'carie': 1565,\n",
              " 'rosa': 17114,\n",
              " '##itido': 25644,\n",
              " '##ueta': 19426,\n",
              " 'cardiaca': 1100,\n",
              " 'tlar': 23429,\n",
              " 'perestes': 27941,\n",
              " '##idmo': 25759,\n",
              " 'cajon': 18807,\n",
              " 'autovalente': 9356,\n",
              " 'hematometr': 11732,\n",
              " 'asistencial': 8268,\n",
              " '##tomatica': 17406,\n",
              " '##ecut': 4267,\n",
              " '##apetito': 29401,\n",
              " 'caminos': 11617,\n",
              " '##antada': 6477,\n",
              " 'protessi': 28613,\n",
              " 'curo': 29967,\n",
              " 'cicl': 13267,\n",
              " '##edio': 8419,\n",
              " 'iont': 16993,\n",
              " 'bico': 22449,\n",
              " 'presentes': 7019,\n",
              " 'asaltado': 29300,\n",
              " 'insu': 627,\n",
              " 'implante': 1351,\n",
              " 'cax': 22521,\n",
              " '##uras': 3329,\n",
              " '##isual': 25232,\n",
              " 'hi': 2819,\n",
              " 'ascenso': 8160,\n",
              " '##itarios': 14519,\n",
              " 'izquemica': 13359,\n",
              " 'analfab': 16732,\n",
              " '##ps': 7929,\n",
              " '##eresia': 24867,\n",
              " '##dho': 14328,\n",
              " 'resinas': 29354,\n",
              " '##reac': 27730,\n",
              " 'epistax': 2326,\n",
              " '##ocond': 2687,\n",
              " 'normocardica': 16743,\n",
              " '##noscitiva': 29684,\n",
              " 'escler': 2759,\n",
              " '##truentacion': 26329,\n",
              " '##asociado': 25574,\n",
              " '##raquil': 28626,\n",
              " 'igualmente': 21338,\n",
              " '##disminucion': 20849,\n",
              " 'gap': 22743,\n",
              " 'subcond': 11802,\n",
              " 'hacia': 1605,\n",
              " 'distoposicion': 13856,\n",
              " '##atiles': 25902,\n",
              " 'deesofago': 24961,\n",
              " 'pneumonia': 16773,\n",
              " '##trbral': 26327,\n",
              " 'fs': 12327,\n",
              " '##odenopatia': 27607,\n",
              " '##anc': 8895,\n",
              " 'parpado': 1822,\n",
              " '##teste': 28037,\n",
              " 'apriete': 10886,\n",
              " 'medica': 4211,\n",
              " 'perimenopausicos': 16165,\n",
              " 'tronc': 14625,\n",
              " 'purul': 4567,\n",
              " '##oniendose': 25411,\n",
              " '##gad': 11191,\n",
              " 'hipnoticos': 16685,\n",
              " 'calidad': 5704,\n",
              " '##estias': 29080,\n",
              " 'eruptivo': 9187,\n",
              " 'kas': 22921,\n",
              " '##emnt': 27039,\n",
              " 'corrob': 19082,\n",
              " 'consolidada': 9947,\n",
              " '##yn': 7249,\n",
              " 'cilindros': 21496,\n",
              " '##kar': 17520,\n",
              " '##arefiere': 25058,\n",
              " 'dnb': 22622,\n",
              " 'algo': 5556,\n",
              " 'cell': 22533,\n",
              " 'antig': 14749,\n",
              " 'gasa': 13021,\n",
              " 'nine': 4784,\n",
              " 'extracion': 8029,\n",
              " 'solicia': 18316,\n",
              " 'externsa': 22334,\n",
              " 'interv': 4363,\n",
              " 'broncopulmonar': 6083,\n",
              " 'exentrico': 11373,\n",
              " 'arterioso': 13549,\n",
              " 'pfu': 2027,\n",
              " 'end': 2463,\n",
              " 'postal': 28213,\n",
              " 'trisomia': 7458,\n",
              " 'anquilosis': 5939,\n",
              " '##apa': 10419,\n",
              " '##atrofia': 17759,\n",
              " '##osistencia': 27570,\n",
              " 'hiperactivida': 19851,\n",
              " 'concomitante': 12191,\n",
              " '##ilaterales': 15601,\n",
              " 'db': 5527,\n",
              " '##pitel': 14375,\n",
              " 'castr': 22540,\n",
              " 'componente': 10397,\n",
              " 'clar': 8923,\n",
              " 'prsenta': 13749,\n",
              " 'necresis': 29188,\n",
              " 'tonos': 12418,\n",
              " 'not': 10337,\n",
              " 'chanc': 19413,\n",
              " 'hered': 4829,\n",
              " 'fluc': 7881,\n",
              " '##dera': 14327,\n",
              " '##ano': 482,\n",
              " 'exocerv': 16385,\n",
              " 'aerupcion': 20671,\n",
              " 'sustento': 11887,\n",
              " 'sjogren': 3639,\n",
              " 'pcr': 7657,\n",
              " 'orof': 4508,\n",
              " 'displacia': 6723,\n",
              " '##meta': 23701,\n",
              " 'orfal': 29673,\n",
              " 'chagasica': 20323,\n",
              " 'antigu': 1109,\n",
              " 'cesrea': 19510,\n",
              " 'voval': 23544,\n",
              " 'slog': 23355,\n",
              " 'parest': 26476,\n",
              " 'vitrea': 10710,\n",
              " 'adren': 15039,\n",
              " '##adjunt': 25185,\n",
              " 'ineferior': 21432,\n",
              " '##rre': 23918,\n",
              " '##iamiento': 12568,\n",
              " 'vertibulo': 19167,\n",
              " 'vertiginosa': 13224,\n",
              " 'periocular': 7603,\n",
              " 'microcalc': 9185,\n",
              " 'consumidor': 20129,\n",
              " 'hiperplasia': 1184,\n",
              " 'consulta': 1103,\n",
              " '##ivodistal': 27012,\n",
              " 'anacar': 18006,\n",
              " 'espironolactona': 12178,\n",
              " '##ardeceria': 11642,\n",
              " 'diarias': 9715,\n",
              " 'cambiar': 11681,\n",
              " 'escapes': 16296,\n",
              " 'vertebrales': 9652,\n",
              " 'premolares': 3313,\n",
              " 'resinc': 29349,\n",
              " 'reporte': 19047,\n",
              " 'ciudad': 10827,\n",
              " 'perma': 27935,\n",
              " '##inincluido': 25534,\n",
              " 'tray': 8478,\n",
              " 'aepisodio': 22439,\n",
              " 'ronc': 2620,\n",
              " 'neuromuscular': 7841,\n",
              " '##elopatia': 28262,\n",
              " 'mienbros': 13913,\n",
              " 'baker': 4245,\n",
              " 'estpinoso': 28910,\n",
              " '##efin': 15180,\n",
              " '##esemia': 25135,\n",
              " '##icitromb': 28301,\n",
              " 'lomb': 22967,\n",
              " 'sinf': 12754,\n",
              " '##ueve': 17226,\n",
              " '##antes': 834,\n",
              " '##vantada': 24618,\n",
              " '##fragia': 24390,\n",
              " 'sufrir': 13759,\n",
              " 'pultacea': 10963,\n",
              " 'xtraccion': 23576,\n",
              " 'arroja': 12818,\n",
              " 'erupciones': 11543,\n",
              " '##omitada': 26240,\n",
              " '##titucion': 6381,\n",
              " 'cornica': 10792,\n",
              " '##irna': 18477,\n",
              " '##ogra': 5162,\n",
              " 'menopausica': 4108,\n",
              " 'manopausia': 22255,\n",
              " 'oto': 6418,\n",
              " 'preparacion': 7112,\n",
              " 'hormigueo': 20936,\n",
              " 'cesar': 1728,\n",
              " 'neotatal': 29859,\n",
              " '##armacia': 25066,\n",
              " 'haz': 6781,\n",
              " 'pse': 4157,\n",
              " 'repeticion': 1021,\n",
              " 'estacia': 28899,\n",
              " '##amrio': 26026,\n",
              " 'malocclusion': 21538,\n",
              " 'temporomandibularbalon': 15788,\n",
              " 'bula': 22466,\n",
              " 'reflujos': 16697,\n",
              " 'buena': 3536,\n",
              " 'parestesis': 20535,\n",
              " 'trasn': 18546,\n",
              " '##lapso': 22009,\n",
              " 'sintomatolgia': 18977,\n",
              " 'fercu': 19989,\n",
              " 'biop': 1922,\n",
              " '##mes': 12441,\n",
              " '##alca': 24979,\n",
              " '##itivos': 3240,\n",
              " 'adenom': 2876,\n",
              " 'mmp': 23028,\n",
              " '##atrofica': 12616,\n",
              " 'anulette': 8761,\n",
              " 'cerebrales': 6537,\n",
              " '##hos': 4793,\n",
              " 'positiva': 6480,\n",
              " '##otis': 8945,\n",
              " 'lateral': 1279,\n",
              " 'rebor': 19446,\n",
              " 'acople': 18508,\n",
              " '##embarazo': 8678,\n",
              " '##griposis': 18785,\n",
              " 'derica': 27139,\n",
              " 'quisticas': 11393,\n",
              " '##is': 63,\n",
              " '##clav': 18096,\n",
              " '##rag': 3816,\n",
              " '##ack': 7942,\n",
              " 'prag': 26769,\n",
              " '##eriro': 24861,\n",
              " '##nedy': 1253,\n",
              " 'disneico': 21992,\n",
              " 'dient': 9373,\n",
              " '##ecolitiasis': 25718,\n",
              " 'protrusion': 2726,\n",
              " '##pido': 24451,\n",
              " 'hipotension': 12998,\n",
              " 'avc': 13039,\n",
              " 'estabil': 5462,\n",
              " '##doxima': 26392,\n",
              " '##rente': 17284,\n",
              " '##ofacia': 29555,\n",
              " '##insul': 8107,\n",
              " 'esper': 8407,\n",
              " 'hiperxifosis': 28964,\n",
              " 'ortogn': 4724,\n",
              " 'grasa': 7300,\n",
              " 'hiperact': 1927,\n",
              " '##ver': 147,\n",
              " 'comento': 28449,\n",
              " 'gastroenterologo': 11989,\n",
              " 'fob': 12331,\n",
              " '##ela': 3333,\n",
              " '##ultta': 29637,\n",
              " 'motivos': 6802,\n",
              " 'fisher': 19251,\n",
              " 'subclinico': 5975,\n",
              " 'front': 1994,\n",
              " 'metatarsofalang': 16581,\n",
              " '##arequiere': 21747,\n",
              " 'cinarizina': 22149,\n",
              " 'bermellon': 14018,\n",
              " 'conjuncion': 21077,\n",
              " 'niios': 19460,\n",
              " '##jos': 1811,\n",
              " '##centes': 23865,\n",
              " 'bc': 5795,\n",
              " 'psico': 2592,\n",
              " 'itan': 22889,\n",
              " 'multilo': 12951,\n",
              " '##igeno': 6718,\n",
              " '##ostomia': 3825,\n",
              " 'agente': 18588,\n",
              " '##ioendo': 24913,\n",
              " '##stic': 5273,\n",
              " '##ilogia': 14592,\n",
              " 'mujer': 4546,\n",
              " 'nucal': 20062,\n",
              " 'lll': 5925,\n",
              " 'pielo': 7265,\n",
              " '##zona': 17491,\n",
              " '##licada': 13071,\n",
              " 'laparascopica': 21116,\n",
              " '##igones': 18228,\n",
              " 'phal': 14194,\n",
              " 'artritris': 18819,\n",
              " 'adisson': 29459,\n",
              " 'pequenos': 5747,\n",
              " 'rads': 29944,\n",
              " '##domen': 15216,\n",
              " '##tr': 94,\n",
              " 'ineversible': 17807,\n",
              " 'exfoliacion': 6634,\n",
              " 'mix': 668,\n",
              " '##dentula': 11326,\n",
              " 'malaoclusion': 9131,\n",
              " 'inve': 14577,\n",
              " 'kinesiolog': 9236,\n",
              " 'estenosante': 7807,\n",
              " 'moebius': 20229,\n",
              " 'pacificacion': 26645,\n",
              " 'anticoagul': 4884,\n",
              " '##icivo': 11227,\n",
              " 'ambulatoria': 8211,\n",
              " 'odontoma': 7678,\n",
              " ...}"
            ]
          },
          "metadata": {},
          "execution_count": 56
        }
      ],
      "source": [
        "# Para ver todo el vocabulario del tonekizador consultar la siguiente funcion\n",
        "tokenizer.get_vocab()"
      ]
    },
    {
      "cell_type": "code",
      "execution_count": 57,
      "metadata": {
        "id": "W0GIB9UX593t",
        "outputId": "4a902f72-a34a-48bb-e484-64d571292d8a",
        "colab": {
          "base_uri": "https://localhost:8080/"
        }
      },
      "outputs": [
        {
          "output_type": "execute_result",
          "data": {
            "text/plain": [
              "[383, 618, 635, 119, 466, 1765, 970]"
            ]
          },
          "metadata": {},
          "execution_count": 57
        }
      ],
      "source": [
        "tokenized_output.ids"
      ]
    },
    {
      "cell_type": "code",
      "execution_count": 58,
      "metadata": {
        "id": "pJR6gK1s5932",
        "outputId": "a88835dc-b76c-438d-c6e9-320a3a408e31",
        "colab": {
          "base_uri": "https://localhost:8080/"
        }
      },
      "outputs": [
        {
          "output_type": "execute_result",
          "data": {
            "text/plain": [
              "['anomalias',\n",
              " 'dentofaciales',\n",
              " 'incluso',\n",
              " 'la',\n",
              " 'maloclusion',\n",
              " 'discrepancia',\n",
              " 'dentomaxilar']"
            ]
          },
          "metadata": {},
          "execution_count": 58
        }
      ],
      "source": [
        "tokenized_output.tokens"
      ]
    },
    {
      "cell_type": "markdown",
      "metadata": {
        "id": "2Vam2APe5933"
      },
      "source": [
        "Tal como lo hicimos anteriormente podemos aplicar paralelamente nuestro tokenizador sobre el conjunto de datos mediante el método `Dataset.map()`"
      ]
    },
    {
      "cell_type": "code",
      "execution_count": 59,
      "metadata": {
        "colab": {
          "referenced_widgets": [
            "0f888e15d8754adc91f1dfbb23d884c9",
            "97b91a38c1204031b0f6d82a2fc6ffc0",
            "98e4d52095674cdf9bbd638ee1f3f75f",
            "a55999c23df446378f8443529149bb44",
            "6da099aec90041578d0394ae3b368158",
            "ea364bba8b0746fa936fab1a4c7b3217",
            "d985ffc36e25486b88c7419ec91ee377",
            "3f137e94d4d04694b790c012c0a06feb",
            "0cc8a8fee37644d5b68197738bffb5ab",
            "74decc76d24343289cf311c0ad8117ee",
            "a9d4e6eb45a7465d82995502c498a27f"
          ],
          "base_uri": "https://localhost:8080/",
          "height": 49
        },
        "id": "w9LG2vtf5933",
        "outputId": "7e4f155d-1e3a-432d-f3c1-24a8b196b9f3"
      },
      "outputs": [
        {
          "output_type": "display_data",
          "data": {
            "text/plain": [
              "Map:   0%|          | 0/70000 [00:00<?, ? examples/s]"
            ],
            "application/vnd.jupyter.widget-view+json": {
              "version_major": 2,
              "version_minor": 0,
              "model_id": "0f888e15d8754adc91f1dfbb23d884c9"
            }
          },
          "metadata": {}
        }
      ],
      "source": [
        "spanish_diagnostics_normalized_tokenized = spanish_diagnostics_normalized.map(\n",
        "    lambda x: {\"tokenized_text\": tokenizer.encode(x[\"text\"]).tokens})"
      ]
    },
    {
      "cell_type": "markdown",
      "metadata": {
        "id": "BLMU1zY_5933"
      },
      "source": [
        "Nuestro conjunto de datos ahora contiene el texto tokenizado en la característica `tokenized_text`."
      ]
    },
    {
      "cell_type": "code",
      "execution_count": 60,
      "metadata": {
        "id": "b-FyS9Dc5933",
        "outputId": "8fda4ae6-7768-4071-f57c-e619a2b87e16",
        "colab": {
          "base_uri": "https://localhost:8080/"
        }
      },
      "outputs": [
        {
          "output_type": "execute_result",
          "data": {
            "text/plain": [
              "{'text': '- ANOMALÍAS DENTOFACIALES (INCLUSO LA MALOCLUSIÓN)\\n\\n\\n DISCREPANCIA DENTOMAXILAR',\n",
              " 'label': 1,\n",
              " 'normalized_text': '  anomalias dentofaciales  incluso la maloclusion     discrepancia dentomaxilar',\n",
              " 'tokenized_text': ['anomalias',\n",
              "  'dentofaciales',\n",
              "  'incluso',\n",
              "  'la',\n",
              "  'maloclusion',\n",
              "  'discrepancia',\n",
              "  'dentomaxilar']}"
            ]
          },
          "metadata": {},
          "execution_count": 60
        }
      ],
      "source": [
        "spanish_diagnostics_normalized_tokenized[0]"
      ]
    },
    {
      "cell_type": "markdown",
      "metadata": {
        "id": "7TWw6xUJ5933"
      },
      "source": [
        "## Stemming y Lematización"
      ]
    },
    {
      "cell_type": "markdown",
      "metadata": {
        "id": "7pdo3UQu5933"
      },
      "source": [
        "Con el fin de disminuir la cantidad de características de las representaciones de texto existen métodos que reducen el tamaño de vocabulario al eliminar inflexiones que puedan tener las palabras. Estos métodos son:\n",
        "\n",
        "- Lematización: Este método lleva una palabra en su forma flexionada a su forma base, por ejemplo *tratada* -> *tratar*\n",
        "- Stemming: Este método trunca las palabras de entrada mediante un algoritmo predefinido para encontrar la raíz de la misma, por ejemplo *tratada* -> *trat*\n",
        "\n",
        "El proceso de lematización lo haremos a través de la biblioteca Spacy y el proceso de stemming a través de la biblioteca NLTK utilizando el algoritmo Snowball."
      ]
    },
    {
      "cell_type": "markdown",
      "metadata": {
        "id": "H-eMhGUO5934"
      },
      "source": [
        "Instanciamos el analizador de Spacy"
      ]
    },
    {
      "cell_type": "code",
      "execution_count": 61,
      "metadata": {
        "id": "LW6S71nJ5934"
      },
      "outputs": [],
      "source": [
        "nlp = es_core_news_sm.load()"
      ]
    },
    {
      "cell_type": "markdown",
      "metadata": {
        "id": "IwZOlQmu5934"
      },
      "source": [
        "Definimos como tokenizador el que entrenamos anteriormente."
      ]
    },
    {
      "cell_type": "code",
      "execution_count": 62,
      "metadata": {
        "id": "0tmeKRz-5934"
      },
      "outputs": [],
      "source": [
        "def custom_tokenizer(text):\n",
        "    tokens = tokenizer.encode(text).tokens\n",
        "    return spacy.tokens.Doc(nlp.vocab, tokens)"
      ]
    },
    {
      "cell_type": "code",
      "execution_count": 63,
      "metadata": {
        "id": "BBKnIt6A5934"
      },
      "outputs": [],
      "source": [
        "nlp.tokenizer = custom_tokenizer"
      ]
    },
    {
      "cell_type": "markdown",
      "metadata": {
        "id": "CRo1G2Xi5934"
      },
      "source": [
        "Instanciamos el Stemmer"
      ]
    },
    {
      "cell_type": "code",
      "execution_count": 64,
      "metadata": {
        "id": "fUjHTJBs5934"
      },
      "outputs": [],
      "source": [
        "stemmer = nltk.stem.SnowballStemmer(\"spanish\")"
      ]
    },
    {
      "cell_type": "markdown",
      "metadata": {
        "id": "mY_DL5T-5935"
      },
      "source": [
        "Podemos verificar cómo funcionan estos métodos sobre un texto de prueba de nuestro conjunto de datos."
      ]
    },
    {
      "cell_type": "code",
      "execution_count": 65,
      "metadata": {
        "id": "_2OaKE3t5935",
        "outputId": "f99ee9a1-9b74-4237-db7f-761d52a0e6c3",
        "colab": {
          "base_uri": "https://localhost:8080/",
          "height": 35
        }
      },
      "outputs": [
        {
          "output_type": "execute_result",
          "data": {
            "text/plain": [
              "'pieza n 3.4 tratada endodonticamente, restaurada con ionomero y resina compuesta. Necesita protesis fija por gran pNrdida coronaria'"
            ],
            "application/vnd.google.colaboratory.intrinsic+json": {
              "type": "string"
            }
          },
          "metadata": {},
          "execution_count": 65
        }
      ],
      "source": [
        "spanish_diagnostics_normalized_tokenized[5][\"text\"]"
      ]
    },
    {
      "cell_type": "code",
      "execution_count": 66,
      "metadata": {
        "id": "d6jhbmgS5935",
        "outputId": "5ef80149-be0a-4ec0-cdc9-1c6bdfc9e0fd",
        "colab": {
          "base_uri": "https://localhost:8080/"
        }
      },
      "outputs": [
        {
          "output_type": "stream",
          "name": "stdout",
          "text": [
            "Token: pieza\n",
            "Lema: pieza\n",
            "Stem: piez\n",
            "---\n",
            "Token: n\n",
            "Lema: n\n",
            "Stem: n\n",
            "---\n",
            "Token: tratada\n",
            "Lema: tratado\n",
            "Stem: trat\n",
            "---\n",
            "Token: endodonticamente\n",
            "Lema: endodonticamente\n",
            "Stem: endodont\n",
            "---\n",
            "Token: restaurada\n",
            "Lema: restaurado\n",
            "Stem: restaur\n",
            "---\n",
            "Token: con\n",
            "Lema: con\n",
            "Stem: con\n",
            "---\n",
            "Token: ionomero\n",
            "Lema: ionomero\n",
            "Stem: ionomer\n",
            "---\n",
            "Token: y\n",
            "Lema: y\n",
            "Stem: y\n",
            "---\n",
            "Token: resina\n",
            "Lema: resina\n",
            "Stem: resin\n",
            "---\n",
            "Token: compuesta\n",
            "Lema: compuesto\n",
            "Stem: compuest\n",
            "---\n",
            "Token: necesita\n",
            "Lema: necesitar\n",
            "Stem: necesit\n",
            "---\n",
            "Token: protesis\n",
            "Lema: protesis\n",
            "Stem: protesis\n",
            "---\n",
            "Token: fija\n",
            "Lema: fijo\n",
            "Stem: fij\n",
            "---\n",
            "Token: por\n",
            "Lema: por\n",
            "Stem: por\n",
            "---\n",
            "Token: gran\n",
            "Lema: gran\n",
            "Stem: gran\n",
            "---\n",
            "Token: pnrdida\n",
            "Lema: pnrdida\n",
            "Stem: pnrdid\n",
            "---\n",
            "Token: coronaria\n",
            "Lema: coronario\n",
            "Stem: coronari\n",
            "---\n"
          ]
        }
      ],
      "source": [
        "for t in nlp(spanish_diagnostics_normalized_tokenized[5][\"text\"]):\n",
        "    print(\n",
        "        f\"Token: {t.text}\\nLema: {t.lemma_}\\nStem: {stemmer.stem(t.text)}\\n---\")"
      ]
    }
  ],
  "metadata": {
    "colab": {
      "provenance": []
    },
    "kernelspec": {
      "display_name": "Python 3",
      "language": "python",
      "name": "python3"
    },
    "language_info": {
      "codemirror_mode": {
        "name": "ipython",
        "version": 3
      },
      "file_extension": ".py",
      "mimetype": "text/x-python",
      "name": "python",
      "nbconvert_exporter": "python",
      "pygments_lexer": "ipython3",
      "version": "3.13.3"
    },
    "widgets": {
      "application/vnd.jupyter.widget-state+json": {
        "0f888e15d8754adc91f1dfbb23d884c9": {
          "model_module": "@jupyter-widgets/controls",
          "model_name": "HBoxModel",
          "model_module_version": "1.5.0",
          "state": {
            "_dom_classes": [],
            "_model_module": "@jupyter-widgets/controls",
            "_model_module_version": "1.5.0",
            "_model_name": "HBoxModel",
            "_view_count": null,
            "_view_module": "@jupyter-widgets/controls",
            "_view_module_version": "1.5.0",
            "_view_name": "HBoxView",
            "box_style": "",
            "children": [
              "IPY_MODEL_97b91a38c1204031b0f6d82a2fc6ffc0",
              "IPY_MODEL_98e4d52095674cdf9bbd638ee1f3f75f",
              "IPY_MODEL_a55999c23df446378f8443529149bb44"
            ],
            "layout": "IPY_MODEL_6da099aec90041578d0394ae3b368158"
          }
        },
        "97b91a38c1204031b0f6d82a2fc6ffc0": {
          "model_module": "@jupyter-widgets/controls",
          "model_name": "HTMLModel",
          "model_module_version": "1.5.0",
          "state": {
            "_dom_classes": [],
            "_model_module": "@jupyter-widgets/controls",
            "_model_module_version": "1.5.0",
            "_model_name": "HTMLModel",
            "_view_count": null,
            "_view_module": "@jupyter-widgets/controls",
            "_view_module_version": "1.5.0",
            "_view_name": "HTMLView",
            "description": "",
            "description_tooltip": null,
            "layout": "IPY_MODEL_ea364bba8b0746fa936fab1a4c7b3217",
            "placeholder": "​",
            "style": "IPY_MODEL_d985ffc36e25486b88c7419ec91ee377",
            "value": "Map: 100%"
          }
        },
        "98e4d52095674cdf9bbd638ee1f3f75f": {
          "model_module": "@jupyter-widgets/controls",
          "model_name": "FloatProgressModel",
          "model_module_version": "1.5.0",
          "state": {
            "_dom_classes": [],
            "_model_module": "@jupyter-widgets/controls",
            "_model_module_version": "1.5.0",
            "_model_name": "FloatProgressModel",
            "_view_count": null,
            "_view_module": "@jupyter-widgets/controls",
            "_view_module_version": "1.5.0",
            "_view_name": "ProgressView",
            "bar_style": "success",
            "description": "",
            "description_tooltip": null,
            "layout": "IPY_MODEL_3f137e94d4d04694b790c012c0a06feb",
            "max": 70000,
            "min": 0,
            "orientation": "horizontal",
            "style": "IPY_MODEL_0cc8a8fee37644d5b68197738bffb5ab",
            "value": 70000
          }
        },
        "a55999c23df446378f8443529149bb44": {
          "model_module": "@jupyter-widgets/controls",
          "model_name": "HTMLModel",
          "model_module_version": "1.5.0",
          "state": {
            "_dom_classes": [],
            "_model_module": "@jupyter-widgets/controls",
            "_model_module_version": "1.5.0",
            "_model_name": "HTMLModel",
            "_view_count": null,
            "_view_module": "@jupyter-widgets/controls",
            "_view_module_version": "1.5.0",
            "_view_name": "HTMLView",
            "description": "",
            "description_tooltip": null,
            "layout": "IPY_MODEL_74decc76d24343289cf311c0ad8117ee",
            "placeholder": "​",
            "style": "IPY_MODEL_a9d4e6eb45a7465d82995502c498a27f",
            "value": " 70000/70000 [00:16&lt;00:00, 7674.49 examples/s]"
          }
        },
        "6da099aec90041578d0394ae3b368158": {
          "model_module": "@jupyter-widgets/base",
          "model_name": "LayoutModel",
          "model_module_version": "1.2.0",
          "state": {
            "_model_module": "@jupyter-widgets/base",
            "_model_module_version": "1.2.0",
            "_model_name": "LayoutModel",
            "_view_count": null,
            "_view_module": "@jupyter-widgets/base",
            "_view_module_version": "1.2.0",
            "_view_name": "LayoutView",
            "align_content": null,
            "align_items": null,
            "align_self": null,
            "border": null,
            "bottom": null,
            "display": null,
            "flex": null,
            "flex_flow": null,
            "grid_area": null,
            "grid_auto_columns": null,
            "grid_auto_flow": null,
            "grid_auto_rows": null,
            "grid_column": null,
            "grid_gap": null,
            "grid_row": null,
            "grid_template_areas": null,
            "grid_template_columns": null,
            "grid_template_rows": null,
            "height": null,
            "justify_content": null,
            "justify_items": null,
            "left": null,
            "margin": null,
            "max_height": null,
            "max_width": null,
            "min_height": null,
            "min_width": null,
            "object_fit": null,
            "object_position": null,
            "order": null,
            "overflow": null,
            "overflow_x": null,
            "overflow_y": null,
            "padding": null,
            "right": null,
            "top": null,
            "visibility": null,
            "width": null
          }
        },
        "ea364bba8b0746fa936fab1a4c7b3217": {
          "model_module": "@jupyter-widgets/base",
          "model_name": "LayoutModel",
          "model_module_version": "1.2.0",
          "state": {
            "_model_module": "@jupyter-widgets/base",
            "_model_module_version": "1.2.0",
            "_model_name": "LayoutModel",
            "_view_count": null,
            "_view_module": "@jupyter-widgets/base",
            "_view_module_version": "1.2.0",
            "_view_name": "LayoutView",
            "align_content": null,
            "align_items": null,
            "align_self": null,
            "border": null,
            "bottom": null,
            "display": null,
            "flex": null,
            "flex_flow": null,
            "grid_area": null,
            "grid_auto_columns": null,
            "grid_auto_flow": null,
            "grid_auto_rows": null,
            "grid_column": null,
            "grid_gap": null,
            "grid_row": null,
            "grid_template_areas": null,
            "grid_template_columns": null,
            "grid_template_rows": null,
            "height": null,
            "justify_content": null,
            "justify_items": null,
            "left": null,
            "margin": null,
            "max_height": null,
            "max_width": null,
            "min_height": null,
            "min_width": null,
            "object_fit": null,
            "object_position": null,
            "order": null,
            "overflow": null,
            "overflow_x": null,
            "overflow_y": null,
            "padding": null,
            "right": null,
            "top": null,
            "visibility": null,
            "width": null
          }
        },
        "d985ffc36e25486b88c7419ec91ee377": {
          "model_module": "@jupyter-widgets/controls",
          "model_name": "DescriptionStyleModel",
          "model_module_version": "1.5.0",
          "state": {
            "_model_module": "@jupyter-widgets/controls",
            "_model_module_version": "1.5.0",
            "_model_name": "DescriptionStyleModel",
            "_view_count": null,
            "_view_module": "@jupyter-widgets/base",
            "_view_module_version": "1.2.0",
            "_view_name": "StyleView",
            "description_width": ""
          }
        },
        "3f137e94d4d04694b790c012c0a06feb": {
          "model_module": "@jupyter-widgets/base",
          "model_name": "LayoutModel",
          "model_module_version": "1.2.0",
          "state": {
            "_model_module": "@jupyter-widgets/base",
            "_model_module_version": "1.2.0",
            "_model_name": "LayoutModel",
            "_view_count": null,
            "_view_module": "@jupyter-widgets/base",
            "_view_module_version": "1.2.0",
            "_view_name": "LayoutView",
            "align_content": null,
            "align_items": null,
            "align_self": null,
            "border": null,
            "bottom": null,
            "display": null,
            "flex": null,
            "flex_flow": null,
            "grid_area": null,
            "grid_auto_columns": null,
            "grid_auto_flow": null,
            "grid_auto_rows": null,
            "grid_column": null,
            "grid_gap": null,
            "grid_row": null,
            "grid_template_areas": null,
            "grid_template_columns": null,
            "grid_template_rows": null,
            "height": null,
            "justify_content": null,
            "justify_items": null,
            "left": null,
            "margin": null,
            "max_height": null,
            "max_width": null,
            "min_height": null,
            "min_width": null,
            "object_fit": null,
            "object_position": null,
            "order": null,
            "overflow": null,
            "overflow_x": null,
            "overflow_y": null,
            "padding": null,
            "right": null,
            "top": null,
            "visibility": null,
            "width": null
          }
        },
        "0cc8a8fee37644d5b68197738bffb5ab": {
          "model_module": "@jupyter-widgets/controls",
          "model_name": "ProgressStyleModel",
          "model_module_version": "1.5.0",
          "state": {
            "_model_module": "@jupyter-widgets/controls",
            "_model_module_version": "1.5.0",
            "_model_name": "ProgressStyleModel",
            "_view_count": null,
            "_view_module": "@jupyter-widgets/base",
            "_view_module_version": "1.2.0",
            "_view_name": "StyleView",
            "bar_color": null,
            "description_width": ""
          }
        },
        "74decc76d24343289cf311c0ad8117ee": {
          "model_module": "@jupyter-widgets/base",
          "model_name": "LayoutModel",
          "model_module_version": "1.2.0",
          "state": {
            "_model_module": "@jupyter-widgets/base",
            "_model_module_version": "1.2.0",
            "_model_name": "LayoutModel",
            "_view_count": null,
            "_view_module": "@jupyter-widgets/base",
            "_view_module_version": "1.2.0",
            "_view_name": "LayoutView",
            "align_content": null,
            "align_items": null,
            "align_self": null,
            "border": null,
            "bottom": null,
            "display": null,
            "flex": null,
            "flex_flow": null,
            "grid_area": null,
            "grid_auto_columns": null,
            "grid_auto_flow": null,
            "grid_auto_rows": null,
            "grid_column": null,
            "grid_gap": null,
            "grid_row": null,
            "grid_template_areas": null,
            "grid_template_columns": null,
            "grid_template_rows": null,
            "height": null,
            "justify_content": null,
            "justify_items": null,
            "left": null,
            "margin": null,
            "max_height": null,
            "max_width": null,
            "min_height": null,
            "min_width": null,
            "object_fit": null,
            "object_position": null,
            "order": null,
            "overflow": null,
            "overflow_x": null,
            "overflow_y": null,
            "padding": null,
            "right": null,
            "top": null,
            "visibility": null,
            "width": null
          }
        },
        "a9d4e6eb45a7465d82995502c498a27f": {
          "model_module": "@jupyter-widgets/controls",
          "model_name": "DescriptionStyleModel",
          "model_module_version": "1.5.0",
          "state": {
            "_model_module": "@jupyter-widgets/controls",
            "_model_module_version": "1.5.0",
            "_model_name": "DescriptionStyleModel",
            "_view_count": null,
            "_view_module": "@jupyter-widgets/base",
            "_view_module_version": "1.2.0",
            "_view_name": "StyleView",
            "description_width": ""
          }
        }
      }
    }
  },
  "nbformat": 4,
  "nbformat_minor": 0
}